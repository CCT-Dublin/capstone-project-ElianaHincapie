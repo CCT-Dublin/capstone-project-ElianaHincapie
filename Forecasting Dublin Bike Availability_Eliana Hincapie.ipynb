{
 "cells": [
  {
   "cell_type": "markdown",
   "id": "6e6c737e",
   "metadata": {},
   "source": [
    "# Forecasting Dublin Bike Availability Using Machine Learning Models\n",
    "\n",
    "\n",
    "\n",
    "## CA3 Capstone Project Strategic Thinking\n",
    "### Eliana Hincapie"
   ]
  },
  {
   "cell_type": "markdown",
   "id": "bb62b33b",
   "metadata": {},
   "source": [
    "The primary objective of this project is to develop machine learning models capable of accurately forecasting the availability of bicycles at individual Dublin Bikes stations. "
   ]
  },
  {
   "cell_type": "code",
   "execution_count": 1,
   "id": "14dca641",
   "metadata": {},
   "outputs": [],
   "source": [
    "#Import libraries\n",
    "import pandas as pd\n",
    "import numpy as np\n",
    "import matplotlib.pyplot as plt\n",
    "import seaborn as sns"
   ]
  },
  {
   "cell_type": "code",
   "execution_count": 2,
   "id": "1bf337ea",
   "metadata": {},
   "outputs": [],
   "source": [
    "import warnings \n",
    "\n",
    "warnings.filterwarnings('ignore')"
   ]
  },
  {
   "cell_type": "code",
   "execution_count": 3,
   "id": "30831fa9",
   "metadata": {},
   "outputs": [],
   "source": [
    "#Load dataset\n",
    "df = pd.read_csv('dublin-bikes_station_status_122024.csv')"
   ]
  },
  {
   "cell_type": "markdown",
   "id": "d455ca5d",
   "metadata": {},
   "source": [
    "#### Understanding the Data"
   ]
  },
  {
   "cell_type": "code",
   "execution_count": 4,
   "id": "a42f9ebf",
   "metadata": {},
   "outputs": [
    {
     "data": {
      "text/html": [
       "<div>\n",
       "<style scoped>\n",
       "    .dataframe tbody tr th:only-of-type {\n",
       "        vertical-align: middle;\n",
       "    }\n",
       "\n",
       "    .dataframe tbody tr th {\n",
       "        vertical-align: top;\n",
       "    }\n",
       "\n",
       "    .dataframe thead th {\n",
       "        text-align: right;\n",
       "    }\n",
       "</style>\n",
       "<table border=\"1\" class=\"dataframe\">\n",
       "  <thead>\n",
       "    <tr style=\"text-align: right;\">\n",
       "      <th></th>\n",
       "      <th>system_id</th>\n",
       "      <th>last_reported</th>\n",
       "      <th>station_id</th>\n",
       "      <th>num_bikes_available</th>\n",
       "      <th>num_docks_available</th>\n",
       "      <th>is_installed</th>\n",
       "      <th>is_renting</th>\n",
       "      <th>is_returning</th>\n",
       "      <th>name</th>\n",
       "      <th>short_name</th>\n",
       "      <th>address</th>\n",
       "      <th>lat</th>\n",
       "      <th>lon</th>\n",
       "      <th>region_id</th>\n",
       "      <th>capacity</th>\n",
       "    </tr>\n",
       "  </thead>\n",
       "  <tbody>\n",
       "    <tr>\n",
       "      <th>0</th>\n",
       "      <td>dublin_bikes</td>\n",
       "      <td>2024-12-01 00:05:00</td>\n",
       "      <td>1</td>\n",
       "      <td>22</td>\n",
       "      <td>9</td>\n",
       "      <td>True</td>\n",
       "      <td>True</td>\n",
       "      <td>True</td>\n",
       "      <td>CLARENDON ROW</td>\n",
       "      <td>NaN</td>\n",
       "      <td>Clarendon Row</td>\n",
       "      <td>53.340927</td>\n",
       "      <td>-6.262501</td>\n",
       "      <td>NaN</td>\n",
       "      <td>31</td>\n",
       "    </tr>\n",
       "    <tr>\n",
       "      <th>1</th>\n",
       "      <td>dublin_bikes</td>\n",
       "      <td>2024-12-01 00:05:00</td>\n",
       "      <td>101</td>\n",
       "      <td>10</td>\n",
       "      <td>20</td>\n",
       "      <td>True</td>\n",
       "      <td>True</td>\n",
       "      <td>True</td>\n",
       "      <td>KING STREET NORTH</td>\n",
       "      <td>NaN</td>\n",
       "      <td>King Street North</td>\n",
       "      <td>53.350292</td>\n",
       "      <td>-6.273507</td>\n",
       "      <td>NaN</td>\n",
       "      <td>30</td>\n",
       "    </tr>\n",
       "    <tr>\n",
       "      <th>2</th>\n",
       "      <td>dublin_bikes</td>\n",
       "      <td>2024-12-01 00:05:00</td>\n",
       "      <td>102</td>\n",
       "      <td>2</td>\n",
       "      <td>38</td>\n",
       "      <td>True</td>\n",
       "      <td>True</td>\n",
       "      <td>True</td>\n",
       "      <td>WESTERN WAY</td>\n",
       "      <td>NaN</td>\n",
       "      <td>Western Way</td>\n",
       "      <td>53.354930</td>\n",
       "      <td>-6.269425</td>\n",
       "      <td>NaN</td>\n",
       "      <td>40</td>\n",
       "    </tr>\n",
       "    <tr>\n",
       "      <th>3</th>\n",
       "      <td>dublin_bikes</td>\n",
       "      <td>2024-12-01 00:05:00</td>\n",
       "      <td>103</td>\n",
       "      <td>0</td>\n",
       "      <td>40</td>\n",
       "      <td>True</td>\n",
       "      <td>True</td>\n",
       "      <td>True</td>\n",
       "      <td>GRANGEGORMAN LOWER (SOUTH)</td>\n",
       "      <td>NaN</td>\n",
       "      <td>Grangegorman Lower (South)</td>\n",
       "      <td>53.354664</td>\n",
       "      <td>-6.278681</td>\n",
       "      <td>NaN</td>\n",
       "      <td>40</td>\n",
       "    </tr>\n",
       "    <tr>\n",
       "      <th>4</th>\n",
       "      <td>dublin_bikes</td>\n",
       "      <td>2024-12-01 00:05:00</td>\n",
       "      <td>104</td>\n",
       "      <td>0</td>\n",
       "      <td>40</td>\n",
       "      <td>True</td>\n",
       "      <td>True</td>\n",
       "      <td>True</td>\n",
       "      <td>GRANGEGORMAN LOWER (CENTRAL)</td>\n",
       "      <td>NaN</td>\n",
       "      <td>Grangegorman Lower (Central)</td>\n",
       "      <td>53.355170</td>\n",
       "      <td>-6.278424</td>\n",
       "      <td>NaN</td>\n",
       "      <td>40</td>\n",
       "    </tr>\n",
       "  </tbody>\n",
       "</table>\n",
       "</div>"
      ],
      "text/plain": [
       "      system_id        last_reported  station_id  num_bikes_available  \\\n",
       "0  dublin_bikes  2024-12-01 00:05:00           1                   22   \n",
       "1  dublin_bikes  2024-12-01 00:05:00         101                   10   \n",
       "2  dublin_bikes  2024-12-01 00:05:00         102                    2   \n",
       "3  dublin_bikes  2024-12-01 00:05:00         103                    0   \n",
       "4  dublin_bikes  2024-12-01 00:05:00         104                    0   \n",
       "\n",
       "   num_docks_available  is_installed  is_renting  is_returning  \\\n",
       "0                    9          True        True          True   \n",
       "1                   20          True        True          True   \n",
       "2                   38          True        True          True   \n",
       "3                   40          True        True          True   \n",
       "4                   40          True        True          True   \n",
       "\n",
       "                           name  short_name                       address  \\\n",
       "0                 CLARENDON ROW         NaN                 Clarendon Row   \n",
       "1             KING STREET NORTH         NaN             King Street North   \n",
       "2                   WESTERN WAY         NaN                   Western Way   \n",
       "3    GRANGEGORMAN LOWER (SOUTH)         NaN    Grangegorman Lower (South)   \n",
       "4  GRANGEGORMAN LOWER (CENTRAL)         NaN  Grangegorman Lower (Central)   \n",
       "\n",
       "         lat       lon  region_id  capacity  \n",
       "0  53.340927 -6.262501        NaN        31  \n",
       "1  53.350292 -6.273507        NaN        30  \n",
       "2  53.354930 -6.269425        NaN        40  \n",
       "3  53.354664 -6.278681        NaN        40  \n",
       "4  53.355170 -6.278424        NaN        40  "
      ]
     },
     "execution_count": 4,
     "metadata": {},
     "output_type": "execute_result"
    }
   ],
   "source": [
    "#Preview data\n",
    "df.head()"
   ]
  },
  {
   "cell_type": "code",
   "execution_count": 5,
   "id": "6f18c645",
   "metadata": {},
   "outputs": [
    {
     "name": "stdout",
     "output_type": "stream",
     "text": [
      "<class 'pandas.core.frame.DataFrame'>\n",
      "RangeIndex: 605009 entries, 0 to 605008\n",
      "Data columns (total 15 columns):\n",
      " #   Column               Non-Null Count   Dtype  \n",
      "---  ------               --------------   -----  \n",
      " 0   system_id            605009 non-null  object \n",
      " 1   last_reported        605009 non-null  object \n",
      " 2   station_id           605009 non-null  int64  \n",
      " 3   num_bikes_available  605009 non-null  int64  \n",
      " 4   num_docks_available  605009 non-null  int64  \n",
      " 5   is_installed         605009 non-null  bool   \n",
      " 6   is_renting           605009 non-null  bool   \n",
      " 7   is_returning         605009 non-null  bool   \n",
      " 8   name                 605009 non-null  object \n",
      " 9   short_name           0 non-null       float64\n",
      " 10  address              605009 non-null  object \n",
      " 11  lat                  605009 non-null  float64\n",
      " 12  lon                  605009 non-null  float64\n",
      " 13  region_id            0 non-null       float64\n",
      " 14  capacity             605009 non-null  int64  \n",
      "dtypes: bool(3), float64(4), int64(4), object(4)\n",
      "memory usage: 57.1+ MB\n"
     ]
    }
   ],
   "source": [
    "#Basic info and shape\n",
    "df.info()"
   ]
  },
  {
   "cell_type": "code",
   "execution_count": 6,
   "id": "e2806876",
   "metadata": {},
   "outputs": [
    {
     "data": {
      "text/plain": [
       "(605009, 15)"
      ]
     },
     "execution_count": 6,
     "metadata": {},
     "output_type": "execute_result"
    }
   ],
   "source": [
    "df.shape"
   ]
  },
  {
   "cell_type": "code",
   "execution_count": 7,
   "id": "63e3cbf7",
   "metadata": {},
   "outputs": [
    {
     "data": {
      "text/html": [
       "<div>\n",
       "<style scoped>\n",
       "    .dataframe tbody tr th:only-of-type {\n",
       "        vertical-align: middle;\n",
       "    }\n",
       "\n",
       "    .dataframe tbody tr th {\n",
       "        vertical-align: top;\n",
       "    }\n",
       "\n",
       "    .dataframe thead th {\n",
       "        text-align: right;\n",
       "    }\n",
       "</style>\n",
       "<table border=\"1\" class=\"dataframe\">\n",
       "  <thead>\n",
       "    <tr style=\"text-align: right;\">\n",
       "      <th></th>\n",
       "      <th>station_id</th>\n",
       "      <th>num_bikes_available</th>\n",
       "      <th>num_docks_available</th>\n",
       "      <th>short_name</th>\n",
       "      <th>lat</th>\n",
       "      <th>lon</th>\n",
       "      <th>region_id</th>\n",
       "      <th>capacity</th>\n",
       "    </tr>\n",
       "  </thead>\n",
       "  <tbody>\n",
       "    <tr>\n",
       "      <th>count</th>\n",
       "      <td>605009.000000</td>\n",
       "      <td>605009.000000</td>\n",
       "      <td>605009.00000</td>\n",
       "      <td>0.0</td>\n",
       "      <td>605009.000000</td>\n",
       "      <td>605009.000000</td>\n",
       "      <td>0.0</td>\n",
       "      <td>605009.000000</td>\n",
       "    </tr>\n",
       "    <tr>\n",
       "      <th>mean</th>\n",
       "      <td>57.951001</td>\n",
       "      <td>12.308017</td>\n",
       "      <td>19.21137</td>\n",
       "      <td>NaN</td>\n",
       "      <td>53.345457</td>\n",
       "      <td>-6.263820</td>\n",
       "      <td>NaN</td>\n",
       "      <td>31.964569</td>\n",
       "    </tr>\n",
       "    <tr>\n",
       "      <th>std</th>\n",
       "      <td>33.974053</td>\n",
       "      <td>9.713911</td>\n",
       "      <td>10.91414</td>\n",
       "      <td>NaN</td>\n",
       "      <td>0.007517</td>\n",
       "      <td>0.017848</td>\n",
       "      <td>NaN</td>\n",
       "      <td>7.441581</td>\n",
       "    </tr>\n",
       "    <tr>\n",
       "      <th>min</th>\n",
       "      <td>1.000000</td>\n",
       "      <td>0.000000</td>\n",
       "      <td>0.00000</td>\n",
       "      <td>NaN</td>\n",
       "      <td>53.330090</td>\n",
       "      <td>-6.310015</td>\n",
       "      <td>NaN</td>\n",
       "      <td>16.000000</td>\n",
       "    </tr>\n",
       "    <tr>\n",
       "      <th>25%</th>\n",
       "      <td>28.000000</td>\n",
       "      <td>4.000000</td>\n",
       "      <td>11.00000</td>\n",
       "      <td>NaN</td>\n",
       "      <td>53.339764</td>\n",
       "      <td>-6.275071</td>\n",
       "      <td>NaN</td>\n",
       "      <td>29.000000</td>\n",
       "    </tr>\n",
       "    <tr>\n",
       "      <th>50%</th>\n",
       "      <td>58.000000</td>\n",
       "      <td>11.000000</td>\n",
       "      <td>19.00000</td>\n",
       "      <td>NaN</td>\n",
       "      <td>53.344604</td>\n",
       "      <td>-6.262501</td>\n",
       "      <td>NaN</td>\n",
       "      <td>30.000000</td>\n",
       "    </tr>\n",
       "    <tr>\n",
       "      <th>75%</th>\n",
       "      <td>88.000000</td>\n",
       "      <td>19.000000</td>\n",
       "      <td>27.00000</td>\n",
       "      <td>NaN</td>\n",
       "      <td>53.350292</td>\n",
       "      <td>-6.250900</td>\n",
       "      <td>NaN</td>\n",
       "      <td>40.000000</td>\n",
       "    </tr>\n",
       "    <tr>\n",
       "      <th>max</th>\n",
       "      <td>117.000000</td>\n",
       "      <td>40.000000</td>\n",
       "      <td>40.00000</td>\n",
       "      <td>NaN</td>\n",
       "      <td>53.359966</td>\n",
       "      <td>-6.230852</td>\n",
       "      <td>NaN</td>\n",
       "      <td>40.000000</td>\n",
       "    </tr>\n",
       "  </tbody>\n",
       "</table>\n",
       "</div>"
      ],
      "text/plain": [
       "          station_id  num_bikes_available  num_docks_available  short_name  \\\n",
       "count  605009.000000        605009.000000         605009.00000         0.0   \n",
       "mean       57.951001            12.308017             19.21137         NaN   \n",
       "std        33.974053             9.713911             10.91414         NaN   \n",
       "min         1.000000             0.000000              0.00000         NaN   \n",
       "25%        28.000000             4.000000             11.00000         NaN   \n",
       "50%        58.000000            11.000000             19.00000         NaN   \n",
       "75%        88.000000            19.000000             27.00000         NaN   \n",
       "max       117.000000            40.000000             40.00000         NaN   \n",
       "\n",
       "                 lat            lon  region_id       capacity  \n",
       "count  605009.000000  605009.000000        0.0  605009.000000  \n",
       "mean       53.345457      -6.263820        NaN      31.964569  \n",
       "std         0.007517       0.017848        NaN       7.441581  \n",
       "min        53.330090      -6.310015        NaN      16.000000  \n",
       "25%        53.339764      -6.275071        NaN      29.000000  \n",
       "50%        53.344604      -6.262501        NaN      30.000000  \n",
       "75%        53.350292      -6.250900        NaN      40.000000  \n",
       "max        53.359966      -6.230852        NaN      40.000000  "
      ]
     },
     "execution_count": 7,
     "metadata": {},
     "output_type": "execute_result"
    }
   ],
   "source": [
    "#Descriptive statistics (numerical)\n",
    "df.describe()"
   ]
  },
  {
   "cell_type": "code",
   "execution_count": 8,
   "id": "b5723712",
   "metadata": {},
   "outputs": [
    {
     "data": {
      "text/plain": [
       "system_id                   0\n",
       "last_reported               0\n",
       "station_id                  0\n",
       "num_bikes_available         0\n",
       "num_docks_available         0\n",
       "is_installed                0\n",
       "is_renting                  0\n",
       "is_returning                0\n",
       "name                        0\n",
       "short_name             605009\n",
       "address                     0\n",
       "lat                         0\n",
       "lon                         0\n",
       "region_id              605009\n",
       "capacity                    0\n",
       "dtype: int64"
      ]
     },
     "execution_count": 8,
     "metadata": {},
     "output_type": "execute_result"
    }
   ],
   "source": [
    "#Missing values\n",
    "df.isnull().sum()"
   ]
  },
  {
   "cell_type": "code",
   "execution_count": 9,
   "id": "274df2a0",
   "metadata": {},
   "outputs": [
    {
     "data": {
      "text/plain": [
       "0"
      ]
     },
     "execution_count": 9,
     "metadata": {},
     "output_type": "execute_result"
    }
   ],
   "source": [
    "#Duplicates\n",
    "df.duplicated().sum()"
   ]
  },
  {
   "cell_type": "code",
   "execution_count": 10,
   "id": "a3121a5c",
   "metadata": {},
   "outputs": [
    {
     "data": {
      "text/html": [
       "<div>\n",
       "<style scoped>\n",
       "    .dataframe tbody tr th:only-of-type {\n",
       "        vertical-align: middle;\n",
       "    }\n",
       "\n",
       "    .dataframe tbody tr th {\n",
       "        vertical-align: top;\n",
       "    }\n",
       "\n",
       "    .dataframe thead th {\n",
       "        text-align: right;\n",
       "    }\n",
       "</style>\n",
       "<table border=\"1\" class=\"dataframe\">\n",
       "  <thead>\n",
       "    <tr style=\"text-align: right;\">\n",
       "      <th></th>\n",
       "      <th>station_id</th>\n",
       "      <th>capacity</th>\n",
       "    </tr>\n",
       "  </thead>\n",
       "  <tbody>\n",
       "    <tr>\n",
       "      <th>0</th>\n",
       "      <td>1</td>\n",
       "      <td>31</td>\n",
       "    </tr>\n",
       "    <tr>\n",
       "      <th>1</th>\n",
       "      <td>2</td>\n",
       "      <td>20</td>\n",
       "    </tr>\n",
       "    <tr>\n",
       "      <th>2</th>\n",
       "      <td>3</td>\n",
       "      <td>20</td>\n",
       "    </tr>\n",
       "    <tr>\n",
       "      <th>3</th>\n",
       "      <td>4</td>\n",
       "      <td>20</td>\n",
       "    </tr>\n",
       "    <tr>\n",
       "      <th>4</th>\n",
       "      <td>5</td>\n",
       "      <td>40</td>\n",
       "    </tr>\n",
       "    <tr>\n",
       "      <th>...</th>\n",
       "      <td>...</td>\n",
       "      <td>...</td>\n",
       "    </tr>\n",
       "    <tr>\n",
       "      <th>110</th>\n",
       "      <td>113</td>\n",
       "      <td>40</td>\n",
       "    </tr>\n",
       "    <tr>\n",
       "      <th>111</th>\n",
       "      <td>114</td>\n",
       "      <td>40</td>\n",
       "    </tr>\n",
       "    <tr>\n",
       "      <th>112</th>\n",
       "      <td>115</td>\n",
       "      <td>30</td>\n",
       "    </tr>\n",
       "    <tr>\n",
       "      <th>113</th>\n",
       "      <td>116</td>\n",
       "      <td>30</td>\n",
       "    </tr>\n",
       "    <tr>\n",
       "      <th>114</th>\n",
       "      <td>117</td>\n",
       "      <td>40</td>\n",
       "    </tr>\n",
       "  </tbody>\n",
       "</table>\n",
       "<p>115 rows × 2 columns</p>\n",
       "</div>"
      ],
      "text/plain": [
       "     station_id  capacity\n",
       "0             1        31\n",
       "1             2        20\n",
       "2             3        20\n",
       "3             4        20\n",
       "4             5        40\n",
       "..          ...       ...\n",
       "110         113        40\n",
       "111         114        40\n",
       "112         115        30\n",
       "113         116        30\n",
       "114         117        40\n",
       "\n",
       "[115 rows x 2 columns]"
      ]
     },
     "execution_count": 10,
     "metadata": {},
     "output_type": "execute_result"
    }
   ],
   "source": [
    "#Group by station and get the maximum capacity (bike_stands)\n",
    "station_capacity = df.groupby('station_id')['capacity'].max().reset_index()\n",
    "station_capacity"
   ]
  },
  {
   "cell_type": "code",
   "execution_count": 11,
   "id": "739dad8c",
   "metadata": {},
   "outputs": [
    {
     "data": {
      "image/png": "[encoded data removed]",
      "text/plain": [
       "<Figure size 640x480 with 1 Axes>"
      ]
     },
     "metadata": {},
     "output_type": "display_data"
    }
   ],
   "source": [
    "sns.countplot(data=df, x='capacity')\n",
    "plt.title('Distribution of Station capacity')\n",
    "plt.show()"
   ]
  },
  {
   "cell_type": "markdown",
   "id": "986308d5",
   "metadata": {},
   "source": [
    "#### Data Preparation"
   ]
  },
  {
   "cell_type": "markdown",
   "id": "2ca5261d",
   "metadata": {},
   "source": [
    "The missing values are in the 'short_name' and 'region_id' columns, we are going to drop both columns taking into account that null values are 100% for both columns and were not critical for forecasting bike availability."
   ]
  },
  {
   "cell_type": "code",
   "execution_count": 12,
   "id": "1b0a9fd6",
   "metadata": {},
   "outputs": [],
   "source": [
    "#Drop specific columns\n",
    "df = df.drop(columns=['short_name', 'region_id'])"
   ]
  },
  {
   "cell_type": "code",
   "execution_count": 13,
   "id": "b4183ffa",
   "metadata": {},
   "outputs": [
    {
     "data": {
      "text/plain": [
       "system_id              0\n",
       "last_reported          0\n",
       "station_id             0\n",
       "num_bikes_available    0\n",
       "num_docks_available    0\n",
       "is_installed           0\n",
       "is_renting             0\n",
       "is_returning           0\n",
       "name                   0\n",
       "address                0\n",
       "lat                    0\n",
       "lon                    0\n",
       "capacity               0\n",
       "dtype: int64"
      ]
     },
     "execution_count": 13,
     "metadata": {},
     "output_type": "execute_result"
    }
   ],
   "source": [
    "#Confirm Missing values\n",
    "df.isnull().sum()"
   ]
  },
  {
   "cell_type": "markdown",
   "id": "55586134",
   "metadata": {},
   "source": [
    "With the preview of the data in the understanding process, we can see that can be some attributes that have the same data, which are: system_id, is_installed, is_renting and is_returning.\n",
    "We are going to check it to define if them are or not useful in our dataset."
   ]
  },
  {
   "cell_type": "code",
   "execution_count": 14,
   "id": "65d45912",
   "metadata": {},
   "outputs": [
    {
     "data": {
      "text/plain": [
       "array(['dublin_bikes'], dtype=object)"
      ]
     },
     "execution_count": 14,
     "metadata": {},
     "output_type": "execute_result"
    }
   ],
   "source": [
    "df['system_id'].unique()"
   ]
  },
  {
   "cell_type": "code",
   "execution_count": 15,
   "id": "f2e481ce",
   "metadata": {},
   "outputs": [
    {
     "data": {
      "text/plain": [
       "array([ True])"
      ]
     },
     "execution_count": 15,
     "metadata": {},
     "output_type": "execute_result"
    }
   ],
   "source": [
    "df['is_installed'].unique()"
   ]
  },
  {
   "cell_type": "code",
   "execution_count": 16,
   "id": "025bdf8f",
   "metadata": {},
   "outputs": [
    {
     "data": {
      "text/plain": [
       "array([ True])"
      ]
     },
     "execution_count": 16,
     "metadata": {},
     "output_type": "execute_result"
    }
   ],
   "source": [
    "df['is_renting'].unique()"
   ]
  },
  {
   "cell_type": "code",
   "execution_count": 17,
   "id": "7f1195f6",
   "metadata": {},
   "outputs": [
    {
     "data": {
      "text/plain": [
       "array([ True])"
      ]
     },
     "execution_count": 17,
     "metadata": {},
     "output_type": "execute_result"
    }
   ],
   "source": [
    "df['is_returning'].unique()"
   ]
  },
  {
   "cell_type": "markdown",
   "id": "9b323557",
   "metadata": {},
   "source": [
    "Taking into consideration that this attributes have the same value and there are not an important input for our forecast, we are going to drop them all."
   ]
  },
  {
   "cell_type": "code",
   "execution_count": 18,
   "id": "faf9e826",
   "metadata": {},
   "outputs": [],
   "source": [
    "#Drop columns\n",
    "df = df.drop(columns=['system_id', 'is_installed', 'is_renting', 'is_returning'])"
   ]
  },
  {
   "cell_type": "code",
   "execution_count": 19,
   "id": "32094455",
   "metadata": {},
   "outputs": [
    {
     "data": {
      "text/html": [
       "<div>\n",
       "<style scoped>\n",
       "    .dataframe tbody tr th:only-of-type {\n",
       "        vertical-align: middle;\n",
       "    }\n",
       "\n",
       "    .dataframe tbody tr th {\n",
       "        vertical-align: top;\n",
       "    }\n",
       "\n",
       "    .dataframe thead th {\n",
       "        text-align: right;\n",
       "    }\n",
       "</style>\n",
       "<table border=\"1\" class=\"dataframe\">\n",
       "  <thead>\n",
       "    <tr style=\"text-align: right;\">\n",
       "      <th></th>\n",
       "      <th>last_reported</th>\n",
       "      <th>station_id</th>\n",
       "      <th>num_bikes_available</th>\n",
       "      <th>num_docks_available</th>\n",
       "      <th>name</th>\n",
       "      <th>address</th>\n",
       "      <th>lat</th>\n",
       "      <th>lon</th>\n",
       "      <th>capacity</th>\n",
       "    </tr>\n",
       "  </thead>\n",
       "  <tbody>\n",
       "    <tr>\n",
       "      <th>0</th>\n",
       "      <td>2024-12-01 00:05:00</td>\n",
       "      <td>1</td>\n",
       "      <td>22</td>\n",
       "      <td>9</td>\n",
       "      <td>CLARENDON ROW</td>\n",
       "      <td>Clarendon Row</td>\n",
       "      <td>53.340927</td>\n",
       "      <td>-6.262501</td>\n",
       "      <td>31</td>\n",
       "    </tr>\n",
       "    <tr>\n",
       "      <th>1</th>\n",
       "      <td>2024-12-01 00:05:00</td>\n",
       "      <td>101</td>\n",
       "      <td>10</td>\n",
       "      <td>20</td>\n",
       "      <td>KING STREET NORTH</td>\n",
       "      <td>King Street North</td>\n",
       "      <td>53.350292</td>\n",
       "      <td>-6.273507</td>\n",
       "      <td>30</td>\n",
       "    </tr>\n",
       "    <tr>\n",
       "      <th>2</th>\n",
       "      <td>2024-12-01 00:05:00</td>\n",
       "      <td>102</td>\n",
       "      <td>2</td>\n",
       "      <td>38</td>\n",
       "      <td>WESTERN WAY</td>\n",
       "      <td>Western Way</td>\n",
       "      <td>53.354930</td>\n",
       "      <td>-6.269425</td>\n",
       "      <td>40</td>\n",
       "    </tr>\n",
       "    <tr>\n",
       "      <th>3</th>\n",
       "      <td>2024-12-01 00:05:00</td>\n",
       "      <td>103</td>\n",
       "      <td>0</td>\n",
       "      <td>40</td>\n",
       "      <td>GRANGEGORMAN LOWER (SOUTH)</td>\n",
       "      <td>Grangegorman Lower (South)</td>\n",
       "      <td>53.354664</td>\n",
       "      <td>-6.278681</td>\n",
       "      <td>40</td>\n",
       "    </tr>\n",
       "    <tr>\n",
       "      <th>4</th>\n",
       "      <td>2024-12-01 00:05:00</td>\n",
       "      <td>104</td>\n",
       "      <td>0</td>\n",
       "      <td>40</td>\n",
       "      <td>GRANGEGORMAN LOWER (CENTRAL)</td>\n",
       "      <td>Grangegorman Lower (Central)</td>\n",
       "      <td>53.355170</td>\n",
       "      <td>-6.278424</td>\n",
       "      <td>40</td>\n",
       "    </tr>\n",
       "  </tbody>\n",
       "</table>\n",
       "</div>"
      ],
      "text/plain": [
       "         last_reported  station_id  num_bikes_available  num_docks_available  \\\n",
       "0  2024-12-01 00:05:00           1                   22                    9   \n",
       "1  2024-12-01 00:05:00         101                   10                   20   \n",
       "2  2024-12-01 00:05:00         102                    2                   38   \n",
       "3  2024-12-01 00:05:00         103                    0                   40   \n",
       "4  2024-12-01 00:05:00         104                    0                   40   \n",
       "\n",
       "                           name                       address        lat  \\\n",
       "0                 CLARENDON ROW                 Clarendon Row  53.340927   \n",
       "1             KING STREET NORTH             King Street North  53.350292   \n",
       "2                   WESTERN WAY                   Western Way  53.354930   \n",
       "3    GRANGEGORMAN LOWER (SOUTH)    Grangegorman Lower (South)  53.354664   \n",
       "4  GRANGEGORMAN LOWER (CENTRAL)  Grangegorman Lower (Central)  53.355170   \n",
       "\n",
       "        lon  capacity  \n",
       "0 -6.262501        31  \n",
       "1 -6.273507        30  \n",
       "2 -6.269425        40  \n",
       "3 -6.278681        40  \n",
       "4 -6.278424        40  "
      ]
     },
     "execution_count": 19,
     "metadata": {},
     "output_type": "execute_result"
    }
   ],
   "source": [
    "#Preview data\n",
    "df.head()"
   ]
  },
  {
   "cell_type": "code",
   "execution_count": 20,
   "id": "5988def3",
   "metadata": {},
   "outputs": [
    {
     "data": {
      "text/plain": [
       "(605009, 9)"
      ]
     },
     "execution_count": 20,
     "metadata": {},
     "output_type": "execute_result"
    }
   ],
   "source": [
    "df.shape"
   ]
  },
  {
   "cell_type": "code",
   "execution_count": 21,
   "id": "cdeeae1a",
   "metadata": {},
   "outputs": [],
   "source": [
    "#Convert last_reported to datetime\n",
    "df['last_reported'] = pd.to_datetime(df['last_reported'])"
   ]
  },
  {
   "cell_type": "code",
   "execution_count": 22,
   "id": "ece2c275",
   "metadata": {},
   "outputs": [
    {
     "name": "stdout",
     "output_type": "stream",
     "text": [
      "<class 'pandas.core.frame.DataFrame'>\n",
      "RangeIndex: 605009 entries, 0 to 605008\n",
      "Data columns (total 9 columns):\n",
      " #   Column               Non-Null Count   Dtype         \n",
      "---  ------               --------------   -----         \n",
      " 0   last_reported        605009 non-null  datetime64[ns]\n",
      " 1   station_id           605009 non-null  int64         \n",
      " 2   num_bikes_available  605009 non-null  int64         \n",
      " 3   num_docks_available  605009 non-null  int64         \n",
      " 4   name                 605009 non-null  object        \n",
      " 5   address              605009 non-null  object        \n",
      " 6   lat                  605009 non-null  float64       \n",
      " 7   lon                  605009 non-null  float64       \n",
      " 8   capacity             605009 non-null  int64         \n",
      "dtypes: datetime64[ns](1), float64(2), int64(4), object(2)\n",
      "memory usage: 41.5+ MB\n"
     ]
    }
   ],
   "source": [
    "#Confirm change, Basic info\n",
    "df.info()"
   ]
  },
  {
   "cell_type": "code",
   "execution_count": 23,
   "id": "85458626",
   "metadata": {},
   "outputs": [],
   "source": [
    "#Extract time-based features\n",
    "df['hour'] = df['last_reported'].dt.hour\n",
    "df['minute'] = df['last_reported'].dt.minute\n",
    "df['day_of_week'] = df['last_reported'].dt.dayofweek\n",
    "df['month'] = df['last_reported'].dt.month\n",
    "df['year'] = df['last_reported'].dt.year\n",
    "df['date'] = df['last_reported'].dt.date "
   ]
  },
  {
   "cell_type": "code",
   "execution_count": 24,
   "id": "0caec948",
   "metadata": {},
   "outputs": [],
   "source": [
    "#Combine the time 'hour', 'minute' as a string\n",
    "#df['time_str'] = df['last_reported'].dt.strftime('%H:%M')"
   ]
  },
  {
   "cell_type": "code",
   "execution_count": 25,
   "id": "a7d72d23",
   "metadata": {},
   "outputs": [
    {
     "data": {
      "text/html": [
       "<div>\n",
       "<style scoped>\n",
       "    .dataframe tbody tr th:only-of-type {\n",
       "        vertical-align: middle;\n",
       "    }\n",
       "\n",
       "    .dataframe tbody tr th {\n",
       "        vertical-align: top;\n",
       "    }\n",
       "\n",
       "    .dataframe thead th {\n",
       "        text-align: right;\n",
       "    }\n",
       "</style>\n",
       "<table border=\"1\" class=\"dataframe\">\n",
       "  <thead>\n",
       "    <tr style=\"text-align: right;\">\n",
       "      <th></th>\n",
       "      <th>last_reported</th>\n",
       "      <th>station_id</th>\n",
       "      <th>num_bikes_available</th>\n",
       "      <th>num_docks_available</th>\n",
       "      <th>name</th>\n",
       "      <th>address</th>\n",
       "      <th>lat</th>\n",
       "      <th>lon</th>\n",
       "      <th>capacity</th>\n",
       "      <th>hour</th>\n",
       "      <th>minute</th>\n",
       "      <th>day_of_week</th>\n",
       "      <th>month</th>\n",
       "      <th>year</th>\n",
       "      <th>date</th>\n",
       "    </tr>\n",
       "  </thead>\n",
       "  <tbody>\n",
       "    <tr>\n",
       "      <th>0</th>\n",
       "      <td>2024-12-01 00:05:00</td>\n",
       "      <td>1</td>\n",
       "      <td>22</td>\n",
       "      <td>9</td>\n",
       "      <td>CLARENDON ROW</td>\n",
       "      <td>Clarendon Row</td>\n",
       "      <td>53.340927</td>\n",
       "      <td>-6.262501</td>\n",
       "      <td>31</td>\n",
       "      <td>0</td>\n",
       "      <td>5</td>\n",
       "      <td>6</td>\n",
       "      <td>12</td>\n",
       "      <td>2024</td>\n",
       "      <td>2024-12-01</td>\n",
       "    </tr>\n",
       "    <tr>\n",
       "      <th>1</th>\n",
       "      <td>2024-12-01 00:05:00</td>\n",
       "      <td>101</td>\n",
       "      <td>10</td>\n",
       "      <td>20</td>\n",
       "      <td>KING STREET NORTH</td>\n",
       "      <td>King Street North</td>\n",
       "      <td>53.350292</td>\n",
       "      <td>-6.273507</td>\n",
       "      <td>30</td>\n",
       "      <td>0</td>\n",
       "      <td>5</td>\n",
       "      <td>6</td>\n",
       "      <td>12</td>\n",
       "      <td>2024</td>\n",
       "      <td>2024-12-01</td>\n",
       "    </tr>\n",
       "    <tr>\n",
       "      <th>2</th>\n",
       "      <td>2024-12-01 00:05:00</td>\n",
       "      <td>102</td>\n",
       "      <td>2</td>\n",
       "      <td>38</td>\n",
       "      <td>WESTERN WAY</td>\n",
       "      <td>Western Way</td>\n",
       "      <td>53.354930</td>\n",
       "      <td>-6.269425</td>\n",
       "      <td>40</td>\n",
       "      <td>0</td>\n",
       "      <td>5</td>\n",
       "      <td>6</td>\n",
       "      <td>12</td>\n",
       "      <td>2024</td>\n",
       "      <td>2024-12-01</td>\n",
       "    </tr>\n",
       "    <tr>\n",
       "      <th>3</th>\n",
       "      <td>2024-12-01 00:05:00</td>\n",
       "      <td>103</td>\n",
       "      <td>0</td>\n",
       "      <td>40</td>\n",
       "      <td>GRANGEGORMAN LOWER (SOUTH)</td>\n",
       "      <td>Grangegorman Lower (South)</td>\n",
       "      <td>53.354664</td>\n",
       "      <td>-6.278681</td>\n",
       "      <td>40</td>\n",
       "      <td>0</td>\n",
       "      <td>5</td>\n",
       "      <td>6</td>\n",
       "      <td>12</td>\n",
       "      <td>2024</td>\n",
       "      <td>2024-12-01</td>\n",
       "    </tr>\n",
       "    <tr>\n",
       "      <th>4</th>\n",
       "      <td>2024-12-01 00:05:00</td>\n",
       "      <td>104</td>\n",
       "      <td>0</td>\n",
       "      <td>40</td>\n",
       "      <td>GRANGEGORMAN LOWER (CENTRAL)</td>\n",
       "      <td>Grangegorman Lower (Central)</td>\n",
       "      <td>53.355170</td>\n",
       "      <td>-6.278424</td>\n",
       "      <td>40</td>\n",
       "      <td>0</td>\n",
       "      <td>5</td>\n",
       "      <td>6</td>\n",
       "      <td>12</td>\n",
       "      <td>2024</td>\n",
       "      <td>2024-12-01</td>\n",
       "    </tr>\n",
       "  </tbody>\n",
       "</table>\n",
       "</div>"
      ],
      "text/plain": [
       "        last_reported  station_id  num_bikes_available  num_docks_available  \\\n",
       "0 2024-12-01 00:05:00           1                   22                    9   \n",
       "1 2024-12-01 00:05:00         101                   10                   20   \n",
       "2 2024-12-01 00:05:00         102                    2                   38   \n",
       "3 2024-12-01 00:05:00         103                    0                   40   \n",
       "4 2024-12-01 00:05:00         104                    0                   40   \n",
       "\n",
       "                           name                       address        lat  \\\n",
       "0                 CLARENDON ROW                 Clarendon Row  53.340927   \n",
       "1             KING STREET NORTH             King Street North  53.350292   \n",
       "2                   WESTERN WAY                   Western Way  53.354930   \n",
       "3    GRANGEGORMAN LOWER (SOUTH)    Grangegorman Lower (South)  53.354664   \n",
       "4  GRANGEGORMAN LOWER (CENTRAL)  Grangegorman Lower (Central)  53.355170   \n",
       "\n",
       "        lon  capacity  hour  minute  day_of_week  month  year        date  \n",
       "0 -6.262501        31     0       5            6     12  2024  2024-12-01  \n",
       "1 -6.273507        30     0       5            6     12  2024  2024-12-01  \n",
       "2 -6.269425        40     0       5            6     12  2024  2024-12-01  \n",
       "3 -6.278681        40     0       5            6     12  2024  2024-12-01  \n",
       "4 -6.278424        40     0       5            6     12  2024  2024-12-01  "
      ]
     },
     "execution_count": 25,
     "metadata": {},
     "output_type": "execute_result"
    }
   ],
   "source": [
    "#Preview data\n",
    "df.head()"
   ]
  },
  {
   "cell_type": "code",
   "execution_count": 26,
   "id": "1455e56a",
   "metadata": {},
   "outputs": [
    {
     "name": "stdout",
     "output_type": "stream",
     "text": [
      "<class 'pandas.core.frame.DataFrame'>\n",
      "RangeIndex: 605009 entries, 0 to 605008\n",
      "Data columns (total 15 columns):\n",
      " #   Column               Non-Null Count   Dtype         \n",
      "---  ------               --------------   -----         \n",
      " 0   last_reported        605009 non-null  datetime64[ns]\n",
      " 1   station_id           605009 non-null  int64         \n",
      " 2   num_bikes_available  605009 non-null  int64         \n",
      " 3   num_docks_available  605009 non-null  int64         \n",
      " 4   name                 605009 non-null  object        \n",
      " 5   address              605009 non-null  object        \n",
      " 6   lat                  605009 non-null  float64       \n",
      " 7   lon                  605009 non-null  float64       \n",
      " 8   capacity             605009 non-null  int64         \n",
      " 9   hour                 605009 non-null  int32         \n",
      " 10  minute               605009 non-null  int32         \n",
      " 11  day_of_week          605009 non-null  int32         \n",
      " 12  month                605009 non-null  int32         \n",
      " 13  year                 605009 non-null  int32         \n",
      " 14  date                 605009 non-null  object        \n",
      "dtypes: datetime64[ns](1), float64(2), int32(5), int64(4), object(3)\n",
      "memory usage: 57.7+ MB\n"
     ]
    }
   ],
   "source": [
    "#Confirm change, Basic info\n",
    "df.info()"
   ]
  },
  {
   "cell_type": "markdown",
   "id": "9ddd9950",
   "metadata": {},
   "source": [
    "The models expect all numeric columns, so we are going to drop non-numerical columns (last_reported, date)."
   ]
  },
  {
   "cell_type": "code",
   "execution_count": 27,
   "id": "d12db936",
   "metadata": {},
   "outputs": [],
   "source": [
    "#Drop columns\n",
    "df = df.drop(columns=['last_reported', 'date'])"
   ]
  },
  {
   "cell_type": "code",
   "execution_count": 28,
   "id": "29dd9569",
   "metadata": {},
   "outputs": [
    {
     "name": "stdout",
     "output_type": "stream",
     "text": [
      "<class 'pandas.core.frame.DataFrame'>\n",
      "RangeIndex: 605009 entries, 0 to 605008\n",
      "Data columns (total 13 columns):\n",
      " #   Column               Non-Null Count   Dtype  \n",
      "---  ------               --------------   -----  \n",
      " 0   station_id           605009 non-null  int64  \n",
      " 1   num_bikes_available  605009 non-null  int64  \n",
      " 2   num_docks_available  605009 non-null  int64  \n",
      " 3   name                 605009 non-null  object \n",
      " 4   address              605009 non-null  object \n",
      " 5   lat                  605009 non-null  float64\n",
      " 6   lon                  605009 non-null  float64\n",
      " 7   capacity             605009 non-null  int64  \n",
      " 8   hour                 605009 non-null  int32  \n",
      " 9   minute               605009 non-null  int32  \n",
      " 10  day_of_week          605009 non-null  int32  \n",
      " 11  month                605009 non-null  int32  \n",
      " 12  year                 605009 non-null  int32  \n",
      "dtypes: float64(2), int32(5), int64(4), object(2)\n",
      "memory usage: 48.5+ MB\n"
     ]
    }
   ],
   "source": [
    "#Confirm change, Basic info\n",
    "df.info()"
   ]
  },
  {
   "cell_type": "markdown",
   "id": "fb7c1720",
   "metadata": {},
   "source": [
    "We need that our model interprete correctly our data, so we are going to encode the columns 'station_id', 'name' and 'address'."
   ]
  },
  {
   "cell_type": "code",
   "execution_count": 29,
   "id": "4c8a715e",
   "metadata": {},
   "outputs": [],
   "source": [
    "#Encode station id\n",
    "from sklearn.preprocessing import OneHotEncoder\n",
    "\n",
    "encoder = OneHotEncoder(sparse_output=False, handle_unknown='ignore')\n",
    "encoded = encoder.fit_transform(df[['station_id']])"
   ]
  },
  {
   "cell_type": "code",
   "execution_count": 30,
   "id": "a2426dde",
   "metadata": {},
   "outputs": [],
   "source": [
    "encoded_df = pd.DataFrame(\n",
    "    encoded, \n",
    "    columns=encoder.get_feature_names_out(['station_id'])\n",
    ")"
   ]
  },
  {
   "cell_type": "code",
   "execution_count": 31,
   "id": "27af57be",
   "metadata": {},
   "outputs": [],
   "source": [
    "#Join with df\n",
    "df = df.join(encoded_df)"
   ]
  },
  {
   "cell_type": "code",
   "execution_count": 32,
   "id": "c572f350",
   "metadata": {},
   "outputs": [],
   "source": [
    "#Encode object columns\n",
    "from sklearn.preprocessing import LabelEncoder\n",
    "\n",
    "le = LabelEncoder()\n",
    "df['name_encoded'] = le.fit_transform(df['name'])\n",
    "\n",
    "le = LabelEncoder()\n",
    "df['address_encoded'] = le.fit_transform(df['address'])"
   ]
  },
  {
   "cell_type": "code",
   "execution_count": 33,
   "id": "3fe269a1",
   "metadata": {},
   "outputs": [],
   "source": [
    "df = df.drop('name', axis=1)"
   ]
  },
  {
   "cell_type": "code",
   "execution_count": 34,
   "id": "bbbfc82f",
   "metadata": {},
   "outputs": [],
   "source": [
    "df = df.drop('address', axis=1)"
   ]
  },
  {
   "cell_type": "code",
   "execution_count": 35,
   "id": "3f50bd92",
   "metadata": {},
   "outputs": [
    {
     "name": "stdout",
     "output_type": "stream",
     "text": [
      "<class 'pandas.core.frame.DataFrame'>\n",
      "RangeIndex: 605009 entries, 0 to 605008\n",
      "Columns: 128 entries, station_id to address_encoded\n",
      "dtypes: float64(117), int32(7), int64(4)\n",
      "memory usage: 574.7 MB\n"
     ]
    },
    {
     "data": {
      "text/html": [
       "<div>\n",
       "<style scoped>\n",
       "    .dataframe tbody tr th:only-of-type {\n",
       "        vertical-align: middle;\n",
       "    }\n",
       "\n",
       "    .dataframe tbody tr th {\n",
       "        vertical-align: top;\n",
       "    }\n",
       "\n",
       "    .dataframe thead th {\n",
       "        text-align: right;\n",
       "    }\n",
       "</style>\n",
       "<table border=\"1\" class=\"dataframe\">\n",
       "  <thead>\n",
       "    <tr style=\"text-align: right;\">\n",
       "      <th></th>\n",
       "      <th>station_id</th>\n",
       "      <th>num_bikes_available</th>\n",
       "      <th>num_docks_available</th>\n",
       "      <th>lat</th>\n",
       "      <th>lon</th>\n",
       "      <th>capacity</th>\n",
       "      <th>hour</th>\n",
       "      <th>minute</th>\n",
       "      <th>day_of_week</th>\n",
       "      <th>month</th>\n",
       "      <th>...</th>\n",
       "      <th>station_id_110</th>\n",
       "      <th>station_id_111</th>\n",
       "      <th>station_id_112</th>\n",
       "      <th>station_id_113</th>\n",
       "      <th>station_id_114</th>\n",
       "      <th>station_id_115</th>\n",
       "      <th>station_id_116</th>\n",
       "      <th>station_id_117</th>\n",
       "      <th>name_encoded</th>\n",
       "      <th>address_encoded</th>\n",
       "    </tr>\n",
       "  </thead>\n",
       "  <tbody>\n",
       "    <tr>\n",
       "      <th>0</th>\n",
       "      <td>1</td>\n",
       "      <td>22</td>\n",
       "      <td>9</td>\n",
       "      <td>53.340927</td>\n",
       "      <td>-6.262501</td>\n",
       "      <td>31</td>\n",
       "      <td>0</td>\n",
       "      <td>5</td>\n",
       "      <td>6</td>\n",
       "      <td>12</td>\n",
       "      <td>...</td>\n",
       "      <td>0.0</td>\n",
       "      <td>0.0</td>\n",
       "      <td>0.0</td>\n",
       "      <td>0.0</td>\n",
       "      <td>0.0</td>\n",
       "      <td>0.0</td>\n",
       "      <td>0.0</td>\n",
       "      <td>0.0</td>\n",
       "      <td>14</td>\n",
       "      <td>14</td>\n",
       "    </tr>\n",
       "    <tr>\n",
       "      <th>1</th>\n",
       "      <td>101</td>\n",
       "      <td>10</td>\n",
       "      <td>20</td>\n",
       "      <td>53.350292</td>\n",
       "      <td>-6.273507</td>\n",
       "      <td>30</td>\n",
       "      <td>0</td>\n",
       "      <td>5</td>\n",
       "      <td>6</td>\n",
       "      <td>12</td>\n",
       "      <td>...</td>\n",
       "      <td>0.0</td>\n",
       "      <td>0.0</td>\n",
       "      <td>0.0</td>\n",
       "      <td>0.0</td>\n",
       "      <td>0.0</td>\n",
       "      <td>0.0</td>\n",
       "      <td>0.0</td>\n",
       "      <td>0.0</td>\n",
       "      <td>67</td>\n",
       "      <td>67</td>\n",
       "    </tr>\n",
       "    <tr>\n",
       "      <th>2</th>\n",
       "      <td>102</td>\n",
       "      <td>2</td>\n",
       "      <td>38</td>\n",
       "      <td>53.354930</td>\n",
       "      <td>-6.269425</td>\n",
       "      <td>40</td>\n",
       "      <td>0</td>\n",
       "      <td>5</td>\n",
       "      <td>6</td>\n",
       "      <td>12</td>\n",
       "      <td>...</td>\n",
       "      <td>0.0</td>\n",
       "      <td>0.0</td>\n",
       "      <td>0.0</td>\n",
       "      <td>0.0</td>\n",
       "      <td>0.0</td>\n",
       "      <td>0.0</td>\n",
       "      <td>0.0</td>\n",
       "      <td>0.0</td>\n",
       "      <td>109</td>\n",
       "      <td>109</td>\n",
       "    </tr>\n",
       "    <tr>\n",
       "      <th>3</th>\n",
       "      <td>103</td>\n",
       "      <td>0</td>\n",
       "      <td>40</td>\n",
       "      <td>53.354664</td>\n",
       "      <td>-6.278681</td>\n",
       "      <td>40</td>\n",
       "      <td>0</td>\n",
       "      <td>5</td>\n",
       "      <td>6</td>\n",
       "      <td>12</td>\n",
       "      <td>...</td>\n",
       "      <td>0.0</td>\n",
       "      <td>0.0</td>\n",
       "      <td>0.0</td>\n",
       "      <td>0.0</td>\n",
       "      <td>0.0</td>\n",
       "      <td>0.0</td>\n",
       "      <td>0.0</td>\n",
       "      <td>0.0</td>\n",
       "      <td>41</td>\n",
       "      <td>41</td>\n",
       "    </tr>\n",
       "    <tr>\n",
       "      <th>4</th>\n",
       "      <td>104</td>\n",
       "      <td>0</td>\n",
       "      <td>40</td>\n",
       "      <td>53.355170</td>\n",
       "      <td>-6.278424</td>\n",
       "      <td>40</td>\n",
       "      <td>0</td>\n",
       "      <td>5</td>\n",
       "      <td>6</td>\n",
       "      <td>12</td>\n",
       "      <td>...</td>\n",
       "      <td>0.0</td>\n",
       "      <td>0.0</td>\n",
       "      <td>0.0</td>\n",
       "      <td>0.0</td>\n",
       "      <td>0.0</td>\n",
       "      <td>0.0</td>\n",
       "      <td>0.0</td>\n",
       "      <td>0.0</td>\n",
       "      <td>39</td>\n",
       "      <td>39</td>\n",
       "    </tr>\n",
       "  </tbody>\n",
       "</table>\n",
       "<p>5 rows × 128 columns</p>\n",
       "</div>"
      ],
      "text/plain": [
       "   station_id  num_bikes_available  num_docks_available        lat       lon  \\\n",
       "0           1                   22                    9  53.340927 -6.262501   \n",
       "1         101                   10                   20  53.350292 -6.273507   \n",
       "2         102                    2                   38  53.354930 -6.269425   \n",
       "3         103                    0                   40  53.354664 -6.278681   \n",
       "4         104                    0                   40  53.355170 -6.278424   \n",
       "\n",
       "   capacity  hour  minute  day_of_week  month  ...  station_id_110  \\\n",
       "0        31     0       5            6     12  ...             0.0   \n",
       "1        30     0       5            6     12  ...             0.0   \n",
       "2        40     0       5            6     12  ...             0.0   \n",
       "3        40     0       5            6     12  ...             0.0   \n",
       "4        40     0       5            6     12  ...             0.0   \n",
       "\n",
       "   station_id_111  station_id_112  station_id_113  station_id_114  \\\n",
       "0             0.0             0.0             0.0             0.0   \n",
       "1             0.0             0.0             0.0             0.0   \n",
       "2             0.0             0.0             0.0             0.0   \n",
       "3             0.0             0.0             0.0             0.0   \n",
       "4             0.0             0.0             0.0             0.0   \n",
       "\n",
       "   station_id_115  station_id_116  station_id_117  name_encoded  \\\n",
       "0             0.0             0.0             0.0            14   \n",
       "1             0.0             0.0             0.0            67   \n",
       "2             0.0             0.0             0.0           109   \n",
       "3             0.0             0.0             0.0            41   \n",
       "4             0.0             0.0             0.0            39   \n",
       "\n",
       "   address_encoded  \n",
       "0               14  \n",
       "1               67  \n",
       "2              109  \n",
       "3               41  \n",
       "4               39  \n",
       "\n",
       "[5 rows x 128 columns]"
      ]
     },
     "execution_count": 35,
     "metadata": {},
     "output_type": "execute_result"
    }
   ],
   "source": [
    "#Final check\n",
    "df.info()\n",
    "df.head()"
   ]
  },
  {
   "cell_type": "code",
   "execution_count": 36,
   "id": "0ab4f90c",
   "metadata": {
    "scrolled": true
   },
   "outputs": [
    {
     "data": {
      "text/plain": [
       "(605009, 128)"
      ]
     },
     "execution_count": 36,
     "metadata": {},
     "output_type": "execute_result"
    }
   ],
   "source": [
    "df.shape"
   ]
  },
  {
   "cell_type": "code",
   "execution_count": 37,
   "id": "66a0a95b",
   "metadata": {},
   "outputs": [],
   "source": [
    "#Percent utilization\n",
    "df['utilization_pct'] = df['num_bikes_available'] / df['capacity']"
   ]
  },
  {
   "cell_type": "code",
   "execution_count": 38,
   "id": "c46c94a4",
   "metadata": {
    "scrolled": false
   },
   "outputs": [
    {
     "data": {
      "image/png": "[encoded data removed]",
      "text/plain": [
       "<Figure size 800x400 with 1 Axes>"
      ]
     },
     "metadata": {},
     "output_type": "display_data"
    }
   ],
   "source": [
    "plt.figure(figsize=(8,4))\n",
    "plt.hist(df['utilization_pct'], bins=30, color='skyblue', edgecolor='black')\n",
    "plt.title('Distribution of Bike Utilization %')\n",
    "plt.xlabel('Utilization (%)')\n",
    "plt.ylabel('Frequency')\n",
    "plt.show()"
   ]
  },
  {
   "cell_type": "markdown",
   "id": "e3a63410",
   "metadata": {},
   "source": [
    "The histogram shows that Dublin Bikes stations frequently experince both empty (0% utilization) and full (100% utilization) conditions, and how the utilization percentage is distrubuited."
   ]
  },
  {
   "cell_type": "code",
   "execution_count": 39,
   "id": "6e13f1e5",
   "metadata": {},
   "outputs": [
    {
     "data": {
      "text/html": [
       "<div>\n",
       "<style scoped>\n",
       "    .dataframe tbody tr th:only-of-type {\n",
       "        vertical-align: middle;\n",
       "    }\n",
       "\n",
       "    .dataframe tbody tr th {\n",
       "        vertical-align: top;\n",
       "    }\n",
       "\n",
       "    .dataframe thead th {\n",
       "        text-align: right;\n",
       "    }\n",
       "</style>\n",
       "<table border=\"1\" class=\"dataframe\">\n",
       "  <thead>\n",
       "    <tr style=\"text-align: right;\">\n",
       "      <th></th>\n",
       "      <th>station_id</th>\n",
       "      <th>num_bikes_available</th>\n",
       "      <th>num_docks_available</th>\n",
       "      <th>lat</th>\n",
       "      <th>lon</th>\n",
       "      <th>capacity</th>\n",
       "      <th>hour</th>\n",
       "      <th>minute</th>\n",
       "      <th>day_of_week</th>\n",
       "      <th>month</th>\n",
       "      <th>...</th>\n",
       "      <th>station_id_111</th>\n",
       "      <th>station_id_112</th>\n",
       "      <th>station_id_113</th>\n",
       "      <th>station_id_114</th>\n",
       "      <th>station_id_115</th>\n",
       "      <th>station_id_116</th>\n",
       "      <th>station_id_117</th>\n",
       "      <th>name_encoded</th>\n",
       "      <th>address_encoded</th>\n",
       "      <th>utilization_pct</th>\n",
       "    </tr>\n",
       "  </thead>\n",
       "  <tbody>\n",
       "    <tr>\n",
       "      <th>0</th>\n",
       "      <td>1</td>\n",
       "      <td>22</td>\n",
       "      <td>9</td>\n",
       "      <td>53.340927</td>\n",
       "      <td>-6.262501</td>\n",
       "      <td>31</td>\n",
       "      <td>0</td>\n",
       "      <td>5</td>\n",
       "      <td>6</td>\n",
       "      <td>12</td>\n",
       "      <td>...</td>\n",
       "      <td>0.0</td>\n",
       "      <td>0.0</td>\n",
       "      <td>0.0</td>\n",
       "      <td>0.0</td>\n",
       "      <td>0.0</td>\n",
       "      <td>0.0</td>\n",
       "      <td>0.0</td>\n",
       "      <td>14</td>\n",
       "      <td>14</td>\n",
       "      <td>0.709677</td>\n",
       "    </tr>\n",
       "    <tr>\n",
       "      <th>1</th>\n",
       "      <td>101</td>\n",
       "      <td>10</td>\n",
       "      <td>20</td>\n",
       "      <td>53.350292</td>\n",
       "      <td>-6.273507</td>\n",
       "      <td>30</td>\n",
       "      <td>0</td>\n",
       "      <td>5</td>\n",
       "      <td>6</td>\n",
       "      <td>12</td>\n",
       "      <td>...</td>\n",
       "      <td>0.0</td>\n",
       "      <td>0.0</td>\n",
       "      <td>0.0</td>\n",
       "      <td>0.0</td>\n",
       "      <td>0.0</td>\n",
       "      <td>0.0</td>\n",
       "      <td>0.0</td>\n",
       "      <td>67</td>\n",
       "      <td>67</td>\n",
       "      <td>0.333333</td>\n",
       "    </tr>\n",
       "    <tr>\n",
       "      <th>2</th>\n",
       "      <td>102</td>\n",
       "      <td>2</td>\n",
       "      <td>38</td>\n",
       "      <td>53.354930</td>\n",
       "      <td>-6.269425</td>\n",
       "      <td>40</td>\n",
       "      <td>0</td>\n",
       "      <td>5</td>\n",
       "      <td>6</td>\n",
       "      <td>12</td>\n",
       "      <td>...</td>\n",
       "      <td>0.0</td>\n",
       "      <td>0.0</td>\n",
       "      <td>0.0</td>\n",
       "      <td>0.0</td>\n",
       "      <td>0.0</td>\n",
       "      <td>0.0</td>\n",
       "      <td>0.0</td>\n",
       "      <td>109</td>\n",
       "      <td>109</td>\n",
       "      <td>0.050000</td>\n",
       "    </tr>\n",
       "    <tr>\n",
       "      <th>3</th>\n",
       "      <td>103</td>\n",
       "      <td>0</td>\n",
       "      <td>40</td>\n",
       "      <td>53.354664</td>\n",
       "      <td>-6.278681</td>\n",
       "      <td>40</td>\n",
       "      <td>0</td>\n",
       "      <td>5</td>\n",
       "      <td>6</td>\n",
       "      <td>12</td>\n",
       "      <td>...</td>\n",
       "      <td>0.0</td>\n",
       "      <td>0.0</td>\n",
       "      <td>0.0</td>\n",
       "      <td>0.0</td>\n",
       "      <td>0.0</td>\n",
       "      <td>0.0</td>\n",
       "      <td>0.0</td>\n",
       "      <td>41</td>\n",
       "      <td>41</td>\n",
       "      <td>0.000000</td>\n",
       "    </tr>\n",
       "    <tr>\n",
       "      <th>4</th>\n",
       "      <td>104</td>\n",
       "      <td>0</td>\n",
       "      <td>40</td>\n",
       "      <td>53.355170</td>\n",
       "      <td>-6.278424</td>\n",
       "      <td>40</td>\n",
       "      <td>0</td>\n",
       "      <td>5</td>\n",
       "      <td>6</td>\n",
       "      <td>12</td>\n",
       "      <td>...</td>\n",
       "      <td>0.0</td>\n",
       "      <td>0.0</td>\n",
       "      <td>0.0</td>\n",
       "      <td>0.0</td>\n",
       "      <td>0.0</td>\n",
       "      <td>0.0</td>\n",
       "      <td>0.0</td>\n",
       "      <td>39</td>\n",
       "      <td>39</td>\n",
       "      <td>0.000000</td>\n",
       "    </tr>\n",
       "  </tbody>\n",
       "</table>\n",
       "<p>5 rows × 129 columns</p>\n",
       "</div>"
      ],
      "text/plain": [
       "   station_id  num_bikes_available  num_docks_available        lat       lon  \\\n",
       "0           1                   22                    9  53.340927 -6.262501   \n",
       "1         101                   10                   20  53.350292 -6.273507   \n",
       "2         102                    2                   38  53.354930 -6.269425   \n",
       "3         103                    0                   40  53.354664 -6.278681   \n",
       "4         104                    0                   40  53.355170 -6.278424   \n",
       "\n",
       "   capacity  hour  minute  day_of_week  month  ...  station_id_111  \\\n",
       "0        31     0       5            6     12  ...             0.0   \n",
       "1        30     0       5            6     12  ...             0.0   \n",
       "2        40     0       5            6     12  ...             0.0   \n",
       "3        40     0       5            6     12  ...             0.0   \n",
       "4        40     0       5            6     12  ...             0.0   \n",
       "\n",
       "   station_id_112  station_id_113  station_id_114  station_id_115  \\\n",
       "0             0.0             0.0             0.0             0.0   \n",
       "1             0.0             0.0             0.0             0.0   \n",
       "2             0.0             0.0             0.0             0.0   \n",
       "3             0.0             0.0             0.0             0.0   \n",
       "4             0.0             0.0             0.0             0.0   \n",
       "\n",
       "   station_id_116  station_id_117  name_encoded  address_encoded  \\\n",
       "0             0.0             0.0            14               14   \n",
       "1             0.0             0.0            67               67   \n",
       "2             0.0             0.0           109              109   \n",
       "3             0.0             0.0            41               41   \n",
       "4             0.0             0.0            39               39   \n",
       "\n",
       "   utilization_pct  \n",
       "0         0.709677  \n",
       "1         0.333333  \n",
       "2         0.050000  \n",
       "3         0.000000  \n",
       "4         0.000000  \n",
       "\n",
       "[5 rows x 129 columns]"
      ]
     },
     "execution_count": 39,
     "metadata": {},
     "output_type": "execute_result"
    }
   ],
   "source": [
    "df.head()"
   ]
  },
  {
   "cell_type": "markdown",
   "id": "f1c54f68",
   "metadata": {},
   "source": [
    "#### Modeling"
   ]
  },
  {
   "cell_type": "code",
   "execution_count": 40,
   "id": "6a32c322",
   "metadata": {},
   "outputs": [],
   "source": [
    "from sklearn.linear_model import LinearRegression\n",
    "from sklearn.model_selection import train_test_split, cross_val_score\n",
    "from sklearn import metrics"
   ]
  },
  {
   "cell_type": "code",
   "execution_count": 41,
   "id": "b7ef3340",
   "metadata": {},
   "outputs": [],
   "source": [
    "#Define X (Features) and y (Target)\n",
    "\n",
    "X = df.drop('num_bikes_available', axis=1)\n",
    "y = df['num_bikes_available'] "
   ]
  },
  {
   "cell_type": "code",
   "execution_count": 42,
   "id": "0a16c4be",
   "metadata": {},
   "outputs": [],
   "source": [
    "#Split into training and testing\n",
    "X_train, X_test, y_train, y_test = train_test_split(X, y, test_size=0.2, random_state=42)"
   ]
  },
  {
   "cell_type": "code",
   "execution_count": 43,
   "id": "eac4a6d9",
   "metadata": {},
   "outputs": [
    {
     "data": {
      "text/plain": [
       "((605009, 128), (605009,), (484007, 128), (121002, 128), (484007,), (121002,))"
      ]
     },
     "execution_count": 43,
     "metadata": {},
     "output_type": "execute_result"
    }
   ],
   "source": [
    "#Show the rows and columns\n",
    "X.shape, y.shape, X_train.shape, X_test.shape, y_train.shape, y_test.shape"
   ]
  },
  {
   "cell_type": "code",
   "execution_count": 44,
   "id": "9a2b1d17",
   "metadata": {},
   "outputs": [],
   "source": [
    "#Method to calculate the score\n",
    "def get_cv_scores(model):\n",
    "    scores = cross_val_score(model,\n",
    "                             X_train,\n",
    "                             y_train,\n",
    "                             cv = 10,\n",
    "                             scoring='r2')\n",
    "    \n",
    "    print('CV Mean: ', np.mean(scores))\n",
    "    print('STD: ', np.std(scores))\n",
    "    print('\\n')"
   ]
  },
  {
   "cell_type": "code",
   "execution_count": 45,
   "id": "2c70a251",
   "metadata": {},
   "outputs": [
    {
     "name": "stdout",
     "output_type": "stream",
     "text": [
      "CV Mean:  0.9983624450665738\n",
      "STD:  9.727807952079498e-05\n",
      "\n",
      "\n"
     ]
    }
   ],
   "source": [
    "#Train the model\n",
    "lr = LinearRegression().fit(X_train, y_train)\n",
    "\n",
    "#Calculate the mean values and Standard deviation\n",
    "get_cv_scores(lr)"
   ]
  },
  {
   "cell_type": "code",
   "execution_count": 46,
   "id": "28564c7a",
   "metadata": {},
   "outputs": [
    {
     "name": "stdout",
     "output_type": "stream",
     "text": [
      "-34803638624.17569\n",
      "[-2.43157841e+03 -9.46776034e-01  1.63446083e+08  1.89742352e+07\n",
      "  1.54219579e+07  3.91279696e-04  9.73607530e-06  2.38407650e-03\n",
      " -3.72599265e+04  1.27208633e+07 -1.17078618e+07  1.49131168e+08\n",
      "  1.50712124e+08  1.76135042e+08 -1.51390722e+08  1.56426598e+08\n",
      "  4.67764181e+07  5.48084727e+06  1.04160688e+08  2.23015202e+08\n",
      "  1.04370557e+07  1.61426948e+08  1.51008788e+07  1.45416270e+07\n",
      "  2.40075326e+08  1.70608441e+08  1.72634210e+08  2.26265512e+07\n",
      "  2.85239145e+07  3.32781971e+07  3.75470467e+07  2.15817751e+08\n",
      "  4.94633749e+06  1.52956670e+08  4.03836495e+07  1.95919749e+08\n",
      "  1.96421300e+08  4.22887145e+07  6.33592284e+07  2.02116939e+08\n",
      "  2.03207559e+08  5.04269437e+07  1.60329595e+08  5.42548256e+07\n",
      "  5.67303272e+07 -9.37664287e+07  6.12550723e+07 -9.47049538e+07\n",
      "  2.19932561e+08  1.71195696e+08  1.80774955e+08  5.70729952e+07\n",
      "  5.50077498e+07  6.03524247e+07  7.01967685e+06 -1.25211164e+08\n",
      " -1.43006367e+08 -1.32343116e+08 -1.38303464e+08 -8.68572215e+07\n",
      "  3.59316490e+07 -1.07434290e+08 -4.09795387e+07 -6.41999055e+07\n",
      " -1.10453284e+08  1.29995794e+08 -9.73940719e+07  1.60079583e+08\n",
      "  4.37535605e+07  1.00477950e+08 -1.16776350e+08 -6.41424160e+07\n",
      " -9.88658940e+07 -1.49972607e+08 -1.10158391e+08 -9.37498598e+07\n",
      " -1.31112915e+08 -1.35897283e+08  2.64462630e+07 -1.18738516e+08\n",
      "  1.87348179e+07  1.59549452e+07  4.80065462e+07 -1.21815269e+08\n",
      " -8.38200162e+07  8.00761673e+07 -1.17347990e+08  5.43736664e+07\n",
      " -9.41688496e+07  1.67026888e+08 -1.41817401e+08  5.19978583e+05\n",
      " -2.08415780e+07 -7.45288943e+07 -1.18826882e+08 -3.95276969e+06\n",
      " -1.39461769e+08 -1.58954642e+08  5.81984510e+07 -1.25549858e+08\n",
      " -1.23369815e+08 -1.24045367e+08 -9.82630322e+07  3.74863142e+07\n",
      " -1.17319866e+08 -1.37827989e+08  2.07653259e+06  1.06537042e+08\n",
      "  3.61443816e+07 -9.23539930e+07 -1.35125101e+08 -1.36474739e+08\n",
      " -7.42810861e+07 -1.02274675e+08 -1.54756810e+08 -8.47484294e+07\n",
      "  1.33273635e+07 -1.04490982e+08 -1.12471528e+08  4.46368691e+07\n",
      " -1.12816468e+08 -8.79824958e+07  3.30458823e+07 -3.12917998e+06\n",
      " -1.30388598e+08 -7.41711100e+07  7.35388653e+07  1.65800730e+00]\n"
     ]
    }
   ],
   "source": [
    "# Calculate the intercept and coefficient\n",
    "print(lr.intercept_)\n",
    "print(lr.coef_)"
   ]
  },
  {
   "cell_type": "code",
   "execution_count": 47,
   "id": "eed3b650",
   "metadata": {},
   "outputs": [
    {
     "data": {
      "text/plain": [
       "array([28.79115295, 27.75249481,  2.9493866 , ..., 11.0976944 ,\n",
       "       27.87932587, 21.82858276])"
      ]
     },
     "execution_count": 47,
     "metadata": {},
     "output_type": "execute_result"
    }
   ],
   "source": [
    "# Calculate the predicted values\n",
    "y_pred = lr.predict(X_test)\n",
    "y_pred"
   ]
  },
  {
   "cell_type": "code",
   "execution_count": 48,
   "id": "232b21d8",
   "metadata": {},
   "outputs": [
    {
     "data": {
      "image/png": "[encoded data removed]",
      "text/plain": [
       "<Figure size 640x480 with 1 Axes>"
      ]
     },
     "metadata": {},
     "output_type": "display_data"
    }
   ],
   "source": [
    "# Show the plotted values\n",
    "plt.scatter(X_train['hour'], y_train)\n",
    "plt.xlabel('hour')\n",
    "plt.ylabel('Bike Availability (target)')\n",
    "plt.title('Bike availability vs hour')\n",
    "plt.show()"
   ]
  },
  {
   "cell_type": "code",
   "execution_count": 49,
   "id": "58aadab9",
   "metadata": {},
   "outputs": [
    {
     "data": {
      "text/html": [
       "<div>\n",
       "<style scoped>\n",
       "    .dataframe tbody tr th:only-of-type {\n",
       "        vertical-align: middle;\n",
       "    }\n",
       "\n",
       "    .dataframe tbody tr th {\n",
       "        vertical-align: top;\n",
       "    }\n",
       "\n",
       "    .dataframe thead th {\n",
       "        text-align: right;\n",
       "    }\n",
       "</style>\n",
       "<table border=\"1\" class=\"dataframe\">\n",
       "  <thead>\n",
       "    <tr style=\"text-align: right;\">\n",
       "      <th></th>\n",
       "      <th>Actual</th>\n",
       "      <th>Predicted</th>\n",
       "    </tr>\n",
       "  </thead>\n",
       "  <tbody>\n",
       "    <tr>\n",
       "      <th>72054</th>\n",
       "      <td>29</td>\n",
       "      <td>28.791153</td>\n",
       "    </tr>\n",
       "    <tr>\n",
       "      <th>385529</th>\n",
       "      <td>28</td>\n",
       "      <td>27.752495</td>\n",
       "    </tr>\n",
       "    <tr>\n",
       "      <th>75591</th>\n",
       "      <td>3</td>\n",
       "      <td>2.949387</td>\n",
       "    </tr>\n",
       "    <tr>\n",
       "      <th>558771</th>\n",
       "      <td>19</td>\n",
       "      <td>18.933426</td>\n",
       "    </tr>\n",
       "    <tr>\n",
       "      <th>478893</th>\n",
       "      <td>13</td>\n",
       "      <td>12.987244</td>\n",
       "    </tr>\n",
       "  </tbody>\n",
       "</table>\n",
       "</div>"
      ],
      "text/plain": [
       "        Actual  Predicted\n",
       "72054       29  28.791153\n",
       "385529      28  27.752495\n",
       "75591        3   2.949387\n",
       "558771      19  18.933426\n",
       "478893      13  12.987244"
      ]
     },
     "execution_count": 49,
     "metadata": {},
     "output_type": "execute_result"
    }
   ],
   "source": [
    "# Display the test and predicted values\n",
    "df = pd.DataFrame({'Actual': y_test, 'Predicted': y_pred})\n",
    "df.head()"
   ]
  },
  {
   "cell_type": "code",
   "execution_count": 50,
   "id": "342f1f57",
   "metadata": {},
   "outputs": [
    {
     "name": "stdout",
     "output_type": "stream",
     "text": [
      "Mean Absolute Error: 0.13277114854544872\n",
      "Mean Squared Error: 0.14600651000141932\n",
      "Root Mean Squared Error: 0.38210798212209507\n"
     ]
    }
   ],
   "source": [
    "# Calculate the error values\n",
    "print('Mean Absolute Error:', metrics.mean_absolute_error(y_test, y_pred))\n",
    "print('Mean Squared Error:', metrics.mean_squared_error(y_test, y_pred))\n",
    "print('Root Mean Squared Error:', np.sqrt(metrics.mean_squared_error(y_test, y_pred)))"
   ]
  }
 ],
 "metadata": {
  "kernelspec": {
   "display_name": "Python 3 (ipykernel)",
   "language": "python",
   "name": "python3"
  },
  "language_info": {
   "codemirror_mode": {
    "name": "ipython",
    "version": 3
   },
   "file_extension": ".py",
   "mimetype": "text/x-python",
   "name": "python",
   "nbconvert_exporter": "python",
   "pygments_lexer": "ipython3",
   "version": "3.12.3"
  }
 },
 "nbformat": 4,
 "nbformat_minor": 5
}
