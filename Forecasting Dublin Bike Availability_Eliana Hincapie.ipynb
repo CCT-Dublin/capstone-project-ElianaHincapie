{
 "cells": [
  {
   "cell_type": "markdown",
   "id": "6e6c737e",
   "metadata": {},
   "source": [
    "# Forecasting Dublin Bike Availability Using Machine Learning Models\n",
    "\n",
    "\n",
    "\n",
    "## CA3 Capstone Project Strategic Thinking\n",
    "### Eliana Hincapie"
   ]
  },
  {
   "cell_type": "markdown",
   "id": "bb62b33b",
   "metadata": {},
   "source": [
    "The primary objective of this project is to develop machine learning models capable of accurately forecasting the availability of bicycles at individual Dublin Bikes stations. "
   ]
  },
  {
   "cell_type": "code",
   "execution_count": 1,
   "id": "14dca641",
   "metadata": {},
   "outputs": [],
   "source": [
    "#Import libraries\n",
    "import pandas as pd\n",
    "import numpy as np\n",
    "import matplotlib.pyplot as plt\n",
    "import seaborn as sns"
   ]
  },
  {
   "cell_type": "code",
   "execution_count": 2,
   "id": "1bf337ea",
   "metadata": {},
   "outputs": [],
   "source": [
    "import warnings \n",
    "\n",
    "warnings.filterwarnings('ignore')"
   ]
  },
  {
   "cell_type": "code",
   "execution_count": 3,
   "id": "30831fa9",
   "metadata": {},
   "outputs": [],
   "source": [
    "#Load dataset\n",
    "df = pd.read_csv('dublin-bikes_station_status_122024.csv')"
   ]
  },
  {
   "cell_type": "markdown",
   "id": "d455ca5d",
   "metadata": {},
   "source": [
    "#### Understanding the Data"
   ]
  },
  {
   "cell_type": "code",
   "execution_count": 4,
   "id": "a42f9ebf",
   "metadata": {},
   "outputs": [
    {
     "data": {
      "text/html": [
       "<div>\n",
       "<style scoped>\n",
       "    .dataframe tbody tr th:only-of-type {\n",
       "        vertical-align: middle;\n",
       "    }\n",
       "\n",
       "    .dataframe tbody tr th {\n",
       "        vertical-align: top;\n",
       "    }\n",
       "\n",
       "    .dataframe thead th {\n",
       "        text-align: right;\n",
       "    }\n",
       "</style>\n",
       "<table border=\"1\" class=\"dataframe\">\n",
       "  <thead>\n",
       "    <tr style=\"text-align: right;\">\n",
       "      <th></th>\n",
       "      <th>system_id</th>\n",
       "      <th>last_reported</th>\n",
       "      <th>station_id</th>\n",
       "      <th>num_bikes_available</th>\n",
       "      <th>num_docks_available</th>\n",
       "      <th>is_installed</th>\n",
       "      <th>is_renting</th>\n",
       "      <th>is_returning</th>\n",
       "      <th>name</th>\n",
       "      <th>short_name</th>\n",
       "      <th>address</th>\n",
       "      <th>lat</th>\n",
       "      <th>lon</th>\n",
       "      <th>region_id</th>\n",
       "      <th>capacity</th>\n",
       "    </tr>\n",
       "  </thead>\n",
       "  <tbody>\n",
       "    <tr>\n",
       "      <th>0</th>\n",
       "      <td>dublin_bikes</td>\n",
       "      <td>2024-12-01 00:05:00</td>\n",
       "      <td>1</td>\n",
       "      <td>22</td>\n",
       "      <td>9</td>\n",
       "      <td>True</td>\n",
       "      <td>True</td>\n",
       "      <td>True</td>\n",
       "      <td>CLARENDON ROW</td>\n",
       "      <td>NaN</td>\n",
       "      <td>Clarendon Row</td>\n",
       "      <td>53.340927</td>\n",
       "      <td>-6.262501</td>\n",
       "      <td>NaN</td>\n",
       "      <td>31</td>\n",
       "    </tr>\n",
       "    <tr>\n",
       "      <th>1</th>\n",
       "      <td>dublin_bikes</td>\n",
       "      <td>2024-12-01 00:05:00</td>\n",
       "      <td>101</td>\n",
       "      <td>10</td>\n",
       "      <td>20</td>\n",
       "      <td>True</td>\n",
       "      <td>True</td>\n",
       "      <td>True</td>\n",
       "      <td>KING STREET NORTH</td>\n",
       "      <td>NaN</td>\n",
       "      <td>King Street North</td>\n",
       "      <td>53.350292</td>\n",
       "      <td>-6.273507</td>\n",
       "      <td>NaN</td>\n",
       "      <td>30</td>\n",
       "    </tr>\n",
       "    <tr>\n",
       "      <th>2</th>\n",
       "      <td>dublin_bikes</td>\n",
       "      <td>2024-12-01 00:05:00</td>\n",
       "      <td>102</td>\n",
       "      <td>2</td>\n",
       "      <td>38</td>\n",
       "      <td>True</td>\n",
       "      <td>True</td>\n",
       "      <td>True</td>\n",
       "      <td>WESTERN WAY</td>\n",
       "      <td>NaN</td>\n",
       "      <td>Western Way</td>\n",
       "      <td>53.354930</td>\n",
       "      <td>-6.269425</td>\n",
       "      <td>NaN</td>\n",
       "      <td>40</td>\n",
       "    </tr>\n",
       "    <tr>\n",
       "      <th>3</th>\n",
       "      <td>dublin_bikes</td>\n",
       "      <td>2024-12-01 00:05:00</td>\n",
       "      <td>103</td>\n",
       "      <td>0</td>\n",
       "      <td>40</td>\n",
       "      <td>True</td>\n",
       "      <td>True</td>\n",
       "      <td>True</td>\n",
       "      <td>GRANGEGORMAN LOWER (SOUTH)</td>\n",
       "      <td>NaN</td>\n",
       "      <td>Grangegorman Lower (South)</td>\n",
       "      <td>53.354664</td>\n",
       "      <td>-6.278681</td>\n",
       "      <td>NaN</td>\n",
       "      <td>40</td>\n",
       "    </tr>\n",
       "    <tr>\n",
       "      <th>4</th>\n",
       "      <td>dublin_bikes</td>\n",
       "      <td>2024-12-01 00:05:00</td>\n",
       "      <td>104</td>\n",
       "      <td>0</td>\n",
       "      <td>40</td>\n",
       "      <td>True</td>\n",
       "      <td>True</td>\n",
       "      <td>True</td>\n",
       "      <td>GRANGEGORMAN LOWER (CENTRAL)</td>\n",
       "      <td>NaN</td>\n",
       "      <td>Grangegorman Lower (Central)</td>\n",
       "      <td>53.355170</td>\n",
       "      <td>-6.278424</td>\n",
       "      <td>NaN</td>\n",
       "      <td>40</td>\n",
       "    </tr>\n",
       "  </tbody>\n",
       "</table>\n",
       "</div>"
      ],
      "text/plain": [
       "      system_id        last_reported  station_id  num_bikes_available  \\\n",
       "0  dublin_bikes  2024-12-01 00:05:00           1                   22   \n",
       "1  dublin_bikes  2024-12-01 00:05:00         101                   10   \n",
       "2  dublin_bikes  2024-12-01 00:05:00         102                    2   \n",
       "3  dublin_bikes  2024-12-01 00:05:00         103                    0   \n",
       "4  dublin_bikes  2024-12-01 00:05:00         104                    0   \n",
       "\n",
       "   num_docks_available  is_installed  is_renting  is_returning  \\\n",
       "0                    9          True        True          True   \n",
       "1                   20          True        True          True   \n",
       "2                   38          True        True          True   \n",
       "3                   40          True        True          True   \n",
       "4                   40          True        True          True   \n",
       "\n",
       "                           name  short_name                       address  \\\n",
       "0                 CLARENDON ROW         NaN                 Clarendon Row   \n",
       "1             KING STREET NORTH         NaN             King Street North   \n",
       "2                   WESTERN WAY         NaN                   Western Way   \n",
       "3    GRANGEGORMAN LOWER (SOUTH)         NaN    Grangegorman Lower (South)   \n",
       "4  GRANGEGORMAN LOWER (CENTRAL)         NaN  Grangegorman Lower (Central)   \n",
       "\n",
       "         lat       lon  region_id  capacity  \n",
       "0  53.340927 -6.262501        NaN        31  \n",
       "1  53.350292 -6.273507        NaN        30  \n",
       "2  53.354930 -6.269425        NaN        40  \n",
       "3  53.354664 -6.278681        NaN        40  \n",
       "4  53.355170 -6.278424        NaN        40  "
      ]
     },
     "execution_count": 4,
     "metadata": {},
     "output_type": "execute_result"
    }
   ],
   "source": [
    "#Preview data\n",
    "df.head()"
   ]
  },
  {
   "cell_type": "code",
   "execution_count": 5,
   "id": "6f18c645",
   "metadata": {},
   "outputs": [
    {
     "name": "stdout",
     "output_type": "stream",
     "text": [
      "<class 'pandas.core.frame.DataFrame'>\n",
      "RangeIndex: 605009 entries, 0 to 605008\n",
      "Data columns (total 15 columns):\n",
      " #   Column               Non-Null Count   Dtype  \n",
      "---  ------               --------------   -----  \n",
      " 0   system_id            605009 non-null  object \n",
      " 1   last_reported        605009 non-null  object \n",
      " 2   station_id           605009 non-null  int64  \n",
      " 3   num_bikes_available  605009 non-null  int64  \n",
      " 4   num_docks_available  605009 non-null  int64  \n",
      " 5   is_installed         605009 non-null  bool   \n",
      " 6   is_renting           605009 non-null  bool   \n",
      " 7   is_returning         605009 non-null  bool   \n",
      " 8   name                 605009 non-null  object \n",
      " 9   short_name           0 non-null       float64\n",
      " 10  address              605009 non-null  object \n",
      " 11  lat                  605009 non-null  float64\n",
      " 12  lon                  605009 non-null  float64\n",
      " 13  region_id            0 non-null       float64\n",
      " 14  capacity             605009 non-null  int64  \n",
      "dtypes: bool(3), float64(4), int64(4), object(4)\n",
      "memory usage: 57.1+ MB\n"
     ]
    }
   ],
   "source": [
    "#Basic info and shape\n",
    "df.info()"
   ]
  },
  {
   "cell_type": "code",
   "execution_count": 6,
   "id": "e2806876",
   "metadata": {},
   "outputs": [
    {
     "data": {
      "text/plain": [
       "(605009, 15)"
      ]
     },
     "execution_count": 6,
     "metadata": {},
     "output_type": "execute_result"
    }
   ],
   "source": [
    "df.shape"
   ]
  },
  {
   "cell_type": "code",
   "execution_count": 7,
   "id": "63e3cbf7",
   "metadata": {},
   "outputs": [
    {
     "data": {
      "text/html": [
       "<div>\n",
       "<style scoped>\n",
       "    .dataframe tbody tr th:only-of-type {\n",
       "        vertical-align: middle;\n",
       "    }\n",
       "\n",
       "    .dataframe tbody tr th {\n",
       "        vertical-align: top;\n",
       "    }\n",
       "\n",
       "    .dataframe thead th {\n",
       "        text-align: right;\n",
       "    }\n",
       "</style>\n",
       "<table border=\"1\" class=\"dataframe\">\n",
       "  <thead>\n",
       "    <tr style=\"text-align: right;\">\n",
       "      <th></th>\n",
       "      <th>station_id</th>\n",
       "      <th>num_bikes_available</th>\n",
       "      <th>num_docks_available</th>\n",
       "      <th>short_name</th>\n",
       "      <th>lat</th>\n",
       "      <th>lon</th>\n",
       "      <th>region_id</th>\n",
       "      <th>capacity</th>\n",
       "    </tr>\n",
       "  </thead>\n",
       "  <tbody>\n",
       "    <tr>\n",
       "      <th>count</th>\n",
       "      <td>605009.000000</td>\n",
       "      <td>605009.000000</td>\n",
       "      <td>605009.00000</td>\n",
       "      <td>0.0</td>\n",
       "      <td>605009.000000</td>\n",
       "      <td>605009.000000</td>\n",
       "      <td>0.0</td>\n",
       "      <td>605009.000000</td>\n",
       "    </tr>\n",
       "    <tr>\n",
       "      <th>mean</th>\n",
       "      <td>57.951001</td>\n",
       "      <td>12.308017</td>\n",
       "      <td>19.21137</td>\n",
       "      <td>NaN</td>\n",
       "      <td>53.345457</td>\n",
       "      <td>-6.263820</td>\n",
       "      <td>NaN</td>\n",
       "      <td>31.964569</td>\n",
       "    </tr>\n",
       "    <tr>\n",
       "      <th>std</th>\n",
       "      <td>33.974053</td>\n",
       "      <td>9.713911</td>\n",
       "      <td>10.91414</td>\n",
       "      <td>NaN</td>\n",
       "      <td>0.007517</td>\n",
       "      <td>0.017848</td>\n",
       "      <td>NaN</td>\n",
       "      <td>7.441581</td>\n",
       "    </tr>\n",
       "    <tr>\n",
       "      <th>min</th>\n",
       "      <td>1.000000</td>\n",
       "      <td>0.000000</td>\n",
       "      <td>0.00000</td>\n",
       "      <td>NaN</td>\n",
       "      <td>53.330090</td>\n",
       "      <td>-6.310015</td>\n",
       "      <td>NaN</td>\n",
       "      <td>16.000000</td>\n",
       "    </tr>\n",
       "    <tr>\n",
       "      <th>25%</th>\n",
       "      <td>28.000000</td>\n",
       "      <td>4.000000</td>\n",
       "      <td>11.00000</td>\n",
       "      <td>NaN</td>\n",
       "      <td>53.339764</td>\n",
       "      <td>-6.275071</td>\n",
       "      <td>NaN</td>\n",
       "      <td>29.000000</td>\n",
       "    </tr>\n",
       "    <tr>\n",
       "      <th>50%</th>\n",
       "      <td>58.000000</td>\n",
       "      <td>11.000000</td>\n",
       "      <td>19.00000</td>\n",
       "      <td>NaN</td>\n",
       "      <td>53.344604</td>\n",
       "      <td>-6.262501</td>\n",
       "      <td>NaN</td>\n",
       "      <td>30.000000</td>\n",
       "    </tr>\n",
       "    <tr>\n",
       "      <th>75%</th>\n",
       "      <td>88.000000</td>\n",
       "      <td>19.000000</td>\n",
       "      <td>27.00000</td>\n",
       "      <td>NaN</td>\n",
       "      <td>53.350292</td>\n",
       "      <td>-6.250900</td>\n",
       "      <td>NaN</td>\n",
       "      <td>40.000000</td>\n",
       "    </tr>\n",
       "    <tr>\n",
       "      <th>max</th>\n",
       "      <td>117.000000</td>\n",
       "      <td>40.000000</td>\n",
       "      <td>40.00000</td>\n",
       "      <td>NaN</td>\n",
       "      <td>53.359966</td>\n",
       "      <td>-6.230852</td>\n",
       "      <td>NaN</td>\n",
       "      <td>40.000000</td>\n",
       "    </tr>\n",
       "  </tbody>\n",
       "</table>\n",
       "</div>"
      ],
      "text/plain": [
       "          station_id  num_bikes_available  num_docks_available  short_name  \\\n",
       "count  605009.000000        605009.000000         605009.00000         0.0   \n",
       "mean       57.951001            12.308017             19.21137         NaN   \n",
       "std        33.974053             9.713911             10.91414         NaN   \n",
       "min         1.000000             0.000000              0.00000         NaN   \n",
       "25%        28.000000             4.000000             11.00000         NaN   \n",
       "50%        58.000000            11.000000             19.00000         NaN   \n",
       "75%        88.000000            19.000000             27.00000         NaN   \n",
       "max       117.000000            40.000000             40.00000         NaN   \n",
       "\n",
       "                 lat            lon  region_id       capacity  \n",
       "count  605009.000000  605009.000000        0.0  605009.000000  \n",
       "mean       53.345457      -6.263820        NaN      31.964569  \n",
       "std         0.007517       0.017848        NaN       7.441581  \n",
       "min        53.330090      -6.310015        NaN      16.000000  \n",
       "25%        53.339764      -6.275071        NaN      29.000000  \n",
       "50%        53.344604      -6.262501        NaN      30.000000  \n",
       "75%        53.350292      -6.250900        NaN      40.000000  \n",
       "max        53.359966      -6.230852        NaN      40.000000  "
      ]
     },
     "execution_count": 7,
     "metadata": {},
     "output_type": "execute_result"
    }
   ],
   "source": [
    "#Descriptive statistics (numerical)\n",
    "df.describe()"
   ]
  },
  {
   "cell_type": "code",
   "execution_count": 8,
   "id": "b5723712",
   "metadata": {},
   "outputs": [
    {
     "data": {
      "text/plain": [
       "system_id                   0\n",
       "last_reported               0\n",
       "station_id                  0\n",
       "num_bikes_available         0\n",
       "num_docks_available         0\n",
       "is_installed                0\n",
       "is_renting                  0\n",
       "is_returning                0\n",
       "name                        0\n",
       "short_name             605009\n",
       "address                     0\n",
       "lat                         0\n",
       "lon                         0\n",
       "region_id              605009\n",
       "capacity                    0\n",
       "dtype: int64"
      ]
     },
     "execution_count": 8,
     "metadata": {},
     "output_type": "execute_result"
    }
   ],
   "source": [
    "#Missing values\n",
    "df.isnull().sum()"
   ]
  },
  {
   "cell_type": "code",
   "execution_count": 9,
   "id": "274df2a0",
   "metadata": {},
   "outputs": [
    {
     "data": {
      "text/plain": [
       "0"
      ]
     },
     "execution_count": 9,
     "metadata": {},
     "output_type": "execute_result"
    }
   ],
   "source": [
    "#Duplicates\n",
    "df.duplicated().sum()"
   ]
  },
  {
   "cell_type": "code",
   "execution_count": 10,
   "id": "a3121a5c",
   "metadata": {},
   "outputs": [
    {
     "data": {
      "text/html": [
       "<div>\n",
       "<style scoped>\n",
       "    .dataframe tbody tr th:only-of-type {\n",
       "        vertical-align: middle;\n",
       "    }\n",
       "\n",
       "    .dataframe tbody tr th {\n",
       "        vertical-align: top;\n",
       "    }\n",
       "\n",
       "    .dataframe thead th {\n",
       "        text-align: right;\n",
       "    }\n",
       "</style>\n",
       "<table border=\"1\" class=\"dataframe\">\n",
       "  <thead>\n",
       "    <tr style=\"text-align: right;\">\n",
       "      <th></th>\n",
       "      <th>station_id</th>\n",
       "      <th>capacity</th>\n",
       "    </tr>\n",
       "  </thead>\n",
       "  <tbody>\n",
       "    <tr>\n",
       "      <th>0</th>\n",
       "      <td>1</td>\n",
       "      <td>31</td>\n",
       "    </tr>\n",
       "    <tr>\n",
       "      <th>1</th>\n",
       "      <td>2</td>\n",
       "      <td>20</td>\n",
       "    </tr>\n",
       "    <tr>\n",
       "      <th>2</th>\n",
       "      <td>3</td>\n",
       "      <td>20</td>\n",
       "    </tr>\n",
       "    <tr>\n",
       "      <th>3</th>\n",
       "      <td>4</td>\n",
       "      <td>20</td>\n",
       "    </tr>\n",
       "    <tr>\n",
       "      <th>4</th>\n",
       "      <td>5</td>\n",
       "      <td>40</td>\n",
       "    </tr>\n",
       "    <tr>\n",
       "      <th>...</th>\n",
       "      <td>...</td>\n",
       "      <td>...</td>\n",
       "    </tr>\n",
       "    <tr>\n",
       "      <th>110</th>\n",
       "      <td>113</td>\n",
       "      <td>40</td>\n",
       "    </tr>\n",
       "    <tr>\n",
       "      <th>111</th>\n",
       "      <td>114</td>\n",
       "      <td>40</td>\n",
       "    </tr>\n",
       "    <tr>\n",
       "      <th>112</th>\n",
       "      <td>115</td>\n",
       "      <td>30</td>\n",
       "    </tr>\n",
       "    <tr>\n",
       "      <th>113</th>\n",
       "      <td>116</td>\n",
       "      <td>30</td>\n",
       "    </tr>\n",
       "    <tr>\n",
       "      <th>114</th>\n",
       "      <td>117</td>\n",
       "      <td>40</td>\n",
       "    </tr>\n",
       "  </tbody>\n",
       "</table>\n",
       "<p>115 rows × 2 columns</p>\n",
       "</div>"
      ],
      "text/plain": [
       "     station_id  capacity\n",
       "0             1        31\n",
       "1             2        20\n",
       "2             3        20\n",
       "3             4        20\n",
       "4             5        40\n",
       "..          ...       ...\n",
       "110         113        40\n",
       "111         114        40\n",
       "112         115        30\n",
       "113         116        30\n",
       "114         117        40\n",
       "\n",
       "[115 rows x 2 columns]"
      ]
     },
     "execution_count": 10,
     "metadata": {},
     "output_type": "execute_result"
    }
   ],
   "source": [
    "#Group by station and get the maximum capacity (bike_stands)\n",
    "station_capacity = df.groupby('station_id')['capacity'].max().reset_index()\n",
    "station_capacity"
   ]
  },
  {
   "cell_type": "code",
   "execution_count": 11,
   "id": "739dad8c",
   "metadata": {},
   "outputs": [
    {
     "data": {
      "image/png": "[encoded data removed]",
      "text/plain": [
       "<Figure size 640x480 with 1 Axes>"
      ]
     },
     "metadata": {},
     "output_type": "display_data"
    }
   ],
   "source": [
    "sns.countplot(data=df, x='capacity')\n",
    "plt.title('Distribution of Station capacity')\n",
    "plt.show()"
   ]
  },
  {
   "cell_type": "markdown",
   "id": "986308d5",
   "metadata": {},
   "source": [
    "#### Data Preparation"
   ]
  },
  {
   "cell_type": "markdown",
   "id": "2ca5261d",
   "metadata": {},
   "source": [
    "The missing values are in the 'short_name' and 'region_id' columns, we are going to drop both columns taking into account that null values are 100% for both columns and were not critical for forecasting bike availability."
   ]
  },
  {
   "cell_type": "code",
   "execution_count": 12,
   "id": "1b0a9fd6",
   "metadata": {},
   "outputs": [],
   "source": [
    "#Drop specific columns\n",
    "df = df.drop(columns=['short_name', 'region_id'])"
   ]
  },
  {
   "cell_type": "code",
   "execution_count": 13,
   "id": "b4183ffa",
   "metadata": {},
   "outputs": [
    {
     "data": {
      "text/plain": [
       "system_id              0\n",
       "last_reported          0\n",
       "station_id             0\n",
       "num_bikes_available    0\n",
       "num_docks_available    0\n",
       "is_installed           0\n",
       "is_renting             0\n",
       "is_returning           0\n",
       "name                   0\n",
       "address                0\n",
       "lat                    0\n",
       "lon                    0\n",
       "capacity               0\n",
       "dtype: int64"
      ]
     },
     "execution_count": 13,
     "metadata": {},
     "output_type": "execute_result"
    }
   ],
   "source": [
    "#Confirm Missing values\n",
    "df.isnull().sum()"
   ]
  },
  {
   "cell_type": "markdown",
   "id": "55586134",
   "metadata": {},
   "source": [
    "With the preview of the data in the understanding process, we can see that can be some attributes that have the same data, which are: system_id, is_installed, is_renting and is_returning.\n",
    "We are going to check it to define if them are or not useful in our dataset."
   ]
  },
  {
   "cell_type": "code",
   "execution_count": 14,
   "id": "65d45912",
   "metadata": {},
   "outputs": [
    {
     "data": {
      "text/plain": [
       "array(['dublin_bikes'], dtype=object)"
      ]
     },
     "execution_count": 14,
     "metadata": {},
     "output_type": "execute_result"
    }
   ],
   "source": [
    "df['system_id'].unique()"
   ]
  },
  {
   "cell_type": "code",
   "execution_count": 15,
   "id": "f2e481ce",
   "metadata": {},
   "outputs": [
    {
     "data": {
      "text/plain": [
       "array([ True])"
      ]
     },
     "execution_count": 15,
     "metadata": {},
     "output_type": "execute_result"
    }
   ],
   "source": [
    "df['is_installed'].unique()"
   ]
  },
  {
   "cell_type": "code",
   "execution_count": 16,
   "id": "025bdf8f",
   "metadata": {},
   "outputs": [
    {
     "data": {
      "text/plain": [
       "array([ True])"
      ]
     },
     "execution_count": 16,
     "metadata": {},
     "output_type": "execute_result"
    }
   ],
   "source": [
    "df['is_renting'].unique()"
   ]
  },
  {
   "cell_type": "code",
   "execution_count": 17,
   "id": "7f1195f6",
   "metadata": {},
   "outputs": [
    {
     "data": {
      "text/plain": [
       "array([ True])"
      ]
     },
     "execution_count": 17,
     "metadata": {},
     "output_type": "execute_result"
    }
   ],
   "source": [
    "df['is_returning'].unique()"
   ]
  },
  {
   "cell_type": "markdown",
   "id": "9b323557",
   "metadata": {},
   "source": [
    "Taking into consideration that this attributes have the same value and there are not an important input for our forecast, we are going to drop them all."
   ]
  },
  {
   "cell_type": "code",
   "execution_count": 18,
   "id": "faf9e826",
   "metadata": {},
   "outputs": [],
   "source": [
    "#Drop columns\n",
    "df = df.drop(columns=['system_id', 'is_installed', 'is_renting', 'is_returning'])"
   ]
  },
  {
   "cell_type": "code",
   "execution_count": 19,
   "id": "32094455",
   "metadata": {},
   "outputs": [
    {
     "data": {
      "text/html": [
       "<div>\n",
       "<style scoped>\n",
       "    .dataframe tbody tr th:only-of-type {\n",
       "        vertical-align: middle;\n",
       "    }\n",
       "\n",
       "    .dataframe tbody tr th {\n",
       "        vertical-align: top;\n",
       "    }\n",
       "\n",
       "    .dataframe thead th {\n",
       "        text-align: right;\n",
       "    }\n",
       "</style>\n",
       "<table border=\"1\" class=\"dataframe\">\n",
       "  <thead>\n",
       "    <tr style=\"text-align: right;\">\n",
       "      <th></th>\n",
       "      <th>last_reported</th>\n",
       "      <th>station_id</th>\n",
       "      <th>num_bikes_available</th>\n",
       "      <th>num_docks_available</th>\n",
       "      <th>name</th>\n",
       "      <th>address</th>\n",
       "      <th>lat</th>\n",
       "      <th>lon</th>\n",
       "      <th>capacity</th>\n",
       "    </tr>\n",
       "  </thead>\n",
       "  <tbody>\n",
       "    <tr>\n",
       "      <th>0</th>\n",
       "      <td>2024-12-01 00:05:00</td>\n",
       "      <td>1</td>\n",
       "      <td>22</td>\n",
       "      <td>9</td>\n",
       "      <td>CLARENDON ROW</td>\n",
       "      <td>Clarendon Row</td>\n",
       "      <td>53.340927</td>\n",
       "      <td>-6.262501</td>\n",
       "      <td>31</td>\n",
       "    </tr>\n",
       "    <tr>\n",
       "      <th>1</th>\n",
       "      <td>2024-12-01 00:05:00</td>\n",
       "      <td>101</td>\n",
       "      <td>10</td>\n",
       "      <td>20</td>\n",
       "      <td>KING STREET NORTH</td>\n",
       "      <td>King Street North</td>\n",
       "      <td>53.350292</td>\n",
       "      <td>-6.273507</td>\n",
       "      <td>30</td>\n",
       "    </tr>\n",
       "    <tr>\n",
       "      <th>2</th>\n",
       "      <td>2024-12-01 00:05:00</td>\n",
       "      <td>102</td>\n",
       "      <td>2</td>\n",
       "      <td>38</td>\n",
       "      <td>WESTERN WAY</td>\n",
       "      <td>Western Way</td>\n",
       "      <td>53.354930</td>\n",
       "      <td>-6.269425</td>\n",
       "      <td>40</td>\n",
       "    </tr>\n",
       "    <tr>\n",
       "      <th>3</th>\n",
       "      <td>2024-12-01 00:05:00</td>\n",
       "      <td>103</td>\n",
       "      <td>0</td>\n",
       "      <td>40</td>\n",
       "      <td>GRANGEGORMAN LOWER (SOUTH)</td>\n",
       "      <td>Grangegorman Lower (South)</td>\n",
       "      <td>53.354664</td>\n",
       "      <td>-6.278681</td>\n",
       "      <td>40</td>\n",
       "    </tr>\n",
       "    <tr>\n",
       "      <th>4</th>\n",
       "      <td>2024-12-01 00:05:00</td>\n",
       "      <td>104</td>\n",
       "      <td>0</td>\n",
       "      <td>40</td>\n",
       "      <td>GRANGEGORMAN LOWER (CENTRAL)</td>\n",
       "      <td>Grangegorman Lower (Central)</td>\n",
       "      <td>53.355170</td>\n",
       "      <td>-6.278424</td>\n",
       "      <td>40</td>\n",
       "    </tr>\n",
       "  </tbody>\n",
       "</table>\n",
       "</div>"
      ],
      "text/plain": [
       "         last_reported  station_id  num_bikes_available  num_docks_available  \\\n",
       "0  2024-12-01 00:05:00           1                   22                    9   \n",
       "1  2024-12-01 00:05:00         101                   10                   20   \n",
       "2  2024-12-01 00:05:00         102                    2                   38   \n",
       "3  2024-12-01 00:05:00         103                    0                   40   \n",
       "4  2024-12-01 00:05:00         104                    0                   40   \n",
       "\n",
       "                           name                       address        lat  \\\n",
       "0                 CLARENDON ROW                 Clarendon Row  53.340927   \n",
       "1             KING STREET NORTH             King Street North  53.350292   \n",
       "2                   WESTERN WAY                   Western Way  53.354930   \n",
       "3    GRANGEGORMAN LOWER (SOUTH)    Grangegorman Lower (South)  53.354664   \n",
       "4  GRANGEGORMAN LOWER (CENTRAL)  Grangegorman Lower (Central)  53.355170   \n",
       "\n",
       "        lon  capacity  \n",
       "0 -6.262501        31  \n",
       "1 -6.273507        30  \n",
       "2 -6.269425        40  \n",
       "3 -6.278681        40  \n",
       "4 -6.278424        40  "
      ]
     },
     "execution_count": 19,
     "metadata": {},
     "output_type": "execute_result"
    }
   ],
   "source": [
    "#Preview data\n",
    "df.head()"
   ]
  },
  {
   "cell_type": "code",
   "execution_count": 20,
   "id": "5988def3",
   "metadata": {},
   "outputs": [
    {
     "data": {
      "text/plain": [
       "(605009, 9)"
      ]
     },
     "execution_count": 20,
     "metadata": {},
     "output_type": "execute_result"
    }
   ],
   "source": [
    "df.shape"
   ]
  },
  {
   "cell_type": "code",
   "execution_count": 21,
   "id": "cdeeae1a",
   "metadata": {},
   "outputs": [],
   "source": [
    "#Convert last_reported to datetime\n",
    "df['last_reported'] = pd.to_datetime(df['last_reported'])"
   ]
  },
  {
   "cell_type": "code",
   "execution_count": 22,
   "id": "ece2c275",
   "metadata": {},
   "outputs": [
    {
     "name": "stdout",
     "output_type": "stream",
     "text": [
      "<class 'pandas.core.frame.DataFrame'>\n",
      "RangeIndex: 605009 entries, 0 to 605008\n",
      "Data columns (total 9 columns):\n",
      " #   Column               Non-Null Count   Dtype         \n",
      "---  ------               --------------   -----         \n",
      " 0   last_reported        605009 non-null  datetime64[ns]\n",
      " 1   station_id           605009 non-null  int64         \n",
      " 2   num_bikes_available  605009 non-null  int64         \n",
      " 3   num_docks_available  605009 non-null  int64         \n",
      " 4   name                 605009 non-null  object        \n",
      " 5   address              605009 non-null  object        \n",
      " 6   lat                  605009 non-null  float64       \n",
      " 7   lon                  605009 non-null  float64       \n",
      " 8   capacity             605009 non-null  int64         \n",
      "dtypes: datetime64[ns](1), float64(2), int64(4), object(2)\n",
      "memory usage: 41.5+ MB\n"
     ]
    }
   ],
   "source": [
    "#Confirm change, Basic info\n",
    "df.info()"
   ]
  },
  {
   "cell_type": "code",
   "execution_count": 23,
   "id": "85458626",
   "metadata": {},
   "outputs": [],
   "source": [
    "#Extract time-based features\n",
    "df['hour'] = df['last_reported'].dt.hour\n",
    "df['minute'] = df['last_reported'].dt.minute\n",
    "df['day_of_week'] = df['last_reported'].dt.dayofweek\n",
    "df['month'] = df['last_reported'].dt.month\n",
    "df['year'] = df['last_reported'].dt.year\n",
    "df['date'] = df['last_reported'].dt.date "
   ]
  },
  {
   "cell_type": "code",
   "execution_count": 24,
   "id": "0caec948",
   "metadata": {},
   "outputs": [],
   "source": [
    "#Combine the time 'hour', 'minute' as a string\n",
    "df['time_str'] = df['last_reported'].dt.strftime('%H:%M')"
   ]
  },
  {
   "cell_type": "code",
   "execution_count": 25,
   "id": "a7d72d23",
   "metadata": {},
   "outputs": [
    {
     "data": {
      "text/html": [
       "<div>\n",
       "<style scoped>\n",
       "    .dataframe tbody tr th:only-of-type {\n",
       "        vertical-align: middle;\n",
       "    }\n",
       "\n",
       "    .dataframe tbody tr th {\n",
       "        vertical-align: top;\n",
       "    }\n",
       "\n",
       "    .dataframe thead th {\n",
       "        text-align: right;\n",
       "    }\n",
       "</style>\n",
       "<table border=\"1\" class=\"dataframe\">\n",
       "  <thead>\n",
       "    <tr style=\"text-align: right;\">\n",
       "      <th></th>\n",
       "      <th>last_reported</th>\n",
       "      <th>station_id</th>\n",
       "      <th>num_bikes_available</th>\n",
       "      <th>num_docks_available</th>\n",
       "      <th>name</th>\n",
       "      <th>address</th>\n",
       "      <th>lat</th>\n",
       "      <th>lon</th>\n",
       "      <th>capacity</th>\n",
       "      <th>hour</th>\n",
       "      <th>minute</th>\n",
       "      <th>day_of_week</th>\n",
       "      <th>month</th>\n",
       "      <th>year</th>\n",
       "      <th>date</th>\n",
       "      <th>time_str</th>\n",
       "    </tr>\n",
       "  </thead>\n",
       "  <tbody>\n",
       "    <tr>\n",
       "      <th>0</th>\n",
       "      <td>2024-12-01 00:05:00</td>\n",
       "      <td>1</td>\n",
       "      <td>22</td>\n",
       "      <td>9</td>\n",
       "      <td>CLARENDON ROW</td>\n",
       "      <td>Clarendon Row</td>\n",
       "      <td>53.340927</td>\n",
       "      <td>-6.262501</td>\n",
       "      <td>31</td>\n",
       "      <td>0</td>\n",
       "      <td>5</td>\n",
       "      <td>6</td>\n",
       "      <td>12</td>\n",
       "      <td>2024</td>\n",
       "      <td>2024-12-01</td>\n",
       "      <td>00:05</td>\n",
       "    </tr>\n",
       "    <tr>\n",
       "      <th>1</th>\n",
       "      <td>2024-12-01 00:05:00</td>\n",
       "      <td>101</td>\n",
       "      <td>10</td>\n",
       "      <td>20</td>\n",
       "      <td>KING STREET NORTH</td>\n",
       "      <td>King Street North</td>\n",
       "      <td>53.350292</td>\n",
       "      <td>-6.273507</td>\n",
       "      <td>30</td>\n",
       "      <td>0</td>\n",
       "      <td>5</td>\n",
       "      <td>6</td>\n",
       "      <td>12</td>\n",
       "      <td>2024</td>\n",
       "      <td>2024-12-01</td>\n",
       "      <td>00:05</td>\n",
       "    </tr>\n",
       "    <tr>\n",
       "      <th>2</th>\n",
       "      <td>2024-12-01 00:05:00</td>\n",
       "      <td>102</td>\n",
       "      <td>2</td>\n",
       "      <td>38</td>\n",
       "      <td>WESTERN WAY</td>\n",
       "      <td>Western Way</td>\n",
       "      <td>53.354930</td>\n",
       "      <td>-6.269425</td>\n",
       "      <td>40</td>\n",
       "      <td>0</td>\n",
       "      <td>5</td>\n",
       "      <td>6</td>\n",
       "      <td>12</td>\n",
       "      <td>2024</td>\n",
       "      <td>2024-12-01</td>\n",
       "      <td>00:05</td>\n",
       "    </tr>\n",
       "    <tr>\n",
       "      <th>3</th>\n",
       "      <td>2024-12-01 00:05:00</td>\n",
       "      <td>103</td>\n",
       "      <td>0</td>\n",
       "      <td>40</td>\n",
       "      <td>GRANGEGORMAN LOWER (SOUTH)</td>\n",
       "      <td>Grangegorman Lower (South)</td>\n",
       "      <td>53.354664</td>\n",
       "      <td>-6.278681</td>\n",
       "      <td>40</td>\n",
       "      <td>0</td>\n",
       "      <td>5</td>\n",
       "      <td>6</td>\n",
       "      <td>12</td>\n",
       "      <td>2024</td>\n",
       "      <td>2024-12-01</td>\n",
       "      <td>00:05</td>\n",
       "    </tr>\n",
       "    <tr>\n",
       "      <th>4</th>\n",
       "      <td>2024-12-01 00:05:00</td>\n",
       "      <td>104</td>\n",
       "      <td>0</td>\n",
       "      <td>40</td>\n",
       "      <td>GRANGEGORMAN LOWER (CENTRAL)</td>\n",
       "      <td>Grangegorman Lower (Central)</td>\n",
       "      <td>53.355170</td>\n",
       "      <td>-6.278424</td>\n",
       "      <td>40</td>\n",
       "      <td>0</td>\n",
       "      <td>5</td>\n",
       "      <td>6</td>\n",
       "      <td>12</td>\n",
       "      <td>2024</td>\n",
       "      <td>2024-12-01</td>\n",
       "      <td>00:05</td>\n",
       "    </tr>\n",
       "  </tbody>\n",
       "</table>\n",
       "</div>"
      ],
      "text/plain": [
       "        last_reported  station_id  num_bikes_available  num_docks_available  \\\n",
       "0 2024-12-01 00:05:00           1                   22                    9   \n",
       "1 2024-12-01 00:05:00         101                   10                   20   \n",
       "2 2024-12-01 00:05:00         102                    2                   38   \n",
       "3 2024-12-01 00:05:00         103                    0                   40   \n",
       "4 2024-12-01 00:05:00         104                    0                   40   \n",
       "\n",
       "                           name                       address        lat  \\\n",
       "0                 CLARENDON ROW                 Clarendon Row  53.340927   \n",
       "1             KING STREET NORTH             King Street North  53.350292   \n",
       "2                   WESTERN WAY                   Western Way  53.354930   \n",
       "3    GRANGEGORMAN LOWER (SOUTH)    Grangegorman Lower (South)  53.354664   \n",
       "4  GRANGEGORMAN LOWER (CENTRAL)  Grangegorman Lower (Central)  53.355170   \n",
       "\n",
       "        lon  capacity  hour  minute  day_of_week  month  year        date  \\\n",
       "0 -6.262501        31     0       5            6     12  2024  2024-12-01   \n",
       "1 -6.273507        30     0       5            6     12  2024  2024-12-01   \n",
       "2 -6.269425        40     0       5            6     12  2024  2024-12-01   \n",
       "3 -6.278681        40     0       5            6     12  2024  2024-12-01   \n",
       "4 -6.278424        40     0       5            6     12  2024  2024-12-01   \n",
       "\n",
       "  time_str  \n",
       "0    00:05  \n",
       "1    00:05  \n",
       "2    00:05  \n",
       "3    00:05  \n",
       "4    00:05  "
      ]
     },
     "execution_count": 25,
     "metadata": {},
     "output_type": "execute_result"
    }
   ],
   "source": [
    "#Preview data\n",
    "df.head()"
   ]
  },
  {
   "cell_type": "code",
   "execution_count": 26,
   "id": "cd43b753",
   "metadata": {},
   "outputs": [],
   "source": [
    "#Convert 'date' and 'time_str' to datetime\n",
    "df['date'] = pd.to_datetime(df['date'])"
   ]
  },
  {
   "cell_type": "code",
   "execution_count": 27,
   "id": "346b3a1f",
   "metadata": {},
   "outputs": [],
   "source": [
    "df['time_str'] = pd.to_datetime(df['time_str'])"
   ]
  },
  {
   "cell_type": "code",
   "execution_count": 28,
   "id": "1455e56a",
   "metadata": {},
   "outputs": [
    {
     "name": "stdout",
     "output_type": "stream",
     "text": [
      "<class 'pandas.core.frame.DataFrame'>\n",
      "RangeIndex: 605009 entries, 0 to 605008\n",
      "Data columns (total 16 columns):\n",
      " #   Column               Non-Null Count   Dtype         \n",
      "---  ------               --------------   -----         \n",
      " 0   last_reported        605009 non-null  datetime64[ns]\n",
      " 1   station_id           605009 non-null  int64         \n",
      " 2   num_bikes_available  605009 non-null  int64         \n",
      " 3   num_docks_available  605009 non-null  int64         \n",
      " 4   name                 605009 non-null  object        \n",
      " 5   address              605009 non-null  object        \n",
      " 6   lat                  605009 non-null  float64       \n",
      " 7   lon                  605009 non-null  float64       \n",
      " 8   capacity             605009 non-null  int64         \n",
      " 9   hour                 605009 non-null  int32         \n",
      " 10  minute               605009 non-null  int32         \n",
      " 11  day_of_week          605009 non-null  int32         \n",
      " 12  month                605009 non-null  int32         \n",
      " 13  year                 605009 non-null  int32         \n",
      " 14  date                 605009 non-null  datetime64[ns]\n",
      " 15  time_str             605009 non-null  datetime64[ns]\n",
      "dtypes: datetime64[ns](3), float64(2), int32(5), int64(4), object(2)\n",
      "memory usage: 62.3+ MB\n"
     ]
    }
   ],
   "source": [
    "#Confirm change, Basic info\n",
    "df.info()"
   ]
  },
  {
   "cell_type": "code",
   "execution_count": 50,
   "id": "4c8a715e",
   "metadata": {},
   "outputs": [
    {
     "ename": "ValueError",
     "evalue": "Expected a 2-dimensional container but got <class 'pandas.core.series.Series'> instead. Pass a DataFrame containing a single row (i.e. single sample) or a single column (i.e. single feature) instead.",
     "output_type": "error",
     "traceback": [
      "\u001b[1;31m---------------------------------------------------------------------------\u001b[0m",
      "\u001b[1;31mValueError\u001b[0m                                Traceback (most recent call last)",
      "Cell \u001b[1;32mIn[50], line 5\u001b[0m\n\u001b[0;32m      2\u001b[0m \u001b[38;5;28;01mfrom\u001b[39;00m \u001b[38;5;21;01msklearn\u001b[39;00m\u001b[38;5;21;01m.\u001b[39;00m\u001b[38;5;21;01mpreprocessing\u001b[39;00m \u001b[38;5;28;01mimport\u001b[39;00m OneHotEncoder\n\u001b[0;32m      4\u001b[0m encoder \u001b[38;5;241m=\u001b[39m OneHotEncoder(sparse_output\u001b[38;5;241m=\u001b[39m\u001b[38;5;28;01mFalse\u001b[39;00m, handle_unknown\u001b[38;5;241m=\u001b[39m\u001b[38;5;124m'\u001b[39m\u001b[38;5;124mignore\u001b[39m\u001b[38;5;124m'\u001b[39m)\n\u001b[1;32m----> 5\u001b[0m onehot \u001b[38;5;241m=\u001b[39m encoder\u001b[38;5;241m.\u001b[39mfit_transform(df[\u001b[38;5;124m'\u001b[39m\u001b[38;5;124mstation_id\u001b[39m\u001b[38;5;124m'\u001b[39m])\n",
      "File \u001b[1;32m~\\anaconda3\\Lib\\site-packages\\sklearn\\utils\\_set_output.py:295\u001b[0m, in \u001b[0;36m_wrap_method_output.<locals>.wrapped\u001b[1;34m(self, X, *args, **kwargs)\u001b[0m\n\u001b[0;32m    293\u001b[0m \u001b[38;5;129m@wraps\u001b[39m(f)\n\u001b[0;32m    294\u001b[0m \u001b[38;5;28;01mdef\u001b[39;00m \u001b[38;5;21mwrapped\u001b[39m(\u001b[38;5;28mself\u001b[39m, X, \u001b[38;5;241m*\u001b[39margs, \u001b[38;5;241m*\u001b[39m\u001b[38;5;241m*\u001b[39mkwargs):\n\u001b[1;32m--> 295\u001b[0m     data_to_wrap \u001b[38;5;241m=\u001b[39m f(\u001b[38;5;28mself\u001b[39m, X, \u001b[38;5;241m*\u001b[39margs, \u001b[38;5;241m*\u001b[39m\u001b[38;5;241m*\u001b[39mkwargs)\n\u001b[0;32m    296\u001b[0m     \u001b[38;5;28;01mif\u001b[39;00m \u001b[38;5;28misinstance\u001b[39m(data_to_wrap, \u001b[38;5;28mtuple\u001b[39m):\n\u001b[0;32m    297\u001b[0m         \u001b[38;5;66;03m# only wrap the first output for cross decomposition\u001b[39;00m\n\u001b[0;32m    298\u001b[0m         return_tuple \u001b[38;5;241m=\u001b[39m (\n\u001b[0;32m    299\u001b[0m             _wrap_data_with_container(method, data_to_wrap[\u001b[38;5;241m0\u001b[39m], X, \u001b[38;5;28mself\u001b[39m),\n\u001b[0;32m    300\u001b[0m             \u001b[38;5;241m*\u001b[39mdata_to_wrap[\u001b[38;5;241m1\u001b[39m:],\n\u001b[0;32m    301\u001b[0m         )\n",
      "File \u001b[1;32m~\\anaconda3\\Lib\\site-packages\\sklearn\\base.py:1098\u001b[0m, in \u001b[0;36mTransformerMixin.fit_transform\u001b[1;34m(self, X, y, **fit_params)\u001b[0m\n\u001b[0;32m   1083\u001b[0m         warnings\u001b[38;5;241m.\u001b[39mwarn(\n\u001b[0;32m   1084\u001b[0m             (\n\u001b[0;32m   1085\u001b[0m                 \u001b[38;5;124mf\u001b[39m\u001b[38;5;124m\"\u001b[39m\u001b[38;5;124mThis object (\u001b[39m\u001b[38;5;132;01m{\u001b[39;00m\u001b[38;5;28mself\u001b[39m\u001b[38;5;241m.\u001b[39m\u001b[38;5;18m__class__\u001b[39m\u001b[38;5;241m.\u001b[39m\u001b[38;5;18m__name__\u001b[39m\u001b[38;5;132;01m}\u001b[39;00m\u001b[38;5;124m) has a `transform`\u001b[39m\u001b[38;5;124m\"\u001b[39m\n\u001b[1;32m   (...)\u001b[0m\n\u001b[0;32m   1093\u001b[0m             \u001b[38;5;167;01mUserWarning\u001b[39;00m,\n\u001b[0;32m   1094\u001b[0m         )\n\u001b[0;32m   1096\u001b[0m \u001b[38;5;28;01mif\u001b[39;00m y \u001b[38;5;129;01mis\u001b[39;00m \u001b[38;5;28;01mNone\u001b[39;00m:\n\u001b[0;32m   1097\u001b[0m     \u001b[38;5;66;03m# fit method of arity 1 (unsupervised transformation)\u001b[39;00m\n\u001b[1;32m-> 1098\u001b[0m     \u001b[38;5;28;01mreturn\u001b[39;00m \u001b[38;5;28mself\u001b[39m\u001b[38;5;241m.\u001b[39mfit(X, \u001b[38;5;241m*\u001b[39m\u001b[38;5;241m*\u001b[39mfit_params)\u001b[38;5;241m.\u001b[39mtransform(X)\n\u001b[0;32m   1099\u001b[0m \u001b[38;5;28;01melse\u001b[39;00m:\n\u001b[0;32m   1100\u001b[0m     \u001b[38;5;66;03m# fit method of arity 2 (supervised transformation)\u001b[39;00m\n\u001b[0;32m   1101\u001b[0m     \u001b[38;5;28;01mreturn\u001b[39;00m \u001b[38;5;28mself\u001b[39m\u001b[38;5;241m.\u001b[39mfit(X, y, \u001b[38;5;241m*\u001b[39m\u001b[38;5;241m*\u001b[39mfit_params)\u001b[38;5;241m.\u001b[39mtransform(X)\n",
      "File \u001b[1;32m~\\anaconda3\\Lib\\site-packages\\sklearn\\base.py:1474\u001b[0m, in \u001b[0;36m_fit_context.<locals>.decorator.<locals>.wrapper\u001b[1;34m(estimator, *args, **kwargs)\u001b[0m\n\u001b[0;32m   1467\u001b[0m     estimator\u001b[38;5;241m.\u001b[39m_validate_params()\n\u001b[0;32m   1469\u001b[0m \u001b[38;5;28;01mwith\u001b[39;00m config_context(\n\u001b[0;32m   1470\u001b[0m     skip_parameter_validation\u001b[38;5;241m=\u001b[39m(\n\u001b[0;32m   1471\u001b[0m         prefer_skip_nested_validation \u001b[38;5;129;01mor\u001b[39;00m global_skip_validation\n\u001b[0;32m   1472\u001b[0m     )\n\u001b[0;32m   1473\u001b[0m ):\n\u001b[1;32m-> 1474\u001b[0m     \u001b[38;5;28;01mreturn\u001b[39;00m fit_method(estimator, \u001b[38;5;241m*\u001b[39margs, \u001b[38;5;241m*\u001b[39m\u001b[38;5;241m*\u001b[39mkwargs)\n",
      "File \u001b[1;32m~\\anaconda3\\Lib\\site-packages\\sklearn\\preprocessing\\_encoders.py:975\u001b[0m, in \u001b[0;36mOneHotEncoder.fit\u001b[1;34m(self, X, y)\u001b[0m\n\u001b[0;32m    956\u001b[0m \u001b[38;5;129m@_fit_context\u001b[39m(prefer_skip_nested_validation\u001b[38;5;241m=\u001b[39m\u001b[38;5;28;01mTrue\u001b[39;00m)\n\u001b[0;32m    957\u001b[0m \u001b[38;5;28;01mdef\u001b[39;00m \u001b[38;5;21mfit\u001b[39m(\u001b[38;5;28mself\u001b[39m, X, y\u001b[38;5;241m=\u001b[39m\u001b[38;5;28;01mNone\u001b[39;00m):\n\u001b[0;32m    958\u001b[0m \u001b[38;5;250m    \u001b[39m\u001b[38;5;124;03m\"\"\"\u001b[39;00m\n\u001b[0;32m    959\u001b[0m \u001b[38;5;124;03m    Fit OneHotEncoder to X.\u001b[39;00m\n\u001b[0;32m    960\u001b[0m \n\u001b[1;32m   (...)\u001b[0m\n\u001b[0;32m    973\u001b[0m \u001b[38;5;124;03m        Fitted encoder.\u001b[39;00m\n\u001b[0;32m    974\u001b[0m \u001b[38;5;124;03m    \"\"\"\u001b[39;00m\n\u001b[1;32m--> 975\u001b[0m     \u001b[38;5;28mself\u001b[39m\u001b[38;5;241m.\u001b[39m_fit(\n\u001b[0;32m    976\u001b[0m         X,\n\u001b[0;32m    977\u001b[0m         handle_unknown\u001b[38;5;241m=\u001b[39m\u001b[38;5;28mself\u001b[39m\u001b[38;5;241m.\u001b[39mhandle_unknown,\n\u001b[0;32m    978\u001b[0m         force_all_finite\u001b[38;5;241m=\u001b[39m\u001b[38;5;124m\"\u001b[39m\u001b[38;5;124mallow-nan\u001b[39m\u001b[38;5;124m\"\u001b[39m,\n\u001b[0;32m    979\u001b[0m     )\n\u001b[0;32m    980\u001b[0m     \u001b[38;5;28mself\u001b[39m\u001b[38;5;241m.\u001b[39m_set_drop_idx()\n\u001b[0;32m    981\u001b[0m     \u001b[38;5;28mself\u001b[39m\u001b[38;5;241m.\u001b[39m_n_features_outs \u001b[38;5;241m=\u001b[39m \u001b[38;5;28mself\u001b[39m\u001b[38;5;241m.\u001b[39m_compute_n_features_outs()\n",
      "File \u001b[1;32m~\\anaconda3\\Lib\\site-packages\\sklearn\\preprocessing\\_encoders.py:78\u001b[0m, in \u001b[0;36m_BaseEncoder._fit\u001b[1;34m(self, X, handle_unknown, force_all_finite, return_counts, return_and_ignore_missing_for_infrequent)\u001b[0m\n\u001b[0;32m     76\u001b[0m \u001b[38;5;28mself\u001b[39m\u001b[38;5;241m.\u001b[39m_check_n_features(X, reset\u001b[38;5;241m=\u001b[39m\u001b[38;5;28;01mTrue\u001b[39;00m)\n\u001b[0;32m     77\u001b[0m \u001b[38;5;28mself\u001b[39m\u001b[38;5;241m.\u001b[39m_check_feature_names(X, reset\u001b[38;5;241m=\u001b[39m\u001b[38;5;28;01mTrue\u001b[39;00m)\n\u001b[1;32m---> 78\u001b[0m X_list, n_samples, n_features \u001b[38;5;241m=\u001b[39m \u001b[38;5;28mself\u001b[39m\u001b[38;5;241m.\u001b[39m_check_X(\n\u001b[0;32m     79\u001b[0m     X, force_all_finite\u001b[38;5;241m=\u001b[39mforce_all_finite\n\u001b[0;32m     80\u001b[0m )\n\u001b[0;32m     81\u001b[0m \u001b[38;5;28mself\u001b[39m\u001b[38;5;241m.\u001b[39mn_features_in_ \u001b[38;5;241m=\u001b[39m n_features\n\u001b[0;32m     83\u001b[0m \u001b[38;5;28;01mif\u001b[39;00m \u001b[38;5;28mself\u001b[39m\u001b[38;5;241m.\u001b[39mcategories \u001b[38;5;241m!=\u001b[39m \u001b[38;5;124m\"\u001b[39m\u001b[38;5;124mauto\u001b[39m\u001b[38;5;124m\"\u001b[39m:\n",
      "File \u001b[1;32m~\\anaconda3\\Lib\\site-packages\\sklearn\\preprocessing\\_encoders.py:44\u001b[0m, in \u001b[0;36m_BaseEncoder._check_X\u001b[1;34m(self, X, force_all_finite)\u001b[0m\n\u001b[0;32m     31\u001b[0m \u001b[38;5;250m\u001b[39m\u001b[38;5;124;03m\"\"\"\u001b[39;00m\n\u001b[0;32m     32\u001b[0m \u001b[38;5;124;03mPerform custom check_array:\u001b[39;00m\n\u001b[0;32m     33\u001b[0m \u001b[38;5;124;03m- convert list of strings to object dtype\u001b[39;00m\n\u001b[1;32m   (...)\u001b[0m\n\u001b[0;32m     40\u001b[0m \n\u001b[0;32m     41\u001b[0m \u001b[38;5;124;03m\"\"\"\u001b[39;00m\n\u001b[0;32m     42\u001b[0m \u001b[38;5;28;01mif\u001b[39;00m \u001b[38;5;129;01mnot\u001b[39;00m (\u001b[38;5;28mhasattr\u001b[39m(X, \u001b[38;5;124m\"\u001b[39m\u001b[38;5;124miloc\u001b[39m\u001b[38;5;124m\"\u001b[39m) \u001b[38;5;129;01mand\u001b[39;00m \u001b[38;5;28mgetattr\u001b[39m(X, \u001b[38;5;124m\"\u001b[39m\u001b[38;5;124mndim\u001b[39m\u001b[38;5;124m\"\u001b[39m, \u001b[38;5;241m0\u001b[39m) \u001b[38;5;241m==\u001b[39m \u001b[38;5;241m2\u001b[39m):\n\u001b[0;32m     43\u001b[0m     \u001b[38;5;66;03m# if not a dataframe, do normal check_array validation\u001b[39;00m\n\u001b[1;32m---> 44\u001b[0m     X_temp \u001b[38;5;241m=\u001b[39m check_array(X, dtype\u001b[38;5;241m=\u001b[39m\u001b[38;5;28;01mNone\u001b[39;00m, force_all_finite\u001b[38;5;241m=\u001b[39mforce_all_finite)\n\u001b[0;32m     45\u001b[0m     \u001b[38;5;28;01mif\u001b[39;00m \u001b[38;5;129;01mnot\u001b[39;00m \u001b[38;5;28mhasattr\u001b[39m(X, \u001b[38;5;124m\"\u001b[39m\u001b[38;5;124mdtype\u001b[39m\u001b[38;5;124m\"\u001b[39m) \u001b[38;5;129;01mand\u001b[39;00m np\u001b[38;5;241m.\u001b[39missubdtype(X_temp\u001b[38;5;241m.\u001b[39mdtype, np\u001b[38;5;241m.\u001b[39mstr_):\n\u001b[0;32m     46\u001b[0m         X \u001b[38;5;241m=\u001b[39m check_array(X, dtype\u001b[38;5;241m=\u001b[39m\u001b[38;5;28mobject\u001b[39m, force_all_finite\u001b[38;5;241m=\u001b[39mforce_all_finite)\n",
      "File \u001b[1;32m~\\anaconda3\\Lib\\site-packages\\sklearn\\utils\\validation.py:1035\u001b[0m, in \u001b[0;36mcheck_array\u001b[1;34m(array, accept_sparse, accept_large_sparse, dtype, order, copy, force_all_finite, ensure_2d, allow_nd, ensure_min_samples, ensure_min_features, estimator, input_name)\u001b[0m\n\u001b[0;32m   1028\u001b[0m         \u001b[38;5;28;01melse\u001b[39;00m:\n\u001b[0;32m   1029\u001b[0m             msg \u001b[38;5;241m=\u001b[39m (\n\u001b[0;32m   1030\u001b[0m                 \u001b[38;5;124mf\u001b[39m\u001b[38;5;124m\"\u001b[39m\u001b[38;5;124mExpected 2D array, got 1D array instead:\u001b[39m\u001b[38;5;130;01m\\n\u001b[39;00m\u001b[38;5;124marray=\u001b[39m\u001b[38;5;132;01m{\u001b[39;00marray\u001b[38;5;132;01m}\u001b[39;00m\u001b[38;5;124m.\u001b[39m\u001b[38;5;130;01m\\n\u001b[39;00m\u001b[38;5;124m\"\u001b[39m\n\u001b[0;32m   1031\u001b[0m                 \u001b[38;5;124m\"\u001b[39m\u001b[38;5;124mReshape your data either using array.reshape(-1, 1) if \u001b[39m\u001b[38;5;124m\"\u001b[39m\n\u001b[0;32m   1032\u001b[0m                 \u001b[38;5;124m\"\u001b[39m\u001b[38;5;124myour data has a single feature or array.reshape(1, -1) \u001b[39m\u001b[38;5;124m\"\u001b[39m\n\u001b[0;32m   1033\u001b[0m                 \u001b[38;5;124m\"\u001b[39m\u001b[38;5;124mif it contains a single sample.\u001b[39m\u001b[38;5;124m\"\u001b[39m\n\u001b[0;32m   1034\u001b[0m             )\n\u001b[1;32m-> 1035\u001b[0m         \u001b[38;5;28;01mraise\u001b[39;00m \u001b[38;5;167;01mValueError\u001b[39;00m(msg)\n\u001b[0;32m   1037\u001b[0m \u001b[38;5;28;01mif\u001b[39;00m dtype_numeric \u001b[38;5;129;01mand\u001b[39;00m \u001b[38;5;28mhasattr\u001b[39m(array\u001b[38;5;241m.\u001b[39mdtype, \u001b[38;5;124m\"\u001b[39m\u001b[38;5;124mkind\u001b[39m\u001b[38;5;124m\"\u001b[39m) \u001b[38;5;129;01mand\u001b[39;00m array\u001b[38;5;241m.\u001b[39mdtype\u001b[38;5;241m.\u001b[39mkind \u001b[38;5;129;01min\u001b[39;00m \u001b[38;5;124m\"\u001b[39m\u001b[38;5;124mUSV\u001b[39m\u001b[38;5;124m\"\u001b[39m:\n\u001b[0;32m   1038\u001b[0m     \u001b[38;5;28;01mraise\u001b[39;00m \u001b[38;5;167;01mValueError\u001b[39;00m(\n\u001b[0;32m   1039\u001b[0m         \u001b[38;5;124m\"\u001b[39m\u001b[38;5;124mdtype=\u001b[39m\u001b[38;5;124m'\u001b[39m\u001b[38;5;124mnumeric\u001b[39m\u001b[38;5;124m'\u001b[39m\u001b[38;5;124m is not compatible with arrays of bytes/strings.\u001b[39m\u001b[38;5;124m\"\u001b[39m\n\u001b[0;32m   1040\u001b[0m         \u001b[38;5;124m\"\u001b[39m\u001b[38;5;124mConvert your data to numeric values explicitly instead.\u001b[39m\u001b[38;5;124m\"\u001b[39m\n\u001b[0;32m   1041\u001b[0m     )\n",
      "\u001b[1;31mValueError\u001b[0m: Expected a 2-dimensional container but got <class 'pandas.core.series.Series'> instead. Pass a DataFrame containing a single row (i.e. single sample) or a single column (i.e. single feature) instead."
     ]
    }
   ],
   "source": [
    "#Encode station id\n",
    "from sklearn.preprocessing import OneHotEncoder\n",
    "\n",
    "encoder = OneHotEncoder(sparse_output=False, handle_unknown='ignore')\n",
    "onehot = encoder.fit_transform(df['station_id'])"
   ]
  },
  {
   "cell_type": "code",
   "execution_count": 33,
   "id": "465d5ccc",
   "metadata": {
    "scrolled": true
   },
   "outputs": [
    {
     "data": {
      "text/plain": [
       "115"
      ]
     },
     "execution_count": 33,
     "metadata": {},
     "output_type": "execute_result"
    }
   ],
   "source": [
    "df['name'].nunique()"
   ]
  },
  {
   "cell_type": "code",
   "execution_count": 34,
   "id": "1e18a47d",
   "metadata": {},
   "outputs": [
    {
     "data": {
      "text/plain": [
       "115"
      ]
     },
     "execution_count": 34,
     "metadata": {},
     "output_type": "execute_result"
    }
   ],
   "source": [
    "df['name_encoded'].nunique()"
   ]
  },
  {
   "cell_type": "code",
   "execution_count": 38,
   "id": "3f50bd92",
   "metadata": {},
   "outputs": [
    {
     "name": "stdout",
     "output_type": "stream",
     "text": [
      "<class 'pandas.core.frame.DataFrame'>\n",
      "RangeIndex: 605009 entries, 0 to 605008\n",
      "Data columns (total 17 columns):\n",
      " #   Column               Non-Null Count   Dtype         \n",
      "---  ------               --------------   -----         \n",
      " 0   last_reported        605009 non-null  datetime64[ns]\n",
      " 1   station_id           605009 non-null  int64         \n",
      " 2   num_bikes_available  605009 non-null  int64         \n",
      " 3   num_docks_available  605009 non-null  int64         \n",
      " 4   name                 605009 non-null  object        \n",
      " 5   address              605009 non-null  object        \n",
      " 6   lat                  605009 non-null  float64       \n",
      " 7   lon                  605009 non-null  float64       \n",
      " 8   capacity             605009 non-null  int64         \n",
      " 9   hour                 605009 non-null  int32         \n",
      " 10  minute               605009 non-null  int32         \n",
      " 11  day_of_week          605009 non-null  int32         \n",
      " 12  month                605009 non-null  int32         \n",
      " 13  year                 605009 non-null  int32         \n",
      " 14  date                 605009 non-null  datetime64[ns]\n",
      " 15  time_str             605009 non-null  datetime64[ns]\n",
      " 16  name_encoded         605009 non-null  int32         \n",
      "dtypes: datetime64[ns](3), float64(2), int32(6), int64(4), object(2)\n",
      "memory usage: 64.6+ MB\n"
     ]
    },
    {
     "data": {
      "text/html": [
       "<div>\n",
       "<style scoped>\n",
       "    .dataframe tbody tr th:only-of-type {\n",
       "        vertical-align: middle;\n",
       "    }\n",
       "\n",
       "    .dataframe tbody tr th {\n",
       "        vertical-align: top;\n",
       "    }\n",
       "\n",
       "    .dataframe thead th {\n",
       "        text-align: right;\n",
       "    }\n",
       "</style>\n",
       "<table border=\"1\" class=\"dataframe\">\n",
       "  <thead>\n",
       "    <tr style=\"text-align: right;\">\n",
       "      <th></th>\n",
       "      <th>last_reported</th>\n",
       "      <th>station_id</th>\n",
       "      <th>num_bikes_available</th>\n",
       "      <th>num_docks_available</th>\n",
       "      <th>name</th>\n",
       "      <th>address</th>\n",
       "      <th>lat</th>\n",
       "      <th>lon</th>\n",
       "      <th>capacity</th>\n",
       "      <th>hour</th>\n",
       "      <th>minute</th>\n",
       "      <th>day_of_week</th>\n",
       "      <th>month</th>\n",
       "      <th>year</th>\n",
       "      <th>date</th>\n",
       "      <th>time_str</th>\n",
       "      <th>name_encoded</th>\n",
       "    </tr>\n",
       "  </thead>\n",
       "  <tbody>\n",
       "    <tr>\n",
       "      <th>0</th>\n",
       "      <td>2024-12-01 00:05:00</td>\n",
       "      <td>1</td>\n",
       "      <td>22</td>\n",
       "      <td>9</td>\n",
       "      <td>CLARENDON ROW</td>\n",
       "      <td>Clarendon Row</td>\n",
       "      <td>53.340927</td>\n",
       "      <td>-6.262501</td>\n",
       "      <td>31</td>\n",
       "      <td>0</td>\n",
       "      <td>5</td>\n",
       "      <td>6</td>\n",
       "      <td>12</td>\n",
       "      <td>2024</td>\n",
       "      <td>2024-12-01</td>\n",
       "      <td>2025-05-09 00:05:00</td>\n",
       "      <td>14</td>\n",
       "    </tr>\n",
       "    <tr>\n",
       "      <th>1</th>\n",
       "      <td>2024-12-01 00:05:00</td>\n",
       "      <td>101</td>\n",
       "      <td>10</td>\n",
       "      <td>20</td>\n",
       "      <td>KING STREET NORTH</td>\n",
       "      <td>King Street North</td>\n",
       "      <td>53.350292</td>\n",
       "      <td>-6.273507</td>\n",
       "      <td>30</td>\n",
       "      <td>0</td>\n",
       "      <td>5</td>\n",
       "      <td>6</td>\n",
       "      <td>12</td>\n",
       "      <td>2024</td>\n",
       "      <td>2024-12-01</td>\n",
       "      <td>2025-05-09 00:05:00</td>\n",
       "      <td>67</td>\n",
       "    </tr>\n",
       "    <tr>\n",
       "      <th>2</th>\n",
       "      <td>2024-12-01 00:05:00</td>\n",
       "      <td>102</td>\n",
       "      <td>2</td>\n",
       "      <td>38</td>\n",
       "      <td>WESTERN WAY</td>\n",
       "      <td>Western Way</td>\n",
       "      <td>53.354930</td>\n",
       "      <td>-6.269425</td>\n",
       "      <td>40</td>\n",
       "      <td>0</td>\n",
       "      <td>5</td>\n",
       "      <td>6</td>\n",
       "      <td>12</td>\n",
       "      <td>2024</td>\n",
       "      <td>2024-12-01</td>\n",
       "      <td>2025-05-09 00:05:00</td>\n",
       "      <td>109</td>\n",
       "    </tr>\n",
       "    <tr>\n",
       "      <th>3</th>\n",
       "      <td>2024-12-01 00:05:00</td>\n",
       "      <td>103</td>\n",
       "      <td>0</td>\n",
       "      <td>40</td>\n",
       "      <td>GRANGEGORMAN LOWER (SOUTH)</td>\n",
       "      <td>Grangegorman Lower (South)</td>\n",
       "      <td>53.354664</td>\n",
       "      <td>-6.278681</td>\n",
       "      <td>40</td>\n",
       "      <td>0</td>\n",
       "      <td>5</td>\n",
       "      <td>6</td>\n",
       "      <td>12</td>\n",
       "      <td>2024</td>\n",
       "      <td>2024-12-01</td>\n",
       "      <td>2025-05-09 00:05:00</td>\n",
       "      <td>41</td>\n",
       "    </tr>\n",
       "    <tr>\n",
       "      <th>4</th>\n",
       "      <td>2024-12-01 00:05:00</td>\n",
       "      <td>104</td>\n",
       "      <td>0</td>\n",
       "      <td>40</td>\n",
       "      <td>GRANGEGORMAN LOWER (CENTRAL)</td>\n",
       "      <td>Grangegorman Lower (Central)</td>\n",
       "      <td>53.355170</td>\n",
       "      <td>-6.278424</td>\n",
       "      <td>40</td>\n",
       "      <td>0</td>\n",
       "      <td>5</td>\n",
       "      <td>6</td>\n",
       "      <td>12</td>\n",
       "      <td>2024</td>\n",
       "      <td>2024-12-01</td>\n",
       "      <td>2025-05-09 00:05:00</td>\n",
       "      <td>39</td>\n",
       "    </tr>\n",
       "  </tbody>\n",
       "</table>\n",
       "</div>"
      ],
      "text/plain": [
       "        last_reported  station_id  num_bikes_available  num_docks_available  \\\n",
       "0 2024-12-01 00:05:00           1                   22                    9   \n",
       "1 2024-12-01 00:05:00         101                   10                   20   \n",
       "2 2024-12-01 00:05:00         102                    2                   38   \n",
       "3 2024-12-01 00:05:00         103                    0                   40   \n",
       "4 2024-12-01 00:05:00         104                    0                   40   \n",
       "\n",
       "                           name                       address        lat  \\\n",
       "0                 CLARENDON ROW                 Clarendon Row  53.340927   \n",
       "1             KING STREET NORTH             King Street North  53.350292   \n",
       "2                   WESTERN WAY                   Western Way  53.354930   \n",
       "3    GRANGEGORMAN LOWER (SOUTH)    Grangegorman Lower (South)  53.354664   \n",
       "4  GRANGEGORMAN LOWER (CENTRAL)  Grangegorman Lower (Central)  53.355170   \n",
       "\n",
       "        lon  capacity  hour  minute  day_of_week  month  year       date  \\\n",
       "0 -6.262501        31     0       5            6     12  2024 2024-12-01   \n",
       "1 -6.273507        30     0       5            6     12  2024 2024-12-01   \n",
       "2 -6.269425        40     0       5            6     12  2024 2024-12-01   \n",
       "3 -6.278681        40     0       5            6     12  2024 2024-12-01   \n",
       "4 -6.278424        40     0       5            6     12  2024 2024-12-01   \n",
       "\n",
       "             time_str  name_encoded  \n",
       "0 2025-05-09 00:05:00            14  \n",
       "1 2025-05-09 00:05:00            67  \n",
       "2 2025-05-09 00:05:00           109  \n",
       "3 2025-05-09 00:05:00            41  \n",
       "4 2025-05-09 00:05:00            39  "
      ]
     },
     "execution_count": 38,
     "metadata": {},
     "output_type": "execute_result"
    }
   ],
   "source": [
    "# Final check\n",
    "df.info()\n",
    "df.head()"
   ]
  },
  {
   "cell_type": "code",
   "execution_count": null,
   "id": "0ab4f90c",
   "metadata": {},
   "outputs": [],
   "source": []
  }
 ],
 "metadata": {
  "kernelspec": {
   "display_name": "Python 3 (ipykernel)",
   "language": "python",
   "name": "python3"
  },
  "language_info": {
   "codemirror_mode": {
    "name": "ipython",
    "version": 3
   },
   "file_extension": ".py",
   "mimetype": "text/x-python",
   "name": "python",
   "nbconvert_exporter": "python",
   "pygments_lexer": "ipython3",
   "version": "3.12.3"
  }
 },
 "nbformat": 4,
 "nbformat_minor": 5
}
