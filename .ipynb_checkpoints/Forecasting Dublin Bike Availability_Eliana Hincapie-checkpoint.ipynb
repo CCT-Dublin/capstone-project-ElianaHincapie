{
 "cells": [
  {
   "cell_type": "markdown",
   "id": "6e6c737e",
   "metadata": {},
   "source": [
    "# Forecasting Dublin Bike Availability Using Machine Learning Models\n",
    "\n",
    "\n",
    "\n",
    "## CA3 Capstone Project Strategic Thinking\n",
    "### Eliana Hincapie"
   ]
  },
  {
   "cell_type": "markdown",
   "id": "bb62b33b",
   "metadata": {},
   "source": [
    "The primary objective of this project is to develop machine learning models capable of accurately forecasting the availability of bicycles at individual Dublin Bikes stations. "
   ]
  },
  {
   "cell_type": "code",
   "execution_count": 1,
   "id": "14dca641",
   "metadata": {},
   "outputs": [],
   "source": [
    "#Import libraries\n",
    "import pandas as pd\n",
    "import numpy as np\n",
    "import matplotlib.pyplot as plt\n",
    "import seaborn as sns\n",
    "\n",
    "from sklearn.preprocessing import OneHotEncoder\n",
    "from sklearn.preprocessing import LabelEncoder"
   ]
  },
  {
   "cell_type": "code",
   "execution_count": 2,
   "id": "1bf337ea",
   "metadata": {},
   "outputs": [],
   "source": [
    "import warnings \n",
    "\n",
    "warnings.filterwarnings('ignore')"
   ]
  },
  {
   "cell_type": "code",
   "execution_count": 3,
   "id": "30831fa9",
   "metadata": {},
   "outputs": [],
   "source": [
    "#Load dataset\n",
    "df = pd.read_csv('dublin-bikes_station_status_122024.csv')"
   ]
  },
  {
   "cell_type": "markdown",
   "id": "d455ca5d",
   "metadata": {},
   "source": [
    "#### Understanding the Data"
   ]
  },
  {
   "cell_type": "code",
   "execution_count": 4,
   "id": "a42f9ebf",
   "metadata": {
    "scrolled": false
   },
   "outputs": [
    {
     "data": {
      "text/html": [
       "<div>\n",
       "<style scoped>\n",
       "    .dataframe tbody tr th:only-of-type {\n",
       "        vertical-align: middle;\n",
       "    }\n",
       "\n",
       "    .dataframe tbody tr th {\n",
       "        vertical-align: top;\n",
       "    }\n",
       "\n",
       "    .dataframe thead th {\n",
       "        text-align: right;\n",
       "    }\n",
       "</style>\n",
       "<table border=\"1\" class=\"dataframe\">\n",
       "  <thead>\n",
       "    <tr style=\"text-align: right;\">\n",
       "      <th></th>\n",
       "      <th>system_id</th>\n",
       "      <th>last_reported</th>\n",
       "      <th>station_id</th>\n",
       "      <th>num_bikes_available</th>\n",
       "      <th>num_docks_available</th>\n",
       "      <th>is_installed</th>\n",
       "      <th>is_renting</th>\n",
       "      <th>is_returning</th>\n",
       "      <th>name</th>\n",
       "      <th>short_name</th>\n",
       "      <th>address</th>\n",
       "      <th>lat</th>\n",
       "      <th>lon</th>\n",
       "      <th>region_id</th>\n",
       "      <th>capacity</th>\n",
       "    </tr>\n",
       "  </thead>\n",
       "  <tbody>\n",
       "    <tr>\n",
       "      <th>0</th>\n",
       "      <td>dublin_bikes</td>\n",
       "      <td>2024-12-01 00:05:00</td>\n",
       "      <td>1</td>\n",
       "      <td>22</td>\n",
       "      <td>9</td>\n",
       "      <td>True</td>\n",
       "      <td>True</td>\n",
       "      <td>True</td>\n",
       "      <td>CLARENDON ROW</td>\n",
       "      <td>NaN</td>\n",
       "      <td>Clarendon Row</td>\n",
       "      <td>53.340927</td>\n",
       "      <td>-6.262501</td>\n",
       "      <td>NaN</td>\n",
       "      <td>31</td>\n",
       "    </tr>\n",
       "    <tr>\n",
       "      <th>1</th>\n",
       "      <td>dublin_bikes</td>\n",
       "      <td>2024-12-01 00:05:00</td>\n",
       "      <td>101</td>\n",
       "      <td>10</td>\n",
       "      <td>20</td>\n",
       "      <td>True</td>\n",
       "      <td>True</td>\n",
       "      <td>True</td>\n",
       "      <td>KING STREET NORTH</td>\n",
       "      <td>NaN</td>\n",
       "      <td>King Street North</td>\n",
       "      <td>53.350292</td>\n",
       "      <td>-6.273507</td>\n",
       "      <td>NaN</td>\n",
       "      <td>30</td>\n",
       "    </tr>\n",
       "    <tr>\n",
       "      <th>2</th>\n",
       "      <td>dublin_bikes</td>\n",
       "      <td>2024-12-01 00:05:00</td>\n",
       "      <td>102</td>\n",
       "      <td>2</td>\n",
       "      <td>38</td>\n",
       "      <td>True</td>\n",
       "      <td>True</td>\n",
       "      <td>True</td>\n",
       "      <td>WESTERN WAY</td>\n",
       "      <td>NaN</td>\n",
       "      <td>Western Way</td>\n",
       "      <td>53.354930</td>\n",
       "      <td>-6.269425</td>\n",
       "      <td>NaN</td>\n",
       "      <td>40</td>\n",
       "    </tr>\n",
       "    <tr>\n",
       "      <th>3</th>\n",
       "      <td>dublin_bikes</td>\n",
       "      <td>2024-12-01 00:05:00</td>\n",
       "      <td>103</td>\n",
       "      <td>0</td>\n",
       "      <td>40</td>\n",
       "      <td>True</td>\n",
       "      <td>True</td>\n",
       "      <td>True</td>\n",
       "      <td>GRANGEGORMAN LOWER (SOUTH)</td>\n",
       "      <td>NaN</td>\n",
       "      <td>Grangegorman Lower (South)</td>\n",
       "      <td>53.354664</td>\n",
       "      <td>-6.278681</td>\n",
       "      <td>NaN</td>\n",
       "      <td>40</td>\n",
       "    </tr>\n",
       "    <tr>\n",
       "      <th>4</th>\n",
       "      <td>dublin_bikes</td>\n",
       "      <td>2024-12-01 00:05:00</td>\n",
       "      <td>104</td>\n",
       "      <td>0</td>\n",
       "      <td>40</td>\n",
       "      <td>True</td>\n",
       "      <td>True</td>\n",
       "      <td>True</td>\n",
       "      <td>GRANGEGORMAN LOWER (CENTRAL)</td>\n",
       "      <td>NaN</td>\n",
       "      <td>Grangegorman Lower (Central)</td>\n",
       "      <td>53.355170</td>\n",
       "      <td>-6.278424</td>\n",
       "      <td>NaN</td>\n",
       "      <td>40</td>\n",
       "    </tr>\n",
       "  </tbody>\n",
       "</table>\n",
       "</div>"
      ],
      "text/plain": [
       "      system_id        last_reported  station_id  num_bikes_available  \\\n",
       "0  dublin_bikes  2024-12-01 00:05:00           1                   22   \n",
       "1  dublin_bikes  2024-12-01 00:05:00         101                   10   \n",
       "2  dublin_bikes  2024-12-01 00:05:00         102                    2   \n",
       "3  dublin_bikes  2024-12-01 00:05:00         103                    0   \n",
       "4  dublin_bikes  2024-12-01 00:05:00         104                    0   \n",
       "\n",
       "   num_docks_available  is_installed  is_renting  is_returning  \\\n",
       "0                    9          True        True          True   \n",
       "1                   20          True        True          True   \n",
       "2                   38          True        True          True   \n",
       "3                   40          True        True          True   \n",
       "4                   40          True        True          True   \n",
       "\n",
       "                           name  short_name                       address  \\\n",
       "0                 CLARENDON ROW         NaN                 Clarendon Row   \n",
       "1             KING STREET NORTH         NaN             King Street North   \n",
       "2                   WESTERN WAY         NaN                   Western Way   \n",
       "3    GRANGEGORMAN LOWER (SOUTH)         NaN    Grangegorman Lower (South)   \n",
       "4  GRANGEGORMAN LOWER (CENTRAL)         NaN  Grangegorman Lower (Central)   \n",
       "\n",
       "         lat       lon  region_id  capacity  \n",
       "0  53.340927 -6.262501        NaN        31  \n",
       "1  53.350292 -6.273507        NaN        30  \n",
       "2  53.354930 -6.269425        NaN        40  \n",
       "3  53.354664 -6.278681        NaN        40  \n",
       "4  53.355170 -6.278424        NaN        40  "
      ]
     },
     "execution_count": 4,
     "metadata": {},
     "output_type": "execute_result"
    }
   ],
   "source": [
    "#Preview data\n",
    "df.head()"
   ]
  },
  {
   "cell_type": "code",
   "execution_count": 5,
   "id": "6f18c645",
   "metadata": {},
   "outputs": [
    {
     "name": "stdout",
     "output_type": "stream",
     "text": [
      "<class 'pandas.core.frame.DataFrame'>\n",
      "RangeIndex: 605009 entries, 0 to 605008\n",
      "Data columns (total 15 columns):\n",
      " #   Column               Non-Null Count   Dtype  \n",
      "---  ------               --------------   -----  \n",
      " 0   system_id            605009 non-null  object \n",
      " 1   last_reported        605009 non-null  object \n",
      " 2   station_id           605009 non-null  int64  \n",
      " 3   num_bikes_available  605009 non-null  int64  \n",
      " 4   num_docks_available  605009 non-null  int64  \n",
      " 5   is_installed         605009 non-null  bool   \n",
      " 6   is_renting           605009 non-null  bool   \n",
      " 7   is_returning         605009 non-null  bool   \n",
      " 8   name                 605009 non-null  object \n",
      " 9   short_name           0 non-null       float64\n",
      " 10  address              605009 non-null  object \n",
      " 11  lat                  605009 non-null  float64\n",
      " 12  lon                  605009 non-null  float64\n",
      " 13  region_id            0 non-null       float64\n",
      " 14  capacity             605009 non-null  int64  \n",
      "dtypes: bool(3), float64(4), int64(4), object(4)\n",
      "memory usage: 57.1+ MB\n"
     ]
    }
   ],
   "source": [
    "#Basic info and shape\n",
    "df.info()"
   ]
  },
  {
   "cell_type": "code",
   "execution_count": 6,
   "id": "e2806876",
   "metadata": {},
   "outputs": [
    {
     "data": {
      "text/plain": [
       "(605009, 15)"
      ]
     },
     "execution_count": 6,
     "metadata": {},
     "output_type": "execute_result"
    }
   ],
   "source": [
    "df.shape"
   ]
  },
  {
   "cell_type": "code",
   "execution_count": 7,
   "id": "63e3cbf7",
   "metadata": {},
   "outputs": [
    {
     "data": {
      "text/html": [
       "<div>\n",
       "<style scoped>\n",
       "    .dataframe tbody tr th:only-of-type {\n",
       "        vertical-align: middle;\n",
       "    }\n",
       "\n",
       "    .dataframe tbody tr th {\n",
       "        vertical-align: top;\n",
       "    }\n",
       "\n",
       "    .dataframe thead th {\n",
       "        text-align: right;\n",
       "    }\n",
       "</style>\n",
       "<table border=\"1\" class=\"dataframe\">\n",
       "  <thead>\n",
       "    <tr style=\"text-align: right;\">\n",
       "      <th></th>\n",
       "      <th>station_id</th>\n",
       "      <th>num_bikes_available</th>\n",
       "      <th>num_docks_available</th>\n",
       "      <th>short_name</th>\n",
       "      <th>lat</th>\n",
       "      <th>lon</th>\n",
       "      <th>region_id</th>\n",
       "      <th>capacity</th>\n",
       "    </tr>\n",
       "  </thead>\n",
       "  <tbody>\n",
       "    <tr>\n",
       "      <th>count</th>\n",
       "      <td>605009.000000</td>\n",
       "      <td>605009.000000</td>\n",
       "      <td>605009.00000</td>\n",
       "      <td>0.0</td>\n",
       "      <td>605009.000000</td>\n",
       "      <td>605009.000000</td>\n",
       "      <td>0.0</td>\n",
       "      <td>605009.000000</td>\n",
       "    </tr>\n",
       "    <tr>\n",
       "      <th>mean</th>\n",
       "      <td>57.951001</td>\n",
       "      <td>12.308017</td>\n",
       "      <td>19.21137</td>\n",
       "      <td>NaN</td>\n",
       "      <td>53.345457</td>\n",
       "      <td>-6.263820</td>\n",
       "      <td>NaN</td>\n",
       "      <td>31.964569</td>\n",
       "    </tr>\n",
       "    <tr>\n",
       "      <th>std</th>\n",
       "      <td>33.974053</td>\n",
       "      <td>9.713911</td>\n",
       "      <td>10.91414</td>\n",
       "      <td>NaN</td>\n",
       "      <td>0.007517</td>\n",
       "      <td>0.017848</td>\n",
       "      <td>NaN</td>\n",
       "      <td>7.441581</td>\n",
       "    </tr>\n",
       "    <tr>\n",
       "      <th>min</th>\n",
       "      <td>1.000000</td>\n",
       "      <td>0.000000</td>\n",
       "      <td>0.00000</td>\n",
       "      <td>NaN</td>\n",
       "      <td>53.330090</td>\n",
       "      <td>-6.310015</td>\n",
       "      <td>NaN</td>\n",
       "      <td>16.000000</td>\n",
       "    </tr>\n",
       "    <tr>\n",
       "      <th>25%</th>\n",
       "      <td>28.000000</td>\n",
       "      <td>4.000000</td>\n",
       "      <td>11.00000</td>\n",
       "      <td>NaN</td>\n",
       "      <td>53.339764</td>\n",
       "      <td>-6.275071</td>\n",
       "      <td>NaN</td>\n",
       "      <td>29.000000</td>\n",
       "    </tr>\n",
       "    <tr>\n",
       "      <th>50%</th>\n",
       "      <td>58.000000</td>\n",
       "      <td>11.000000</td>\n",
       "      <td>19.00000</td>\n",
       "      <td>NaN</td>\n",
       "      <td>53.344604</td>\n",
       "      <td>-6.262501</td>\n",
       "      <td>NaN</td>\n",
       "      <td>30.000000</td>\n",
       "    </tr>\n",
       "    <tr>\n",
       "      <th>75%</th>\n",
       "      <td>88.000000</td>\n",
       "      <td>19.000000</td>\n",
       "      <td>27.00000</td>\n",
       "      <td>NaN</td>\n",
       "      <td>53.350292</td>\n",
       "      <td>-6.250900</td>\n",
       "      <td>NaN</td>\n",
       "      <td>40.000000</td>\n",
       "    </tr>\n",
       "    <tr>\n",
       "      <th>max</th>\n",
       "      <td>117.000000</td>\n",
       "      <td>40.000000</td>\n",
       "      <td>40.00000</td>\n",
       "      <td>NaN</td>\n",
       "      <td>53.359966</td>\n",
       "      <td>-6.230852</td>\n",
       "      <td>NaN</td>\n",
       "      <td>40.000000</td>\n",
       "    </tr>\n",
       "  </tbody>\n",
       "</table>\n",
       "</div>"
      ],
      "text/plain": [
       "          station_id  num_bikes_available  num_docks_available  short_name  \\\n",
       "count  605009.000000        605009.000000         605009.00000         0.0   \n",
       "mean       57.951001            12.308017             19.21137         NaN   \n",
       "std        33.974053             9.713911             10.91414         NaN   \n",
       "min         1.000000             0.000000              0.00000         NaN   \n",
       "25%        28.000000             4.000000             11.00000         NaN   \n",
       "50%        58.000000            11.000000             19.00000         NaN   \n",
       "75%        88.000000            19.000000             27.00000         NaN   \n",
       "max       117.000000            40.000000             40.00000         NaN   \n",
       "\n",
       "                 lat            lon  region_id       capacity  \n",
       "count  605009.000000  605009.000000        0.0  605009.000000  \n",
       "mean       53.345457      -6.263820        NaN      31.964569  \n",
       "std         0.007517       0.017848        NaN       7.441581  \n",
       "min        53.330090      -6.310015        NaN      16.000000  \n",
       "25%        53.339764      -6.275071        NaN      29.000000  \n",
       "50%        53.344604      -6.262501        NaN      30.000000  \n",
       "75%        53.350292      -6.250900        NaN      40.000000  \n",
       "max        53.359966      -6.230852        NaN      40.000000  "
      ]
     },
     "execution_count": 7,
     "metadata": {},
     "output_type": "execute_result"
    }
   ],
   "source": [
    "#Descriptive statistics (numerical)\n",
    "df.describe()"
   ]
  },
  {
   "cell_type": "code",
   "execution_count": 8,
   "id": "b5723712",
   "metadata": {},
   "outputs": [
    {
     "data": {
      "text/plain": [
       "system_id                   0\n",
       "last_reported               0\n",
       "station_id                  0\n",
       "num_bikes_available         0\n",
       "num_docks_available         0\n",
       "is_installed                0\n",
       "is_renting                  0\n",
       "is_returning                0\n",
       "name                        0\n",
       "short_name             605009\n",
       "address                     0\n",
       "lat                         0\n",
       "lon                         0\n",
       "region_id              605009\n",
       "capacity                    0\n",
       "dtype: int64"
      ]
     },
     "execution_count": 8,
     "metadata": {},
     "output_type": "execute_result"
    }
   ],
   "source": [
    "#Missing values\n",
    "df.isnull().sum()"
   ]
  },
  {
   "cell_type": "code",
   "execution_count": 9,
   "id": "274df2a0",
   "metadata": {},
   "outputs": [
    {
     "data": {
      "text/plain": [
       "0"
      ]
     },
     "execution_count": 9,
     "metadata": {},
     "output_type": "execute_result"
    }
   ],
   "source": [
    "#Duplicates\n",
    "df.duplicated().sum()"
   ]
  },
  {
   "cell_type": "code",
   "execution_count": 10,
   "id": "f2704c0c",
   "metadata": {},
   "outputs": [
    {
     "data": {
      "text/plain": [
       "array([22, 10,  2,  0,  1,  3,  5, 20, 11, 12, 27,  4, 14, 15, 13, 23,  7,\n",
       "       30,  8, 16,  9, 25, 28, 38, 36, 17, 21,  6, 29, 24, 40, 26, 19, 35,\n",
       "       18, 31, 32, 34, 33, 37, 39], dtype=int64)"
      ]
     },
     "execution_count": 10,
     "metadata": {},
     "output_type": "execute_result"
    }
   ],
   "source": [
    "df['num_bikes_available'].unique()"
   ]
  },
  {
   "cell_type": "code",
   "execution_count": 11,
   "id": "a3121a5c",
   "metadata": {},
   "outputs": [
    {
     "data": {
      "text/html": [
       "<div>\n",
       "<style scoped>\n",
       "    .dataframe tbody tr th:only-of-type {\n",
       "        vertical-align: middle;\n",
       "    }\n",
       "\n",
       "    .dataframe tbody tr th {\n",
       "        vertical-align: top;\n",
       "    }\n",
       "\n",
       "    .dataframe thead th {\n",
       "        text-align: right;\n",
       "    }\n",
       "</style>\n",
       "<table border=\"1\" class=\"dataframe\">\n",
       "  <thead>\n",
       "    <tr style=\"text-align: right;\">\n",
       "      <th></th>\n",
       "      <th>station_id</th>\n",
       "      <th>capacity</th>\n",
       "    </tr>\n",
       "  </thead>\n",
       "  <tbody>\n",
       "    <tr>\n",
       "      <th>0</th>\n",
       "      <td>1</td>\n",
       "      <td>31</td>\n",
       "    </tr>\n",
       "    <tr>\n",
       "      <th>1</th>\n",
       "      <td>2</td>\n",
       "      <td>20</td>\n",
       "    </tr>\n",
       "    <tr>\n",
       "      <th>2</th>\n",
       "      <td>3</td>\n",
       "      <td>20</td>\n",
       "    </tr>\n",
       "    <tr>\n",
       "      <th>3</th>\n",
       "      <td>4</td>\n",
       "      <td>20</td>\n",
       "    </tr>\n",
       "    <tr>\n",
       "      <th>4</th>\n",
       "      <td>5</td>\n",
       "      <td>40</td>\n",
       "    </tr>\n",
       "    <tr>\n",
       "      <th>...</th>\n",
       "      <td>...</td>\n",
       "      <td>...</td>\n",
       "    </tr>\n",
       "    <tr>\n",
       "      <th>110</th>\n",
       "      <td>113</td>\n",
       "      <td>40</td>\n",
       "    </tr>\n",
       "    <tr>\n",
       "      <th>111</th>\n",
       "      <td>114</td>\n",
       "      <td>40</td>\n",
       "    </tr>\n",
       "    <tr>\n",
       "      <th>112</th>\n",
       "      <td>115</td>\n",
       "      <td>30</td>\n",
       "    </tr>\n",
       "    <tr>\n",
       "      <th>113</th>\n",
       "      <td>116</td>\n",
       "      <td>30</td>\n",
       "    </tr>\n",
       "    <tr>\n",
       "      <th>114</th>\n",
       "      <td>117</td>\n",
       "      <td>40</td>\n",
       "    </tr>\n",
       "  </tbody>\n",
       "</table>\n",
       "<p>115 rows × 2 columns</p>\n",
       "</div>"
      ],
      "text/plain": [
       "     station_id  capacity\n",
       "0             1        31\n",
       "1             2        20\n",
       "2             3        20\n",
       "3             4        20\n",
       "4             5        40\n",
       "..          ...       ...\n",
       "110         113        40\n",
       "111         114        40\n",
       "112         115        30\n",
       "113         116        30\n",
       "114         117        40\n",
       "\n",
       "[115 rows x 2 columns]"
      ]
     },
     "execution_count": 11,
     "metadata": {},
     "output_type": "execute_result"
    }
   ],
   "source": [
    "#Group by station and get the maximum capacity (bike_stands)\n",
    "station_capacity = df.groupby('station_id')['capacity'].max().reset_index()\n",
    "station_capacity"
   ]
  },
  {
   "cell_type": "code",
   "execution_count": 12,
   "id": "739dad8c",
   "metadata": {},
   "outputs": [
    {
     "data": {
      "image/png": "[encoded data removed]",
      "text/plain": [
       "<Figure size 640x480 with 1 Axes>"
      ]
     },
     "metadata": {},
     "output_type": "display_data"
    }
   ],
   "source": [
    "sns.countplot(data=df, x='capacity', color='skyblue')\n",
    "plt.title('Distribution of Station capacity')\n",
    "plt.show()"
   ]
  },
  {
   "cell_type": "markdown",
   "id": "986308d5",
   "metadata": {},
   "source": [
    "#### Data Preparation"
   ]
  },
  {
   "cell_type": "markdown",
   "id": "ced5840f",
   "metadata": {},
   "source": [
    "The dataset is large, making the models slow, so we are going to reduce the dataset size sampling it, without losing much predictive power."
   ]
  },
  {
   "cell_type": "code",
   "execution_count": 13,
   "id": "cbfa63ba",
   "metadata": {},
   "outputs": [],
   "source": [
    "#Take a random 10% sample of the dataset (60k rows)\n",
    "df_sample = df.sample(frac=0.1, random_state=42)"
   ]
  },
  {
   "cell_type": "code",
   "execution_count": 14,
   "id": "aa012c29",
   "metadata": {},
   "outputs": [
    {
     "data": {
      "text/plain": [
       "(60501, 15)"
      ]
     },
     "execution_count": 14,
     "metadata": {},
     "output_type": "execute_result"
    }
   ],
   "source": [
    "df_sample.shape"
   ]
  },
  {
   "cell_type": "markdown",
   "id": "2ca5261d",
   "metadata": {},
   "source": [
    "The missing values are in the 'short_name' and 'region_id' columns, we are going to drop both columns taking into account that null values are 100% for both columns and were not critical for forecasting bike availability."
   ]
  },
  {
   "cell_type": "code",
   "execution_count": 15,
   "id": "1b0a9fd6",
   "metadata": {},
   "outputs": [],
   "source": [
    "#Drop specific columns\n",
    "df_sample = df_sample.drop(columns=['short_name', 'region_id'])"
   ]
  },
  {
   "cell_type": "code",
   "execution_count": 16,
   "id": "b4183ffa",
   "metadata": {},
   "outputs": [
    {
     "data": {
      "text/plain": [
       "system_id              0\n",
       "last_reported          0\n",
       "station_id             0\n",
       "num_bikes_available    0\n",
       "num_docks_available    0\n",
       "is_installed           0\n",
       "is_renting             0\n",
       "is_returning           0\n",
       "name                   0\n",
       "address                0\n",
       "lat                    0\n",
       "lon                    0\n",
       "capacity               0\n",
       "dtype: int64"
      ]
     },
     "execution_count": 16,
     "metadata": {},
     "output_type": "execute_result"
    }
   ],
   "source": [
    "#Confirm Missing values\n",
    "df_sample.isnull().sum()"
   ]
  },
  {
   "cell_type": "markdown",
   "id": "55586134",
   "metadata": {},
   "source": [
    "With the preview of the data in the understanding process, we can see that can be some attributes that have the same data, which are: system_id, is_installed, is_renting and is_returning.\n",
    "We are going to check it to define if them are or not useful in our dataset."
   ]
  },
  {
   "cell_type": "code",
   "execution_count": 17,
   "id": "65d45912",
   "metadata": {},
   "outputs": [
    {
     "data": {
      "text/plain": [
       "array(['dublin_bikes'], dtype=object)"
      ]
     },
     "execution_count": 17,
     "metadata": {},
     "output_type": "execute_result"
    }
   ],
   "source": [
    "df_sample['system_id'].unique()"
   ]
  },
  {
   "cell_type": "code",
   "execution_count": 18,
   "id": "f2e481ce",
   "metadata": {},
   "outputs": [
    {
     "data": {
      "text/plain": [
       "array([ True])"
      ]
     },
     "execution_count": 18,
     "metadata": {},
     "output_type": "execute_result"
    }
   ],
   "source": [
    "df_sample['is_installed'].unique()"
   ]
  },
  {
   "cell_type": "code",
   "execution_count": 19,
   "id": "025bdf8f",
   "metadata": {},
   "outputs": [
    {
     "data": {
      "text/plain": [
       "array([ True])"
      ]
     },
     "execution_count": 19,
     "metadata": {},
     "output_type": "execute_result"
    }
   ],
   "source": [
    "df_sample['is_renting'].unique()"
   ]
  },
  {
   "cell_type": "code",
   "execution_count": 20,
   "id": "7f1195f6",
   "metadata": {},
   "outputs": [
    {
     "data": {
      "text/plain": [
       "array([ True])"
      ]
     },
     "execution_count": 20,
     "metadata": {},
     "output_type": "execute_result"
    }
   ],
   "source": [
    "df_sample['is_returning'].unique()"
   ]
  },
  {
   "cell_type": "markdown",
   "id": "9b323557",
   "metadata": {},
   "source": [
    "Taking into consideration that this attributes have the same value and there are not an important input for our forecast, we are going to drop them all."
   ]
  },
  {
   "cell_type": "code",
   "execution_count": 21,
   "id": "faf9e826",
   "metadata": {},
   "outputs": [],
   "source": [
    "#Drop columns\n",
    "df_sample = df_sample.drop(columns=['system_id', 'is_installed', 'is_renting', 'is_returning'])"
   ]
  },
  {
   "cell_type": "code",
   "execution_count": 22,
   "id": "32094455",
   "metadata": {},
   "outputs": [
    {
     "data": {
      "text/html": [
       "<div>\n",
       "<style scoped>\n",
       "    .dataframe tbody tr th:only-of-type {\n",
       "        vertical-align: middle;\n",
       "    }\n",
       "\n",
       "    .dataframe tbody tr th {\n",
       "        vertical-align: top;\n",
       "    }\n",
       "\n",
       "    .dataframe thead th {\n",
       "        text-align: right;\n",
       "    }\n",
       "</style>\n",
       "<table border=\"1\" class=\"dataframe\">\n",
       "  <thead>\n",
       "    <tr style=\"text-align: right;\">\n",
       "      <th></th>\n",
       "      <th>last_reported</th>\n",
       "      <th>station_id</th>\n",
       "      <th>num_bikes_available</th>\n",
       "      <th>num_docks_available</th>\n",
       "      <th>name</th>\n",
       "      <th>address</th>\n",
       "      <th>lat</th>\n",
       "      <th>lon</th>\n",
       "      <th>capacity</th>\n",
       "    </tr>\n",
       "  </thead>\n",
       "  <tbody>\n",
       "    <tr>\n",
       "      <th>72054</th>\n",
       "      <td>2024-12-04 13:15:00</td>\n",
       "      <td>62</td>\n",
       "      <td>29</td>\n",
       "      <td>11</td>\n",
       "      <td>LIME STREET</td>\n",
       "      <td>Lime Street</td>\n",
       "      <td>53.346027</td>\n",
       "      <td>-6.243576</td>\n",
       "      <td>40</td>\n",
       "    </tr>\n",
       "    <tr>\n",
       "      <th>385529</th>\n",
       "      <td>2024-12-20 06:45:00</td>\n",
       "      <td>83</td>\n",
       "      <td>28</td>\n",
       "      <td>12</td>\n",
       "      <td>EMMET ROAD</td>\n",
       "      <td>Emmet Road</td>\n",
       "      <td>53.340714</td>\n",
       "      <td>-6.308191</td>\n",
       "      <td>40</td>\n",
       "    </tr>\n",
       "    <tr>\n",
       "      <th>75591</th>\n",
       "      <td>2024-12-04 17:10:00</td>\n",
       "      <td>43</td>\n",
       "      <td>3</td>\n",
       "      <td>27</td>\n",
       "      <td>PORTOBELLO ROAD</td>\n",
       "      <td>Portobello Road</td>\n",
       "      <td>53.330090</td>\n",
       "      <td>-6.268044</td>\n",
       "      <td>30</td>\n",
       "    </tr>\n",
       "    <tr>\n",
       "      <th>558771</th>\n",
       "      <td>2024-12-29 12:10:00</td>\n",
       "      <td>97</td>\n",
       "      <td>19</td>\n",
       "      <td>21</td>\n",
       "      <td>KILMAINHAM GAOL</td>\n",
       "      <td>Kilmainham Gaol</td>\n",
       "      <td>53.342113</td>\n",
       "      <td>-6.310015</td>\n",
       "      <td>40</td>\n",
       "    </tr>\n",
       "    <tr>\n",
       "      <th>478893</th>\n",
       "      <td>2024-12-25 03:45:00</td>\n",
       "      <td>94</td>\n",
       "      <td>13</td>\n",
       "      <td>27</td>\n",
       "      <td>HEUSTON STATION (CAR PARK)</td>\n",
       "      <td>Heuston Station (Car Park)</td>\n",
       "      <td>53.346985</td>\n",
       "      <td>-6.297804</td>\n",
       "      <td>40</td>\n",
       "    </tr>\n",
       "  </tbody>\n",
       "</table>\n",
       "</div>"
      ],
      "text/plain": [
       "              last_reported  station_id  num_bikes_available  \\\n",
       "72054   2024-12-04 13:15:00          62                   29   \n",
       "385529  2024-12-20 06:45:00          83                   28   \n",
       "75591   2024-12-04 17:10:00          43                    3   \n",
       "558771  2024-12-29 12:10:00          97                   19   \n",
       "478893  2024-12-25 03:45:00          94                   13   \n",
       "\n",
       "        num_docks_available                        name  \\\n",
       "72054                    11                 LIME STREET   \n",
       "385529                   12                  EMMET ROAD   \n",
       "75591                    27             PORTOBELLO ROAD   \n",
       "558771                   21             KILMAINHAM GAOL   \n",
       "478893                   27  HEUSTON STATION (CAR PARK)   \n",
       "\n",
       "                           address        lat       lon  capacity  \n",
       "72054                  Lime Street  53.346027 -6.243576        40  \n",
       "385529                  Emmet Road  53.340714 -6.308191        40  \n",
       "75591              Portobello Road  53.330090 -6.268044        30  \n",
       "558771             Kilmainham Gaol  53.342113 -6.310015        40  \n",
       "478893  Heuston Station (Car Park)  53.346985 -6.297804        40  "
      ]
     },
     "execution_count": 22,
     "metadata": {},
     "output_type": "execute_result"
    }
   ],
   "source": [
    "#Preview data\n",
    "df_sample.head()"
   ]
  },
  {
   "cell_type": "code",
   "execution_count": 23,
   "id": "5988def3",
   "metadata": {},
   "outputs": [
    {
     "data": {
      "text/plain": [
       "(60501, 9)"
      ]
     },
     "execution_count": 23,
     "metadata": {},
     "output_type": "execute_result"
    }
   ],
   "source": [
    "df_sample.shape"
   ]
  },
  {
   "cell_type": "code",
   "execution_count": 24,
   "id": "cdeeae1a",
   "metadata": {},
   "outputs": [],
   "source": [
    "#Convert last_reported to datetime\n",
    "df_sample['last_reported'] = pd.to_datetime(df_sample['last_reported'])"
   ]
  },
  {
   "cell_type": "code",
   "execution_count": 25,
   "id": "ece2c275",
   "metadata": {},
   "outputs": [
    {
     "name": "stdout",
     "output_type": "stream",
     "text": [
      "<class 'pandas.core.frame.DataFrame'>\n",
      "Index: 60501 entries, 72054 to 281454\n",
      "Data columns (total 9 columns):\n",
      " #   Column               Non-Null Count  Dtype         \n",
      "---  ------               --------------  -----         \n",
      " 0   last_reported        60501 non-null  datetime64[ns]\n",
      " 1   station_id           60501 non-null  int64         \n",
      " 2   num_bikes_available  60501 non-null  int64         \n",
      " 3   num_docks_available  60501 non-null  int64         \n",
      " 4   name                 60501 non-null  object        \n",
      " 5   address              60501 non-null  object        \n",
      " 6   lat                  60501 non-null  float64       \n",
      " 7   lon                  60501 non-null  float64       \n",
      " 8   capacity             60501 non-null  int64         \n",
      "dtypes: datetime64[ns](1), float64(2), int64(4), object(2)\n",
      "memory usage: 4.6+ MB\n"
     ]
    }
   ],
   "source": [
    "#Confirm change, Basic info\n",
    "df_sample.info()"
   ]
  },
  {
   "cell_type": "code",
   "execution_count": 26,
   "id": "85458626",
   "metadata": {},
   "outputs": [],
   "source": [
    "#Extract time-based features\n",
    "df_sample['hour'] = df_sample['last_reported'].dt.hour\n",
    "df_sample['minute'] = df_sample['last_reported'].dt.minute\n",
    "df_sample['day_of_week'] = df_sample['last_reported'].dt.dayofweek\n",
    "df_sample['day'] = df_sample['last_reported'].dt.day\n",
    "df_sample['month'] = df_sample['last_reported'].dt.month\n",
    "df_sample['year'] = df_sample['last_reported'].dt.year\n",
    "df_sample['date'] = df_sample['last_reported'].dt.date "
   ]
  },
  {
   "cell_type": "code",
   "execution_count": 27,
   "id": "a7d72d23",
   "metadata": {},
   "outputs": [
    {
     "data": {
      "text/html": [
       "<div>\n",
       "<style scoped>\n",
       "    .dataframe tbody tr th:only-of-type {\n",
       "        vertical-align: middle;\n",
       "    }\n",
       "\n",
       "    .dataframe tbody tr th {\n",
       "        vertical-align: top;\n",
       "    }\n",
       "\n",
       "    .dataframe thead th {\n",
       "        text-align: right;\n",
       "    }\n",
       "</style>\n",
       "<table border=\"1\" class=\"dataframe\">\n",
       "  <thead>\n",
       "    <tr style=\"text-align: right;\">\n",
       "      <th></th>\n",
       "      <th>last_reported</th>\n",
       "      <th>station_id</th>\n",
       "      <th>num_bikes_available</th>\n",
       "      <th>num_docks_available</th>\n",
       "      <th>name</th>\n",
       "      <th>address</th>\n",
       "      <th>lat</th>\n",
       "      <th>lon</th>\n",
       "      <th>capacity</th>\n",
       "      <th>hour</th>\n",
       "      <th>minute</th>\n",
       "      <th>day_of_week</th>\n",
       "      <th>day</th>\n",
       "      <th>month</th>\n",
       "      <th>year</th>\n",
       "      <th>date</th>\n",
       "    </tr>\n",
       "  </thead>\n",
       "  <tbody>\n",
       "    <tr>\n",
       "      <th>72054</th>\n",
       "      <td>2024-12-04 13:15:00</td>\n",
       "      <td>62</td>\n",
       "      <td>29</td>\n",
       "      <td>11</td>\n",
       "      <td>LIME STREET</td>\n",
       "      <td>Lime Street</td>\n",
       "      <td>53.346027</td>\n",
       "      <td>-6.243576</td>\n",
       "      <td>40</td>\n",
       "      <td>13</td>\n",
       "      <td>15</td>\n",
       "      <td>2</td>\n",
       "      <td>4</td>\n",
       "      <td>12</td>\n",
       "      <td>2024</td>\n",
       "      <td>2024-12-04</td>\n",
       "    </tr>\n",
       "    <tr>\n",
       "      <th>385529</th>\n",
       "      <td>2024-12-20 06:45:00</td>\n",
       "      <td>83</td>\n",
       "      <td>28</td>\n",
       "      <td>12</td>\n",
       "      <td>EMMET ROAD</td>\n",
       "      <td>Emmet Road</td>\n",
       "      <td>53.340714</td>\n",
       "      <td>-6.308191</td>\n",
       "      <td>40</td>\n",
       "      <td>6</td>\n",
       "      <td>45</td>\n",
       "      <td>4</td>\n",
       "      <td>20</td>\n",
       "      <td>12</td>\n",
       "      <td>2024</td>\n",
       "      <td>2024-12-20</td>\n",
       "    </tr>\n",
       "    <tr>\n",
       "      <th>75591</th>\n",
       "      <td>2024-12-04 17:10:00</td>\n",
       "      <td>43</td>\n",
       "      <td>3</td>\n",
       "      <td>27</td>\n",
       "      <td>PORTOBELLO ROAD</td>\n",
       "      <td>Portobello Road</td>\n",
       "      <td>53.330090</td>\n",
       "      <td>-6.268044</td>\n",
       "      <td>30</td>\n",
       "      <td>17</td>\n",
       "      <td>10</td>\n",
       "      <td>2</td>\n",
       "      <td>4</td>\n",
       "      <td>12</td>\n",
       "      <td>2024</td>\n",
       "      <td>2024-12-04</td>\n",
       "    </tr>\n",
       "    <tr>\n",
       "      <th>558771</th>\n",
       "      <td>2024-12-29 12:10:00</td>\n",
       "      <td>97</td>\n",
       "      <td>19</td>\n",
       "      <td>21</td>\n",
       "      <td>KILMAINHAM GAOL</td>\n",
       "      <td>Kilmainham Gaol</td>\n",
       "      <td>53.342113</td>\n",
       "      <td>-6.310015</td>\n",
       "      <td>40</td>\n",
       "      <td>12</td>\n",
       "      <td>10</td>\n",
       "      <td>6</td>\n",
       "      <td>29</td>\n",
       "      <td>12</td>\n",
       "      <td>2024</td>\n",
       "      <td>2024-12-29</td>\n",
       "    </tr>\n",
       "    <tr>\n",
       "      <th>478893</th>\n",
       "      <td>2024-12-25 03:45:00</td>\n",
       "      <td>94</td>\n",
       "      <td>13</td>\n",
       "      <td>27</td>\n",
       "      <td>HEUSTON STATION (CAR PARK)</td>\n",
       "      <td>Heuston Station (Car Park)</td>\n",
       "      <td>53.346985</td>\n",
       "      <td>-6.297804</td>\n",
       "      <td>40</td>\n",
       "      <td>3</td>\n",
       "      <td>45</td>\n",
       "      <td>2</td>\n",
       "      <td>25</td>\n",
       "      <td>12</td>\n",
       "      <td>2024</td>\n",
       "      <td>2024-12-25</td>\n",
       "    </tr>\n",
       "  </tbody>\n",
       "</table>\n",
       "</div>"
      ],
      "text/plain": [
       "             last_reported  station_id  num_bikes_available  \\\n",
       "72054  2024-12-04 13:15:00          62                   29   \n",
       "385529 2024-12-20 06:45:00          83                   28   \n",
       "75591  2024-12-04 17:10:00          43                    3   \n",
       "558771 2024-12-29 12:10:00          97                   19   \n",
       "478893 2024-12-25 03:45:00          94                   13   \n",
       "\n",
       "        num_docks_available                        name  \\\n",
       "72054                    11                 LIME STREET   \n",
       "385529                   12                  EMMET ROAD   \n",
       "75591                    27             PORTOBELLO ROAD   \n",
       "558771                   21             KILMAINHAM GAOL   \n",
       "478893                   27  HEUSTON STATION (CAR PARK)   \n",
       "\n",
       "                           address        lat       lon  capacity  hour  \\\n",
       "72054                  Lime Street  53.346027 -6.243576        40    13   \n",
       "385529                  Emmet Road  53.340714 -6.308191        40     6   \n",
       "75591              Portobello Road  53.330090 -6.268044        30    17   \n",
       "558771             Kilmainham Gaol  53.342113 -6.310015        40    12   \n",
       "478893  Heuston Station (Car Park)  53.346985 -6.297804        40     3   \n",
       "\n",
       "        minute  day_of_week  day  month  year        date  \n",
       "72054       15            2    4     12  2024  2024-12-04  \n",
       "385529      45            4   20     12  2024  2024-12-20  \n",
       "75591       10            2    4     12  2024  2024-12-04  \n",
       "558771      10            6   29     12  2024  2024-12-29  \n",
       "478893      45            2   25     12  2024  2024-12-25  "
      ]
     },
     "execution_count": 27,
     "metadata": {},
     "output_type": "execute_result"
    }
   ],
   "source": [
    "#Preview data\n",
    "df_sample.head()"
   ]
  },
  {
   "cell_type": "code",
   "execution_count": 28,
   "id": "1455e56a",
   "metadata": {},
   "outputs": [
    {
     "name": "stdout",
     "output_type": "stream",
     "text": [
      "<class 'pandas.core.frame.DataFrame'>\n",
      "Index: 60501 entries, 72054 to 281454\n",
      "Data columns (total 16 columns):\n",
      " #   Column               Non-Null Count  Dtype         \n",
      "---  ------               --------------  -----         \n",
      " 0   last_reported        60501 non-null  datetime64[ns]\n",
      " 1   station_id           60501 non-null  int64         \n",
      " 2   num_bikes_available  60501 non-null  int64         \n",
      " 3   num_docks_available  60501 non-null  int64         \n",
      " 4   name                 60501 non-null  object        \n",
      " 5   address              60501 non-null  object        \n",
      " 6   lat                  60501 non-null  float64       \n",
      " 7   lon                  60501 non-null  float64       \n",
      " 8   capacity             60501 non-null  int64         \n",
      " 9   hour                 60501 non-null  int32         \n",
      " 10  minute               60501 non-null  int32         \n",
      " 11  day_of_week          60501 non-null  int32         \n",
      " 12  day                  60501 non-null  int32         \n",
      " 13  month                60501 non-null  int32         \n",
      " 14  year                 60501 non-null  int32         \n",
      " 15  date                 60501 non-null  object        \n",
      "dtypes: datetime64[ns](1), float64(2), int32(6), int64(4), object(3)\n",
      "memory usage: 6.5+ MB\n"
     ]
    }
   ],
   "source": [
    "#Confirm change, Basic info\n",
    "df_sample.info()"
   ]
  },
  {
   "cell_type": "markdown",
   "id": "9ddd9950",
   "metadata": {},
   "source": [
    "The models expect all numeric columns, so we are going to drop non-numerical columns (last_reported, date)."
   ]
  },
  {
   "cell_type": "code",
   "execution_count": 29,
   "id": "d12db936",
   "metadata": {},
   "outputs": [],
   "source": [
    "#Drop columns\n",
    "df_sample = df_sample.drop(columns=['last_reported', 'date'])"
   ]
  },
  {
   "cell_type": "code",
   "execution_count": 30,
   "id": "29dd9569",
   "metadata": {
    "scrolled": false
   },
   "outputs": [
    {
     "name": "stdout",
     "output_type": "stream",
     "text": [
      "<class 'pandas.core.frame.DataFrame'>\n",
      "Index: 60501 entries, 72054 to 281454\n",
      "Data columns (total 14 columns):\n",
      " #   Column               Non-Null Count  Dtype  \n",
      "---  ------               --------------  -----  \n",
      " 0   station_id           60501 non-null  int64  \n",
      " 1   num_bikes_available  60501 non-null  int64  \n",
      " 2   num_docks_available  60501 non-null  int64  \n",
      " 3   name                 60501 non-null  object \n",
      " 4   address              60501 non-null  object \n",
      " 5   lat                  60501 non-null  float64\n",
      " 6   lon                  60501 non-null  float64\n",
      " 7   capacity             60501 non-null  int64  \n",
      " 8   hour                 60501 non-null  int32  \n",
      " 9   minute               60501 non-null  int32  \n",
      " 10  day_of_week          60501 non-null  int32  \n",
      " 11  day                  60501 non-null  int32  \n",
      " 12  month                60501 non-null  int32  \n",
      " 13  year                 60501 non-null  int32  \n",
      "dtypes: float64(2), int32(6), int64(4), object(2)\n",
      "memory usage: 5.5+ MB\n"
     ]
    }
   ],
   "source": [
    "#Confirm change, Basic info\n",
    "df_sample.info()"
   ]
  },
  {
   "cell_type": "markdown",
   "id": "fb7c1720",
   "metadata": {},
   "source": [
    "We need that our model interprete correctly our data, so we are going to encode the columns 'station_id', 'name' and 'address'."
   ]
  },
  {
   "cell_type": "code",
   "execution_count": 31,
   "id": "4c8a715e",
   "metadata": {},
   "outputs": [],
   "source": [
    "#Encode station id\n",
    "encoder = OneHotEncoder(sparse_output=False, handle_unknown='ignore')\n",
    "encoded = encoder.fit_transform(df_sample[['station_id']])"
   ]
  },
  {
   "cell_type": "code",
   "execution_count": 32,
   "id": "a2426dde",
   "metadata": {},
   "outputs": [],
   "source": [
    "encoded_df_sample = pd.DataFrame(\n",
    "    encoded, \n",
    "    columns=encoder.get_feature_names_out(['station_id'])\n",
    ")"
   ]
  },
  {
   "cell_type": "code",
   "execution_count": 33,
   "id": "27af57be",
   "metadata": {},
   "outputs": [],
   "source": [
    "#Join with df\n",
    "df_sample = df_sample.join(encoded_df_sample)"
   ]
  },
  {
   "cell_type": "code",
   "execution_count": 34,
   "id": "c572f350",
   "metadata": {},
   "outputs": [],
   "source": [
    "#Encode object columns\n",
    "le = LabelEncoder()\n",
    "df_sample['name_encoded'] = le.fit_transform(df_sample['name'])\n",
    "\n",
    "le = LabelEncoder()\n",
    "df_sample['address_encoded'] = le.fit_transform(df_sample['address'])"
   ]
  },
  {
   "cell_type": "code",
   "execution_count": 35,
   "id": "3fe269a1",
   "metadata": {},
   "outputs": [],
   "source": [
    "df_sample = df_sample.drop('name', axis=1)"
   ]
  },
  {
   "cell_type": "code",
   "execution_count": 36,
   "id": "bbbfc82f",
   "metadata": {},
   "outputs": [],
   "source": [
    "df_sample = df_sample.drop('address', axis=1)"
   ]
  },
  {
   "cell_type": "code",
   "execution_count": 37,
   "id": "3f50bd92",
   "metadata": {},
   "outputs": [
    {
     "name": "stdout",
     "output_type": "stream",
     "text": [
      "<class 'pandas.core.frame.DataFrame'>\n",
      "Index: 60501 entries, 72054 to 281454\n",
      "Columns: 129 entries, station_id to address_encoded\n",
      "dtypes: float64(117), int32(8), int64(4)\n",
      "memory usage: 60.2 MB\n"
     ]
    },
    {
     "data": {
      "text/html": [
       "<div>\n",
       "<style scoped>\n",
       "    .dataframe tbody tr th:only-of-type {\n",
       "        vertical-align: middle;\n",
       "    }\n",
       "\n",
       "    .dataframe tbody tr th {\n",
       "        vertical-align: top;\n",
       "    }\n",
       "\n",
       "    .dataframe thead th {\n",
       "        text-align: right;\n",
       "    }\n",
       "</style>\n",
       "<table border=\"1\" class=\"dataframe\">\n",
       "  <thead>\n",
       "    <tr style=\"text-align: right;\">\n",
       "      <th></th>\n",
       "      <th>station_id</th>\n",
       "      <th>num_bikes_available</th>\n",
       "      <th>num_docks_available</th>\n",
       "      <th>lat</th>\n",
       "      <th>lon</th>\n",
       "      <th>capacity</th>\n",
       "      <th>hour</th>\n",
       "      <th>minute</th>\n",
       "      <th>day_of_week</th>\n",
       "      <th>day</th>\n",
       "      <th>...</th>\n",
       "      <th>station_id_110</th>\n",
       "      <th>station_id_111</th>\n",
       "      <th>station_id_112</th>\n",
       "      <th>station_id_113</th>\n",
       "      <th>station_id_114</th>\n",
       "      <th>station_id_115</th>\n",
       "      <th>station_id_116</th>\n",
       "      <th>station_id_117</th>\n",
       "      <th>name_encoded</th>\n",
       "      <th>address_encoded</th>\n",
       "    </tr>\n",
       "  </thead>\n",
       "  <tbody>\n",
       "    <tr>\n",
       "      <th>72054</th>\n",
       "      <td>62</td>\n",
       "      <td>29</td>\n",
       "      <td>11</td>\n",
       "      <td>53.346027</td>\n",
       "      <td>-6.243576</td>\n",
       "      <td>40</td>\n",
       "      <td>13</td>\n",
       "      <td>15</td>\n",
       "      <td>2</td>\n",
       "      <td>4</td>\n",
       "      <td>...</td>\n",
       "      <td>NaN</td>\n",
       "      <td>NaN</td>\n",
       "      <td>NaN</td>\n",
       "      <td>NaN</td>\n",
       "      <td>NaN</td>\n",
       "      <td>NaN</td>\n",
       "      <td>NaN</td>\n",
       "      <td>NaN</td>\n",
       "      <td>69</td>\n",
       "      <td>69</td>\n",
       "    </tr>\n",
       "    <tr>\n",
       "      <th>385529</th>\n",
       "      <td>83</td>\n",
       "      <td>28</td>\n",
       "      <td>12</td>\n",
       "      <td>53.340714</td>\n",
       "      <td>-6.308191</td>\n",
       "      <td>40</td>\n",
       "      <td>6</td>\n",
       "      <td>45</td>\n",
       "      <td>4</td>\n",
       "      <td>20</td>\n",
       "      <td>...</td>\n",
       "      <td>NaN</td>\n",
       "      <td>NaN</td>\n",
       "      <td>NaN</td>\n",
       "      <td>NaN</td>\n",
       "      <td>NaN</td>\n",
       "      <td>NaN</td>\n",
       "      <td>NaN</td>\n",
       "      <td>NaN</td>\n",
       "      <td>26</td>\n",
       "      <td>26</td>\n",
       "    </tr>\n",
       "    <tr>\n",
       "      <th>75591</th>\n",
       "      <td>43</td>\n",
       "      <td>3</td>\n",
       "      <td>27</td>\n",
       "      <td>53.330090</td>\n",
       "      <td>-6.268044</td>\n",
       "      <td>30</td>\n",
       "      <td>17</td>\n",
       "      <td>10</td>\n",
       "      <td>2</td>\n",
       "      <td>4</td>\n",
       "      <td>...</td>\n",
       "      <td>NaN</td>\n",
       "      <td>NaN</td>\n",
       "      <td>NaN</td>\n",
       "      <td>NaN</td>\n",
       "      <td>NaN</td>\n",
       "      <td>NaN</td>\n",
       "      <td>NaN</td>\n",
       "      <td>NaN</td>\n",
       "      <td>92</td>\n",
       "      <td>92</td>\n",
       "    </tr>\n",
       "    <tr>\n",
       "      <th>558771</th>\n",
       "      <td>97</td>\n",
       "      <td>19</td>\n",
       "      <td>21</td>\n",
       "      <td>53.342113</td>\n",
       "      <td>-6.310015</td>\n",
       "      <td>40</td>\n",
       "      <td>12</td>\n",
       "      <td>10</td>\n",
       "      <td>6</td>\n",
       "      <td>29</td>\n",
       "      <td>...</td>\n",
       "      <td>NaN</td>\n",
       "      <td>NaN</td>\n",
       "      <td>NaN</td>\n",
       "      <td>NaN</td>\n",
       "      <td>NaN</td>\n",
       "      <td>NaN</td>\n",
       "      <td>NaN</td>\n",
       "      <td>NaN</td>\n",
       "      <td>65</td>\n",
       "      <td>65</td>\n",
       "    </tr>\n",
       "    <tr>\n",
       "      <th>478893</th>\n",
       "      <td>94</td>\n",
       "      <td>13</td>\n",
       "      <td>27</td>\n",
       "      <td>53.346985</td>\n",
       "      <td>-6.297804</td>\n",
       "      <td>40</td>\n",
       "      <td>3</td>\n",
       "      <td>45</td>\n",
       "      <td>2</td>\n",
       "      <td>25</td>\n",
       "      <td>...</td>\n",
       "      <td>NaN</td>\n",
       "      <td>NaN</td>\n",
       "      <td>NaN</td>\n",
       "      <td>NaN</td>\n",
       "      <td>NaN</td>\n",
       "      <td>NaN</td>\n",
       "      <td>NaN</td>\n",
       "      <td>NaN</td>\n",
       "      <td>56</td>\n",
       "      <td>56</td>\n",
       "    </tr>\n",
       "  </tbody>\n",
       "</table>\n",
       "<p>5 rows × 129 columns</p>\n",
       "</div>"
      ],
      "text/plain": [
       "        station_id  num_bikes_available  num_docks_available        lat  \\\n",
       "72054           62                   29                   11  53.346027   \n",
       "385529          83                   28                   12  53.340714   \n",
       "75591           43                    3                   27  53.330090   \n",
       "558771          97                   19                   21  53.342113   \n",
       "478893          94                   13                   27  53.346985   \n",
       "\n",
       "             lon  capacity  hour  minute  day_of_week  day  ...  \\\n",
       "72054  -6.243576        40    13      15            2    4  ...   \n",
       "385529 -6.308191        40     6      45            4   20  ...   \n",
       "75591  -6.268044        30    17      10            2    4  ...   \n",
       "558771 -6.310015        40    12      10            6   29  ...   \n",
       "478893 -6.297804        40     3      45            2   25  ...   \n",
       "\n",
       "        station_id_110  station_id_111  station_id_112  station_id_113  \\\n",
       "72054              NaN             NaN             NaN             NaN   \n",
       "385529             NaN             NaN             NaN             NaN   \n",
       "75591              NaN             NaN             NaN             NaN   \n",
       "558771             NaN             NaN             NaN             NaN   \n",
       "478893             NaN             NaN             NaN             NaN   \n",
       "\n",
       "        station_id_114  station_id_115  station_id_116  station_id_117  \\\n",
       "72054              NaN             NaN             NaN             NaN   \n",
       "385529             NaN             NaN             NaN             NaN   \n",
       "75591              NaN             NaN             NaN             NaN   \n",
       "558771             NaN             NaN             NaN             NaN   \n",
       "478893             NaN             NaN             NaN             NaN   \n",
       "\n",
       "        name_encoded  address_encoded  \n",
       "72054             69               69  \n",
       "385529            26               26  \n",
       "75591             92               92  \n",
       "558771            65               65  \n",
       "478893            56               56  \n",
       "\n",
       "[5 rows x 129 columns]"
      ]
     },
     "execution_count": 37,
     "metadata": {},
     "output_type": "execute_result"
    }
   ],
   "source": [
    "#Final check\n",
    "df_sample.info()\n",
    "df_sample.head()"
   ]
  },
  {
   "cell_type": "code",
   "execution_count": 38,
   "id": "0ab4f90c",
   "metadata": {
    "scrolled": true
   },
   "outputs": [
    {
     "data": {
      "text/plain": [
       "(60501, 129)"
      ]
     },
     "execution_count": 38,
     "metadata": {},
     "output_type": "execute_result"
    }
   ],
   "source": [
    "df_sample.shape"
   ]
  },
  {
   "cell_type": "code",
   "execution_count": 39,
   "id": "66a0a95b",
   "metadata": {},
   "outputs": [],
   "source": [
    "#Percent utilization\n",
    "df_sample['utilization_pct'] = df_sample['num_bikes_available'] / df_sample['capacity']"
   ]
  },
  {
   "cell_type": "code",
   "execution_count": 40,
   "id": "c46c94a4",
   "metadata": {
    "scrolled": false
   },
   "outputs": [
    {
     "data": {
      "image/png": "[encoded data removed]",
      "text/plain": [
       "<Figure size 800x400 with 1 Axes>"
      ]
     },
     "metadata": {},
     "output_type": "display_data"
    }
   ],
   "source": [
    "plt.figure(figsize=(8,4))\n",
    "plt.hist(df_sample['utilization_pct'], bins=30, color='skyblue', edgecolor='black')\n",
    "plt.title('Distribution of Bike Utilization %')\n",
    "plt.xlabel('Utilization (%)')\n",
    "plt.ylabel('Frequency')\n",
    "plt.show()"
   ]
  },
  {
   "cell_type": "markdown",
   "id": "e3a63410",
   "metadata": {},
   "source": [
    "The histogram shows that Dublin Bikes stations frequently experince both empty (0% utilization) and full (100% utilization) conditions, and how the utilization percentage is distrubuited."
   ]
  },
  {
   "cell_type": "code",
   "execution_count": 41,
   "id": "6e13f1e5",
   "metadata": {},
   "outputs": [
    {
     "data": {
      "text/html": [
       "<div>\n",
       "<style scoped>\n",
       "    .dataframe tbody tr th:only-of-type {\n",
       "        vertical-align: middle;\n",
       "    }\n",
       "\n",
       "    .dataframe tbody tr th {\n",
       "        vertical-align: top;\n",
       "    }\n",
       "\n",
       "    .dataframe thead th {\n",
       "        text-align: right;\n",
       "    }\n",
       "</style>\n",
       "<table border=\"1\" class=\"dataframe\">\n",
       "  <thead>\n",
       "    <tr style=\"text-align: right;\">\n",
       "      <th></th>\n",
       "      <th>station_id</th>\n",
       "      <th>num_bikes_available</th>\n",
       "      <th>num_docks_available</th>\n",
       "      <th>lat</th>\n",
       "      <th>lon</th>\n",
       "      <th>capacity</th>\n",
       "      <th>hour</th>\n",
       "      <th>minute</th>\n",
       "      <th>day_of_week</th>\n",
       "      <th>day</th>\n",
       "      <th>...</th>\n",
       "      <th>station_id_111</th>\n",
       "      <th>station_id_112</th>\n",
       "      <th>station_id_113</th>\n",
       "      <th>station_id_114</th>\n",
       "      <th>station_id_115</th>\n",
       "      <th>station_id_116</th>\n",
       "      <th>station_id_117</th>\n",
       "      <th>name_encoded</th>\n",
       "      <th>address_encoded</th>\n",
       "      <th>utilization_pct</th>\n",
       "    </tr>\n",
       "  </thead>\n",
       "  <tbody>\n",
       "    <tr>\n",
       "      <th>72054</th>\n",
       "      <td>62</td>\n",
       "      <td>29</td>\n",
       "      <td>11</td>\n",
       "      <td>53.346027</td>\n",
       "      <td>-6.243576</td>\n",
       "      <td>40</td>\n",
       "      <td>13</td>\n",
       "      <td>15</td>\n",
       "      <td>2</td>\n",
       "      <td>4</td>\n",
       "      <td>...</td>\n",
       "      <td>NaN</td>\n",
       "      <td>NaN</td>\n",
       "      <td>NaN</td>\n",
       "      <td>NaN</td>\n",
       "      <td>NaN</td>\n",
       "      <td>NaN</td>\n",
       "      <td>NaN</td>\n",
       "      <td>69</td>\n",
       "      <td>69</td>\n",
       "      <td>0.725</td>\n",
       "    </tr>\n",
       "    <tr>\n",
       "      <th>385529</th>\n",
       "      <td>83</td>\n",
       "      <td>28</td>\n",
       "      <td>12</td>\n",
       "      <td>53.340714</td>\n",
       "      <td>-6.308191</td>\n",
       "      <td>40</td>\n",
       "      <td>6</td>\n",
       "      <td>45</td>\n",
       "      <td>4</td>\n",
       "      <td>20</td>\n",
       "      <td>...</td>\n",
       "      <td>NaN</td>\n",
       "      <td>NaN</td>\n",
       "      <td>NaN</td>\n",
       "      <td>NaN</td>\n",
       "      <td>NaN</td>\n",
       "      <td>NaN</td>\n",
       "      <td>NaN</td>\n",
       "      <td>26</td>\n",
       "      <td>26</td>\n",
       "      <td>0.700</td>\n",
       "    </tr>\n",
       "    <tr>\n",
       "      <th>75591</th>\n",
       "      <td>43</td>\n",
       "      <td>3</td>\n",
       "      <td>27</td>\n",
       "      <td>53.330090</td>\n",
       "      <td>-6.268044</td>\n",
       "      <td>30</td>\n",
       "      <td>17</td>\n",
       "      <td>10</td>\n",
       "      <td>2</td>\n",
       "      <td>4</td>\n",
       "      <td>...</td>\n",
       "      <td>NaN</td>\n",
       "      <td>NaN</td>\n",
       "      <td>NaN</td>\n",
       "      <td>NaN</td>\n",
       "      <td>NaN</td>\n",
       "      <td>NaN</td>\n",
       "      <td>NaN</td>\n",
       "      <td>92</td>\n",
       "      <td>92</td>\n",
       "      <td>0.100</td>\n",
       "    </tr>\n",
       "    <tr>\n",
       "      <th>558771</th>\n",
       "      <td>97</td>\n",
       "      <td>19</td>\n",
       "      <td>21</td>\n",
       "      <td>53.342113</td>\n",
       "      <td>-6.310015</td>\n",
       "      <td>40</td>\n",
       "      <td>12</td>\n",
       "      <td>10</td>\n",
       "      <td>6</td>\n",
       "      <td>29</td>\n",
       "      <td>...</td>\n",
       "      <td>NaN</td>\n",
       "      <td>NaN</td>\n",
       "      <td>NaN</td>\n",
       "      <td>NaN</td>\n",
       "      <td>NaN</td>\n",
       "      <td>NaN</td>\n",
       "      <td>NaN</td>\n",
       "      <td>65</td>\n",
       "      <td>65</td>\n",
       "      <td>0.475</td>\n",
       "    </tr>\n",
       "    <tr>\n",
       "      <th>478893</th>\n",
       "      <td>94</td>\n",
       "      <td>13</td>\n",
       "      <td>27</td>\n",
       "      <td>53.346985</td>\n",
       "      <td>-6.297804</td>\n",
       "      <td>40</td>\n",
       "      <td>3</td>\n",
       "      <td>45</td>\n",
       "      <td>2</td>\n",
       "      <td>25</td>\n",
       "      <td>...</td>\n",
       "      <td>NaN</td>\n",
       "      <td>NaN</td>\n",
       "      <td>NaN</td>\n",
       "      <td>NaN</td>\n",
       "      <td>NaN</td>\n",
       "      <td>NaN</td>\n",
       "      <td>NaN</td>\n",
       "      <td>56</td>\n",
       "      <td>56</td>\n",
       "      <td>0.325</td>\n",
       "    </tr>\n",
       "  </tbody>\n",
       "</table>\n",
       "<p>5 rows × 130 columns</p>\n",
       "</div>"
      ],
      "text/plain": [
       "        station_id  num_bikes_available  num_docks_available        lat  \\\n",
       "72054           62                   29                   11  53.346027   \n",
       "385529          83                   28                   12  53.340714   \n",
       "75591           43                    3                   27  53.330090   \n",
       "558771          97                   19                   21  53.342113   \n",
       "478893          94                   13                   27  53.346985   \n",
       "\n",
       "             lon  capacity  hour  minute  day_of_week  day  ...  \\\n",
       "72054  -6.243576        40    13      15            2    4  ...   \n",
       "385529 -6.308191        40     6      45            4   20  ...   \n",
       "75591  -6.268044        30    17      10            2    4  ...   \n",
       "558771 -6.310015        40    12      10            6   29  ...   \n",
       "478893 -6.297804        40     3      45            2   25  ...   \n",
       "\n",
       "        station_id_111  station_id_112  station_id_113  station_id_114  \\\n",
       "72054              NaN             NaN             NaN             NaN   \n",
       "385529             NaN             NaN             NaN             NaN   \n",
       "75591              NaN             NaN             NaN             NaN   \n",
       "558771             NaN             NaN             NaN             NaN   \n",
       "478893             NaN             NaN             NaN             NaN   \n",
       "\n",
       "        station_id_115  station_id_116  station_id_117  name_encoded  \\\n",
       "72054              NaN             NaN             NaN            69   \n",
       "385529             NaN             NaN             NaN            26   \n",
       "75591              NaN             NaN             NaN            92   \n",
       "558771             NaN             NaN             NaN            65   \n",
       "478893             NaN             NaN             NaN            56   \n",
       "\n",
       "        address_encoded  utilization_pct  \n",
       "72054                69            0.725  \n",
       "385529               26            0.700  \n",
       "75591                92            0.100  \n",
       "558771               65            0.475  \n",
       "478893               56            0.325  \n",
       "\n",
       "[5 rows x 130 columns]"
      ]
     },
     "execution_count": 41,
     "metadata": {},
     "output_type": "execute_result"
    }
   ],
   "source": [
    "df_sample.head()"
   ]
  },
  {
   "cell_type": "markdown",
   "id": "f1c54f68",
   "metadata": {},
   "source": [
    "#### Modeling"
   ]
  },
  {
   "cell_type": "code",
   "execution_count": 42,
   "id": "6a32c322",
   "metadata": {},
   "outputs": [],
   "source": [
    "from sklearn.linear_model import LinearRegression\n",
    "from sklearn.model_selection import train_test_split, cross_val_score\n",
    "from sklearn import metrics\n",
    "from sklearn.metrics import mean_absolute_error, mean_squared_error, r2_score\n",
    "from sklearn.model_selection import GridSearchCV\n",
    "from sklearn.ensemble import RandomForestRegressor"
   ]
  },
  {
   "cell_type": "code",
   "execution_count": 43,
   "id": "b7ef3340",
   "metadata": {},
   "outputs": [],
   "source": [
    "#Define X (Features) and y (Target)\n",
    "\n",
    "# Target\n",
    "y = df_sample['num_bikes_available']\n",
    "\n",
    "# Features\n",
    "feature_cols = ['hour', 'minute', 'day_of_week', 'day', 'capacity', 'station_id']\n",
    "X = df_sample[feature_cols]"
   ]
  },
  {
   "cell_type": "code",
   "execution_count": 44,
   "id": "0a16c4be",
   "metadata": {},
   "outputs": [],
   "source": [
    "#Split into training and testing\n",
    "X_train, X_test, y_train, y_test = train_test_split(X, y, test_size=0.2, random_state=42)"
   ]
  },
  {
   "cell_type": "code",
   "execution_count": 45,
   "id": "eac4a6d9",
   "metadata": {},
   "outputs": [
    {
     "data": {
      "text/plain": [
       "((60501, 6), (60501,), (48400, 6), (12101, 6), (48400,), (12101,))"
      ]
     },
     "execution_count": 45,
     "metadata": {},
     "output_type": "execute_result"
    }
   ],
   "source": [
    "#Show the rows and columns\n",
    "X.shape, y.shape, X_train.shape, X_test.shape, y_train.shape, y_test.shape"
   ]
  },
  {
   "cell_type": "code",
   "execution_count": 46,
   "id": "be075b5c",
   "metadata": {},
   "outputs": [],
   "source": [
    "#pip install xgboost"
   ]
  },
  {
   "cell_type": "code",
   "execution_count": 47,
   "id": "af464339",
   "metadata": {},
   "outputs": [],
   "source": [
    "#Import and initialize Models\n",
    "from sklearn.linear_model import LinearRegression\n",
    "from sklearn.ensemble import RandomForestRegressor\n",
    "from sklearn.tree import DecisionTreeRegressor\n",
    "from xgboost import XGBRegressor"
   ]
  },
  {
   "cell_type": "code",
   "execution_count": 48,
   "id": "76d91167",
   "metadata": {},
   "outputs": [],
   "source": [
    "#Initialize\n",
    "lr = LinearRegression()\n",
    "rf = RandomForestRegressor(n_estimators=100, random_state=42)\n",
    "dt = DecisionTreeRegressor(random_state=42)\n",
    "xgb = XGBRegressor(n_estimators=100, random_state=42)"
   ]
  },
  {
   "cell_type": "code",
   "execution_count": 49,
   "id": "e1ba2485",
   "metadata": {},
   "outputs": [
    {
     "data": {
      "text/html": [
       "<style>#sk-container-id-1 {\n",
       "  /* Definition of color scheme common for light and dark mode */\n",
       "  --sklearn-color-text: black;\n",
       "  --sklearn-color-line: gray;\n",
       "  /* Definition of color scheme for unfitted estimators */\n",
       "  --sklearn-color-unfitted-level-0: #fff5e6;\n",
       "  --sklearn-color-unfitted-level-1: #f6e4d2;\n",
       "  --sklearn-color-unfitted-level-2: #ffe0b3;\n",
       "  --sklearn-color-unfitted-level-3: chocolate;\n",
       "  /* Definition of color scheme for fitted estimators */\n",
       "  --sklearn-color-fitted-level-0: #f0f8ff;\n",
       "  --sklearn-color-fitted-level-1: #d4ebff;\n",
       "  --sklearn-color-fitted-level-2: #b3dbfd;\n",
       "  --sklearn-color-fitted-level-3: cornflowerblue;\n",
       "\n",
       "  /* Specific color for light theme */\n",
       "  --sklearn-color-text-on-default-background: var(--sg-text-color, var(--theme-code-foreground, var(--jp-content-font-color1, black)));\n",
       "  --sklearn-color-background: var(--sg-background-color, var(--theme-background, var(--jp-layout-color0, white)));\n",
       "  --sklearn-color-border-box: var(--sg-text-color, var(--theme-code-foreground, var(--jp-content-font-color1, black)));\n",
       "  --sklearn-color-icon: #696969;\n",
       "\n",
       "  @media (prefers-color-scheme: dark) {\n",
       "    /* Redefinition of color scheme for dark theme */\n",
       "    --sklearn-color-text-on-default-background: var(--sg-text-color, var(--theme-code-foreground, var(--jp-content-font-color1, white)));\n",
       "    --sklearn-color-background: var(--sg-background-color, var(--theme-background, var(--jp-layout-color0, #111)));\n",
       "    --sklearn-color-border-box: var(--sg-text-color, var(--theme-code-foreground, var(--jp-content-font-color1, white)));\n",
       "    --sklearn-color-icon: #878787;\n",
       "  }\n",
       "}\n",
       "\n",
       "#sk-container-id-1 {\n",
       "  color: var(--sklearn-color-text);\n",
       "}\n",
       "\n",
       "#sk-container-id-1 pre {\n",
       "  padding: 0;\n",
       "}\n",
       "\n",
       "#sk-container-id-1 input.sk-hidden--visually {\n",
       "  border: 0;\n",
       "  clip: rect(1px 1px 1px 1px);\n",
       "  clip: rect(1px, 1px, 1px, 1px);\n",
       "  height: 1px;\n",
       "  margin: -1px;\n",
       "  overflow: hidden;\n",
       "  padding: 0;\n",
       "  position: absolute;\n",
       "  width: 1px;\n",
       "}\n",
       "\n",
       "#sk-container-id-1 div.sk-dashed-wrapped {\n",
       "  border: 1px dashed var(--sklearn-color-line);\n",
       "  margin: 0 0.4em 0.5em 0.4em;\n",
       "  box-sizing: border-box;\n",
       "  padding-bottom: 0.4em;\n",
       "  background-color: var(--sklearn-color-background);\n",
       "}\n",
       "\n",
       "#sk-container-id-1 div.sk-container {\n",
       "  /* jupyter's `normalize.less` sets `[hidden] { display: none; }`\n",
       "     but bootstrap.min.css set `[hidden] { display: none !important; }`\n",
       "     so we also need the `!important` here to be able to override the\n",
       "     default hidden behavior on the sphinx rendered scikit-learn.org.\n",
       "     See: https://github.com/scikit-learn/scikit-learn/issues/21755 */\n",
       "  display: inline-block !important;\n",
       "  position: relative;\n",
       "}\n",
       "\n",
       "#sk-container-id-1 div.sk-text-repr-fallback {\n",
       "  display: none;\n",
       "}\n",
       "\n",
       "div.sk-parallel-item,\n",
       "div.sk-serial,\n",
       "div.sk-item {\n",
       "  /* draw centered vertical line to link estimators */\n",
       "  background-image: linear-gradient(var(--sklearn-color-text-on-default-background), var(--sklearn-color-text-on-default-background));\n",
       "  background-size: 2px 100%;\n",
       "  background-repeat: no-repeat;\n",
       "  background-position: center center;\n",
       "}\n",
       "\n",
       "/* Parallel-specific style estimator block */\n",
       "\n",
       "#sk-container-id-1 div.sk-parallel-item::after {\n",
       "  content: \"\";\n",
       "  width: 100%;\n",
       "  border-bottom: 2px solid var(--sklearn-color-text-on-default-background);\n",
       "  flex-grow: 1;\n",
       "}\n",
       "\n",
       "#sk-container-id-1 div.sk-parallel {\n",
       "  display: flex;\n",
       "  align-items: stretch;\n",
       "  justify-content: center;\n",
       "  background-color: var(--sklearn-color-background);\n",
       "  position: relative;\n",
       "}\n",
       "\n",
       "#sk-container-id-1 div.sk-parallel-item {\n",
       "  display: flex;\n",
       "  flex-direction: column;\n",
       "}\n",
       "\n",
       "#sk-container-id-1 div.sk-parallel-item:first-child::after {\n",
       "  align-self: flex-end;\n",
       "  width: 50%;\n",
       "}\n",
       "\n",
       "#sk-container-id-1 div.sk-parallel-item:last-child::after {\n",
       "  align-self: flex-start;\n",
       "  width: 50%;\n",
       "}\n",
       "\n",
       "#sk-container-id-1 div.sk-parallel-item:only-child::after {\n",
       "  width: 0;\n",
       "}\n",
       "\n",
       "/* Serial-specific style estimator block */\n",
       "\n",
       "#sk-container-id-1 div.sk-serial {\n",
       "  display: flex;\n",
       "  flex-direction: column;\n",
       "  align-items: center;\n",
       "  background-color: var(--sklearn-color-background);\n",
       "  padding-right: 1em;\n",
       "  padding-left: 1em;\n",
       "}\n",
       "\n",
       "\n",
       "/* Toggleable style: style used for estimator/Pipeline/ColumnTransformer box that is\n",
       "clickable and can be expanded/collapsed.\n",
       "- Pipeline and ColumnTransformer use this feature and define the default style\n",
       "- Estimators will overwrite some part of the style using the `sk-estimator` class\n",
       "*/\n",
       "\n",
       "/* Pipeline and ColumnTransformer style (default) */\n",
       "\n",
       "#sk-container-id-1 div.sk-toggleable {\n",
       "  /* Default theme specific background. It is overwritten whether we have a\n",
       "  specific estimator or a Pipeline/ColumnTransformer */\n",
       "  background-color: var(--sklearn-color-background);\n",
       "}\n",
       "\n",
       "/* Toggleable label */\n",
       "#sk-container-id-1 label.sk-toggleable__label {\n",
       "  cursor: pointer;\n",
       "  display: block;\n",
       "  width: 100%;\n",
       "  margin-bottom: 0;\n",
       "  padding: 0.5em;\n",
       "  box-sizing: border-box;\n",
       "  text-align: center;\n",
       "}\n",
       "\n",
       "#sk-container-id-1 label.sk-toggleable__label-arrow:before {\n",
       "  /* Arrow on the left of the label */\n",
       "  content: \"▸\";\n",
       "  float: left;\n",
       "  margin-right: 0.25em;\n",
       "  color: var(--sklearn-color-icon);\n",
       "}\n",
       "\n",
       "#sk-container-id-1 label.sk-toggleable__label-arrow:hover:before {\n",
       "  color: var(--sklearn-color-text);\n",
       "}\n",
       "\n",
       "/* Toggleable content - dropdown */\n",
       "\n",
       "#sk-container-id-1 div.sk-toggleable__content {\n",
       "  max-height: 0;\n",
       "  max-width: 0;\n",
       "  overflow: hidden;\n",
       "  text-align: left;\n",
       "  /* unfitted */\n",
       "  background-color: var(--sklearn-color-unfitted-level-0);\n",
       "}\n",
       "\n",
       "#sk-container-id-1 div.sk-toggleable__content.fitted {\n",
       "  /* fitted */\n",
       "  background-color: var(--sklearn-color-fitted-level-0);\n",
       "}\n",
       "\n",
       "#sk-container-id-1 div.sk-toggleable__content pre {\n",
       "  margin: 0.2em;\n",
       "  border-radius: 0.25em;\n",
       "  color: var(--sklearn-color-text);\n",
       "  /* unfitted */\n",
       "  background-color: var(--sklearn-color-unfitted-level-0);\n",
       "}\n",
       "\n",
       "#sk-container-id-1 div.sk-toggleable__content.fitted pre {\n",
       "  /* unfitted */\n",
       "  background-color: var(--sklearn-color-fitted-level-0);\n",
       "}\n",
       "\n",
       "#sk-container-id-1 input.sk-toggleable__control:checked~div.sk-toggleable__content {\n",
       "  /* Expand drop-down */\n",
       "  max-height: 200px;\n",
       "  max-width: 100%;\n",
       "  overflow: auto;\n",
       "}\n",
       "\n",
       "#sk-container-id-1 input.sk-toggleable__control:checked~label.sk-toggleable__label-arrow:before {\n",
       "  content: \"▾\";\n",
       "}\n",
       "\n",
       "/* Pipeline/ColumnTransformer-specific style */\n",
       "\n",
       "#sk-container-id-1 div.sk-label input.sk-toggleable__control:checked~label.sk-toggleable__label {\n",
       "  color: var(--sklearn-color-text);\n",
       "  background-color: var(--sklearn-color-unfitted-level-2);\n",
       "}\n",
       "\n",
       "#sk-container-id-1 div.sk-label.fitted input.sk-toggleable__control:checked~label.sk-toggleable__label {\n",
       "  background-color: var(--sklearn-color-fitted-level-2);\n",
       "}\n",
       "\n",
       "/* Estimator-specific style */\n",
       "\n",
       "/* Colorize estimator box */\n",
       "#sk-container-id-1 div.sk-estimator input.sk-toggleable__control:checked~label.sk-toggleable__label {\n",
       "  /* unfitted */\n",
       "  background-color: var(--sklearn-color-unfitted-level-2);\n",
       "}\n",
       "\n",
       "#sk-container-id-1 div.sk-estimator.fitted input.sk-toggleable__control:checked~label.sk-toggleable__label {\n",
       "  /* fitted */\n",
       "  background-color: var(--sklearn-color-fitted-level-2);\n",
       "}\n",
       "\n",
       "#sk-container-id-1 div.sk-label label.sk-toggleable__label,\n",
       "#sk-container-id-1 div.sk-label label {\n",
       "  /* The background is the default theme color */\n",
       "  color: var(--sklearn-color-text-on-default-background);\n",
       "}\n",
       "\n",
       "/* On hover, darken the color of the background */\n",
       "#sk-container-id-1 div.sk-label:hover label.sk-toggleable__label {\n",
       "  color: var(--sklearn-color-text);\n",
       "  background-color: var(--sklearn-color-unfitted-level-2);\n",
       "}\n",
       "\n",
       "/* Label box, darken color on hover, fitted */\n",
       "#sk-container-id-1 div.sk-label.fitted:hover label.sk-toggleable__label.fitted {\n",
       "  color: var(--sklearn-color-text);\n",
       "  background-color: var(--sklearn-color-fitted-level-2);\n",
       "}\n",
       "\n",
       "/* Estimator label */\n",
       "\n",
       "#sk-container-id-1 div.sk-label label {\n",
       "  font-family: monospace;\n",
       "  font-weight: bold;\n",
       "  display: inline-block;\n",
       "  line-height: 1.2em;\n",
       "}\n",
       "\n",
       "#sk-container-id-1 div.sk-label-container {\n",
       "  text-align: center;\n",
       "}\n",
       "\n",
       "/* Estimator-specific */\n",
       "#sk-container-id-1 div.sk-estimator {\n",
       "  font-family: monospace;\n",
       "  border: 1px dotted var(--sklearn-color-border-box);\n",
       "  border-radius: 0.25em;\n",
       "  box-sizing: border-box;\n",
       "  margin-bottom: 0.5em;\n",
       "  /* unfitted */\n",
       "  background-color: var(--sklearn-color-unfitted-level-0);\n",
       "}\n",
       "\n",
       "#sk-container-id-1 div.sk-estimator.fitted {\n",
       "  /* fitted */\n",
       "  background-color: var(--sklearn-color-fitted-level-0);\n",
       "}\n",
       "\n",
       "/* on hover */\n",
       "#sk-container-id-1 div.sk-estimator:hover {\n",
       "  /* unfitted */\n",
       "  background-color: var(--sklearn-color-unfitted-level-2);\n",
       "}\n",
       "\n",
       "#sk-container-id-1 div.sk-estimator.fitted:hover {\n",
       "  /* fitted */\n",
       "  background-color: var(--sklearn-color-fitted-level-2);\n",
       "}\n",
       "\n",
       "/* Specification for estimator info (e.g. \"i\" and \"?\") */\n",
       "\n",
       "/* Common style for \"i\" and \"?\" */\n",
       "\n",
       ".sk-estimator-doc-link,\n",
       "a:link.sk-estimator-doc-link,\n",
       "a:visited.sk-estimator-doc-link {\n",
       "  float: right;\n",
       "  font-size: smaller;\n",
       "  line-height: 1em;\n",
       "  font-family: monospace;\n",
       "  background-color: var(--sklearn-color-background);\n",
       "  border-radius: 1em;\n",
       "  height: 1em;\n",
       "  width: 1em;\n",
       "  text-decoration: none !important;\n",
       "  margin-left: 1ex;\n",
       "  /* unfitted */\n",
       "  border: var(--sklearn-color-unfitted-level-1) 1pt solid;\n",
       "  color: var(--sklearn-color-unfitted-level-1);\n",
       "}\n",
       "\n",
       ".sk-estimator-doc-link.fitted,\n",
       "a:link.sk-estimator-doc-link.fitted,\n",
       "a:visited.sk-estimator-doc-link.fitted {\n",
       "  /* fitted */\n",
       "  border: var(--sklearn-color-fitted-level-1) 1pt solid;\n",
       "  color: var(--sklearn-color-fitted-level-1);\n",
       "}\n",
       "\n",
       "/* On hover */\n",
       "div.sk-estimator:hover .sk-estimator-doc-link:hover,\n",
       ".sk-estimator-doc-link:hover,\n",
       "div.sk-label-container:hover .sk-estimator-doc-link:hover,\n",
       ".sk-estimator-doc-link:hover {\n",
       "  /* unfitted */\n",
       "  background-color: var(--sklearn-color-unfitted-level-3);\n",
       "  color: var(--sklearn-color-background);\n",
       "  text-decoration: none;\n",
       "}\n",
       "\n",
       "div.sk-estimator.fitted:hover .sk-estimator-doc-link.fitted:hover,\n",
       ".sk-estimator-doc-link.fitted:hover,\n",
       "div.sk-label-container:hover .sk-estimator-doc-link.fitted:hover,\n",
       ".sk-estimator-doc-link.fitted:hover {\n",
       "  /* fitted */\n",
       "  background-color: var(--sklearn-color-fitted-level-3);\n",
       "  color: var(--sklearn-color-background);\n",
       "  text-decoration: none;\n",
       "}\n",
       "\n",
       "/* Span, style for the box shown on hovering the info icon */\n",
       ".sk-estimator-doc-link span {\n",
       "  display: none;\n",
       "  z-index: 9999;\n",
       "  position: relative;\n",
       "  font-weight: normal;\n",
       "  right: .2ex;\n",
       "  padding: .5ex;\n",
       "  margin: .5ex;\n",
       "  width: min-content;\n",
       "  min-width: 20ex;\n",
       "  max-width: 50ex;\n",
       "  color: var(--sklearn-color-text);\n",
       "  box-shadow: 2pt 2pt 4pt #999;\n",
       "  /* unfitted */\n",
       "  background: var(--sklearn-color-unfitted-level-0);\n",
       "  border: .5pt solid var(--sklearn-color-unfitted-level-3);\n",
       "}\n",
       "\n",
       ".sk-estimator-doc-link.fitted span {\n",
       "  /* fitted */\n",
       "  background: var(--sklearn-color-fitted-level-0);\n",
       "  border: var(--sklearn-color-fitted-level-3);\n",
       "}\n",
       "\n",
       ".sk-estimator-doc-link:hover span {\n",
       "  display: block;\n",
       "}\n",
       "\n",
       "/* \"?\"-specific style due to the `<a>` HTML tag */\n",
       "\n",
       "#sk-container-id-1 a.estimator_doc_link {\n",
       "  float: right;\n",
       "  font-size: 1rem;\n",
       "  line-height: 1em;\n",
       "  font-family: monospace;\n",
       "  background-color: var(--sklearn-color-background);\n",
       "  border-radius: 1rem;\n",
       "  height: 1rem;\n",
       "  width: 1rem;\n",
       "  text-decoration: none;\n",
       "  /* unfitted */\n",
       "  color: var(--sklearn-color-unfitted-level-1);\n",
       "  border: var(--sklearn-color-unfitted-level-1) 1pt solid;\n",
       "}\n",
       "\n",
       "#sk-container-id-1 a.estimator_doc_link.fitted {\n",
       "  /* fitted */\n",
       "  border: var(--sklearn-color-fitted-level-1) 1pt solid;\n",
       "  color: var(--sklearn-color-fitted-level-1);\n",
       "}\n",
       "\n",
       "/* On hover */\n",
       "#sk-container-id-1 a.estimator_doc_link:hover {\n",
       "  /* unfitted */\n",
       "  background-color: var(--sklearn-color-unfitted-level-3);\n",
       "  color: var(--sklearn-color-background);\n",
       "  text-decoration: none;\n",
       "}\n",
       "\n",
       "#sk-container-id-1 a.estimator_doc_link.fitted:hover {\n",
       "  /* fitted */\n",
       "  background-color: var(--sklearn-color-fitted-level-3);\n",
       "}\n",
       "</style><div id=\"sk-container-id-1\" class=\"sk-top-container\"><div class=\"sk-text-repr-fallback\"><pre>XGBRegressor(base_score=None, booster=None, callbacks=None,\n",
       "             colsample_bylevel=None, colsample_bynode=None,\n",
       "             colsample_bytree=None, device=None, early_stopping_rounds=None,\n",
       "             enable_categorical=False, eval_metric=None, feature_types=None,\n",
       "             feature_weights=None, gamma=None, grow_policy=None,\n",
       "             importance_type=None, interaction_constraints=None,\n",
       "             learning_rate=None, max_bin=None, max_cat_threshold=None,\n",
       "             max_cat_to_onehot=None, max_delta_step=None, max_depth=None,\n",
       "             max_leaves=None, min_child_weight=None, missing=nan,\n",
       "             monotone_constraints=None, multi_strategy=None, n_estimators=100,\n",
       "             n_jobs=None, num_parallel_tree=None, ...)</pre><b>In a Jupyter environment, please rerun this cell to show the HTML representation or trust the notebook. <br />On GitHub, the HTML representation is unable to render, please try loading this page with nbviewer.org.</b></div><div class=\"sk-container\" hidden><div class=\"sk-item\"><div class=\"sk-estimator fitted sk-toggleable\"><input class=\"sk-toggleable__control sk-hidden--visually\" id=\"sk-estimator-id-1\" type=\"checkbox\" checked><label for=\"sk-estimator-id-1\" class=\"sk-toggleable__label fitted sk-toggleable__label-arrow fitted\">&nbsp;&nbsp;XGBRegressor<a class=\"sk-estimator-doc-link fitted\" rel=\"noreferrer\" target=\"_blank\" href=\"https://xgboost.readthedocs.io/en/release_3.0.0/python/python_api.html#xgboost.XGBRegressor\">?<span>Documentation for XGBRegressor</span></a><span class=\"sk-estimator-doc-link fitted\">i<span>Fitted</span></span></label><div class=\"sk-toggleable__content fitted\"><pre>XGBRegressor(base_score=None, booster=None, callbacks=None,\n",
       "             colsample_bylevel=None, colsample_bynode=None,\n",
       "             colsample_bytree=None, device=None, early_stopping_rounds=None,\n",
       "             enable_categorical=False, eval_metric=None, feature_types=None,\n",
       "             feature_weights=None, gamma=None, grow_policy=None,\n",
       "             importance_type=None, interaction_constraints=None,\n",
       "             learning_rate=None, max_bin=None, max_cat_threshold=None,\n",
       "             max_cat_to_onehot=None, max_delta_step=None, max_depth=None,\n",
       "             max_leaves=None, min_child_weight=None, missing=nan,\n",
       "             monotone_constraints=None, multi_strategy=None, n_estimators=100,\n",
       "             n_jobs=None, num_parallel_tree=None, ...)</pre></div> </div></div></div></div>"
      ],
      "text/plain": [
       "XGBRegressor(base_score=None, booster=None, callbacks=None,\n",
       "             colsample_bylevel=None, colsample_bynode=None,\n",
       "             colsample_bytree=None, device=None, early_stopping_rounds=None,\n",
       "             enable_categorical=False, eval_metric=None, feature_types=None,\n",
       "             feature_weights=None, gamma=None, grow_policy=None,\n",
       "             importance_type=None, interaction_constraints=None,\n",
       "             learning_rate=None, max_bin=None, max_cat_threshold=None,\n",
       "             max_cat_to_onehot=None, max_delta_step=None, max_depth=None,\n",
       "             max_leaves=None, min_child_weight=None, missing=nan,\n",
       "             monotone_constraints=None, multi_strategy=None, n_estimators=100,\n",
       "             n_jobs=None, num_parallel_tree=None, ...)"
      ]
     },
     "execution_count": 49,
     "metadata": {},
     "output_type": "execute_result"
    }
   ],
   "source": [
    "#Train Models\n",
    "lr.fit(X_train, y_train)\n",
    "rf.fit(X_train, y_train)\n",
    "dt.fit(X_train, y_train)\n",
    "xgb.fit(X_train, y_train)"
   ]
  },
  {
   "cell_type": "code",
   "execution_count": 50,
   "id": "a36b5939",
   "metadata": {},
   "outputs": [],
   "source": [
    "#Make predictions\n",
    "y_pred_lr = lr.predict(X_test)\n",
    "y_pred_rf = rf.predict(X_test)\n",
    "y_pred_dt = dt.predict(X_test)\n",
    "y_pred_xgb = xgb.predict(X_test)"
   ]
  },
  {
   "cell_type": "code",
   "execution_count": 51,
   "id": "b8da1137",
   "metadata": {
    "scrolled": false
   },
   "outputs": [
    {
     "name": "stdout",
     "output_type": "stream",
     "text": [
      "Linear Regression Performance:\n",
      "MAE: 7.85\n",
      "MSE: 87.71\n",
      "RMSE: 9.37\n",
      "R2 Score: 0.0599\n",
      "----------------------------------------\n",
      "Random Forest Performance:\n",
      "MAE: 2.08\n",
      "MSE: 9.48\n",
      "RMSE: 3.08\n",
      "R2 Score: 0.8984\n",
      "----------------------------------------\n",
      "Decision Tree Performance:\n",
      "MAE: 2.07\n",
      "MSE: 15.16\n",
      "RMSE: 3.89\n",
      "R2 Score: 0.8375\n",
      "----------------------------------------\n",
      "XGBoost Performance:\n",
      "MAE: 4.01\n",
      "MSE: 27.13\n",
      "RMSE: 5.21\n",
      "R2 Score: 0.7093\n",
      "----------------------------------------\n"
     ]
    }
   ],
   "source": [
    "def evaluate(model_name, y_test, y_pred):\n",
    "    print(f\"{model_name} Performance:\")\n",
    "    print(f\"MAE: {mean_absolute_error(y_test, y_pred):.2f}\")\n",
    "    print(f\"MSE: {mean_squared_error(y_test, y_pred):.2f}\")\n",
    "    print(f\"RMSE: {mean_squared_error(y_test, y_pred, squared=False):.2f}\")\n",
    "    print(f\"R2 Score: {r2_score(y_test, y_pred):.4f}\")\n",
    "    print(\"-\"*40)\n",
    "\n",
    "evaluate(\"Linear Regression\", y_test, y_pred_lr)\n",
    "evaluate(\"Random Forest\", y_test, y_pred_rf)\n",
    "evaluate(\"Decision Tree\", y_test, y_pred_dt)\n",
    "evaluate(\"XGBoost\", y_test, y_pred_xgb)"
   ]
  },
  {
   "cell_type": "markdown",
   "id": "bb3d2b3a",
   "metadata": {},
   "source": [
    "The model with better performance is Random Forest, with lower MSE, RMSE and higher R2."
   ]
  },
  {
   "cell_type": "code",
   "execution_count": 52,
   "id": "d48cade1",
   "metadata": {
    "scrolled": false
   },
   "outputs": [
    {
     "data": {
      "image/png": "[encoded data removed]",
      "text/plain": [
       "<Figure size 400x300 with 1 Axes>"
      ]
     },
     "metadata": {},
     "output_type": "display_data"
    },
    {
     "data": {
      "image/png": "[encoded data removed]",
      "text/plain": [
       "<Figure size 400x300 with 1 Axes>"
      ]
     },
     "metadata": {},
     "output_type": "display_data"
    },
    {
     "data": {
      "image/png": "[encoded data removed]",
      "text/plain": [
       "<Figure size 400x300 with 1 Axes>"
      ]
     },
     "metadata": {},
     "output_type": "display_data"
    },
    {
     "data": {
      "image/png": "[encoded data removed]",
      "text/plain": [
       "<Figure size 400x300 with 1 Axes>"
      ]
     },
     "metadata": {},
     "output_type": "display_data"
    }
   ],
   "source": [
    "#Plot the predictions vs actual Linear Regression Performance \n",
    "plt.figure(figsize=(4,3))\n",
    "sns.scatterplot(x=y_test, y=y_pred_lr, alpha=0.3)\n",
    "plt.xlabel(\"Actual Values\")\n",
    "plt.ylabel(\"Predicted Values\")\n",
    "plt.title(\"Actual vs Predicted Values Linear Regression Performance\")\n",
    "plt.plot([y_test.min(), y_test.max()], [y_test.min(), y_test.max()], 'r--')\n",
    "plt.show()\n",
    "\n",
    "#Plot the predictions vs actual Random Forest Performance \n",
    "plt.figure(figsize=(4,3))\n",
    "sns.scatterplot(x=y_test, y=y_pred_rf, alpha=0.3)\n",
    "plt.xlabel(\"Actual Values\")\n",
    "plt.ylabel(\"Predicted Values\")\n",
    "plt.title(\"Actual vs Predicted Values Random Forest Performance\")\n",
    "plt.plot([y_test.min(), y_test.max()], [y_test.min(), y_test.max()], 'r--')\n",
    "plt.show()\n",
    "\n",
    "#Plot the predictions vs actual Decision Tree Performance \n",
    "plt.figure(figsize=(4,3))\n",
    "sns.scatterplot(x=y_test, y=y_pred_dt, alpha=0.3)\n",
    "plt.xlabel(\"Actual Values\")\n",
    "plt.ylabel(\"Predicted Values\")\n",
    "plt.title(\"Actual vs Predicted Values Decision Tree Performance\")\n",
    "plt.plot([y_test.min(), y_test.max()], [y_test.min(), y_test.max()], 'r--')\n",
    "plt.show()\n",
    "\n",
    "#Plot the predictions vs actual XGBoost Performance \n",
    "plt.figure(figsize=(4,3))\n",
    "sns.scatterplot(x=y_test, y=y_pred_xgb, alpha=0.3)\n",
    "plt.xlabel(\"Actual Values\")\n",
    "plt.ylabel(\"Predicted Values\")\n",
    "plt.title(\"Actual vs Predicted Values XGBoost Performance\")\n",
    "plt.plot([y_test.min(), y_test.max()], [y_test.min(), y_test.max()], 'r--')\n",
    "plt.show()"
   ]
  },
  {
   "cell_type": "markdown",
   "id": "000e3fdb",
   "metadata": {},
   "source": [
    "#### Hyperparameter tuning and Cross-validation"
   ]
  },
  {
   "cell_type": "markdown",
   "id": "061a6ef8",
   "metadata": {},
   "source": [
    "Linear Regression"
   ]
  },
  {
   "cell_type": "code",
   "execution_count": 53,
   "id": "031a4fe2",
   "metadata": {},
   "outputs": [
    {
     "name": "stdout",
     "output_type": "stream",
     "text": [
      "Best Linear Regression Params: {'fit_intercept': False}\n",
      "Cross-validated MAE (Linear Regression): 7.875893797598683\n"
     ]
    }
   ],
   "source": [
    "lr = LinearRegression()\n",
    "\n",
    "param_grid_lr = {\n",
    "    'fit_intercept': [True, False]\n",
    "}\n",
    "\n",
    "grid_search_lr = GridSearchCV(lr, param_grid_lr, cv=5, scoring='neg_mean_absolute_error', n_jobs=-1)\n",
    "grid_search_lr.fit(X_train, y_train)\n",
    "\n",
    "# Results\n",
    "print(\"Best Linear Regression Params:\", grid_search_lr.best_params_)\n",
    "cv_scores_lr = cross_val_score(grid_search_lr.best_estimator_, X_train, y_train, cv=5, scoring='neg_mean_absolute_error')\n",
    "print(\"Cross-validated MAE (Linear Regression):\", -np.mean(cv_scores_lr))"
   ]
  },
  {
   "cell_type": "markdown",
   "id": "c09a81ad",
   "metadata": {},
   "source": [
    "Random Forest "
   ]
  },
  {
   "cell_type": "code",
   "execution_count": 54,
   "id": "e4eb3192",
   "metadata": {},
   "outputs": [
    {
     "name": "stdout",
     "output_type": "stream",
     "text": [
      "Best Random Forest Params: {'max_depth': None, 'min_samples_leaf': 1, 'min_samples_split': 2, 'n_estimators': 100}\n",
      "Cross-validated MAE (Random Forest): 2.376745041322314\n"
     ]
    }
   ],
   "source": [
    "rf = RandomForestRegressor(random_state=42)\n",
    "\n",
    "param_grid_rf = {\n",
    "    'n_estimators': [100],\n",
    "    'max_depth': [None, 20],\n",
    "    'min_samples_split': [2, 5],\n",
    "    'min_samples_leaf': [1, 2]\n",
    "}\n",
    "\n",
    "grid_search_rf = GridSearchCV(rf, param_grid_rf, cv=3, scoring='neg_mean_absolute_error', n_jobs=-1)\n",
    "grid_search_rf.fit(X_train, y_train)\n",
    "\n",
    "# Results\n",
    "print(\"Best Random Forest Params:\", grid_search_rf.best_params_)\n",
    "cv_scores_rf = cross_val_score(grid_search_rf.best_estimator_, X_train, y_train, cv=5, scoring='neg_mean_absolute_error')\n",
    "print(\"Cross-validated MAE (Random Forest):\", -np.mean(cv_scores_rf))"
   ]
  },
  {
   "cell_type": "markdown",
   "id": "555858a9",
   "metadata": {},
   "source": [
    "Decision Tree"
   ]
  },
  {
   "cell_type": "code",
   "execution_count": 55,
   "id": "bbfaf468",
   "metadata": {},
   "outputs": [
    {
     "name": "stdout",
     "output_type": "stream",
     "text": [
      "Best Decision Tree Params: {'max_depth': None, 'min_samples_leaf': 1, 'min_samples_split': 2}\n",
      "Cross-validated MAE (Decision Tree): 2.4722933884297524\n"
     ]
    }
   ],
   "source": [
    "dt = DecisionTreeRegressor(random_state=42)\n",
    "\n",
    "param_grid_dt = {\n",
    "    'max_depth': [None, 10, 20],\n",
    "    'min_samples_split': [2, 5, 10],\n",
    "    'min_samples_leaf': [1, 2, 4]\n",
    "}\n",
    "\n",
    "grid_search_dt = GridSearchCV(dt, param_grid_dt, cv=3, scoring='neg_mean_absolute_error', n_jobs=-1)\n",
    "grid_search_dt.fit(X_train, y_train)\n",
    "\n",
    "# Results\n",
    "print(\"Best Decision Tree Params:\", grid_search_dt.best_params_)\n",
    "cv_scores_dt = cross_val_score(grid_search_dt.best_estimator_, X_train, y_train, cv=5, scoring='neg_mean_absolute_error')\n",
    "print(\"Cross-validated MAE (Decision Tree):\", -np.mean(cv_scores_dt))"
   ]
  },
  {
   "cell_type": "markdown",
   "id": "80fe8b44",
   "metadata": {},
   "source": [
    "XGBoost"
   ]
  },
  {
   "cell_type": "code",
   "execution_count": 56,
   "id": "1f104d57",
   "metadata": {},
   "outputs": [
    {
     "name": "stdout",
     "output_type": "stream",
     "text": [
      "Best XGBoost Params: {'learning_rate': 0.1, 'max_depth': 6, 'n_estimators': 200, 'subsample': 0.8}\n",
      "Cross-validated MAE (XGBoost): 4.397865730343985\n"
     ]
    }
   ],
   "source": [
    "xgb = XGBRegressor(random_state=42, verbosity=0)\n",
    "\n",
    "param_grid_xgb = {\n",
    "    'n_estimators': [100, 200],\n",
    "    'max_depth': [3, 6],\n",
    "    'learning_rate': [0.01, 0.1],\n",
    "    'subsample': [0.8, 1]\n",
    "}\n",
    "\n",
    "grid_search_xgb = GridSearchCV(xgb, param_grid_xgb, cv=3, scoring='neg_mean_absolute_error', n_jobs=-1)\n",
    "grid_search_xgb.fit(X_train, y_train)\n",
    "\n",
    "# Results\n",
    "print(\"Best XGBoost Params:\", grid_search_xgb.best_params_)\n",
    "cv_scores_xgb = cross_val_score(grid_search_xgb.best_estimator_, X_train, y_train, cv=5, scoring='neg_mean_absolute_error')\n",
    "print(\"Cross-validated MAE (XGBoost):\", -np.mean(cv_scores_xgb))"
   ]
  },
  {
   "cell_type": "markdown",
   "id": "c8b391f6",
   "metadata": {},
   "source": [
    "We are going to plot the comparison in a bar chart"
   ]
  },
  {
   "cell_type": "code",
   "execution_count": 57,
   "id": "c65f3d66",
   "metadata": {
    "scrolled": false
   },
   "outputs": [
    {
     "data": {
      "image/png": "[encoded data removed]",
      "text/plain": [
       "<Figure size 600x500 with 1 Axes>"
      ]
     },
     "metadata": {},
     "output_type": "display_data"
    }
   ],
   "source": [
    "# Model names\n",
    "models = ['Linear Regression', 'Random Forest', 'Decision Tree', 'XGBoost']\n",
    "\n",
    "# Values\n",
    "test_mae = [7.85, 2.08, 2.07, 4.01]\n",
    "cv_mae = [7.88, 2.38, 2.47, 4.40]\n",
    "\n",
    "x = np.arange(len(models))  # label locations\n",
    "width = 0.35  # bar width\n",
    "\n",
    "fig, ax = plt.subplots(figsize=(6, 5))\n",
    "rects1 = ax.bar(x - width/2, test_mae, width, label='Test MAE', color='skyblue')\n",
    "rects2 = ax.bar(x + width/2, cv_mae, width, label='Cross-validated MAE', color='orange')\n",
    "\n",
    "# Labels and title\n",
    "ax.set_ylabel('Mean Absolute Error')\n",
    "ax.set_title('Model Comparison: Test MAE vs Cross-validated MAE')\n",
    "ax.set_xticks(x)\n",
    "ax.set_xticklabels(models, rotation=15)\n",
    "ax.legend()\n",
    "\n",
    "# Show values on top of bars\n",
    "def add_labels(rects):\n",
    "    for rect in rects:\n",
    "        height = rect.get_height()\n",
    "        ax.annotate(f'{height:.2f}',\n",
    "                    xy=(rect.get_x() + rect.get_width() / 2, height),\n",
    "                    xytext=(0, 3),  # 3 points vertical offset\n",
    "                    textcoords=\"offset points\",\n",
    "                    ha='center', va='bottom')\n",
    "\n",
    "add_labels(rects1)\n",
    "add_labels(rects2)\n",
    "\n",
    "plt.tight_layout()\n",
    "plt.show()"
   ]
  },
  {
   "cell_type": "markdown",
   "id": "a08fba9b",
   "metadata": {},
   "source": [
    "We avaluated the predictive performance of four machine learning models to forecast bike availability: Linear Regression, Random Forest, Decision Tree, and XGBoost.\n",
    "\n",
    "We are considering: MAE (Mean Absolute Error), which tell us the average absolute difference between predicted and actual bike availability and R2 (Coefficient of Determination) indicates how muchof the variability in the target variable is explained by the model. Closer to 1 is better. \n",
    "\n",
    "Linear Regression performed poorly (High MAE(7.85, very low R2 (0.06)), Random Forest performed best overall (good combination, with lower test MAE(2.08 and highest R2 (0.90)), Decision Tree performed slightly worse than Random Forest (Similar MAE (2.07) but lower R2 (0.84)), and XGBoost performed decently, but not as well as Random Forest (MAE (4.01), R2(0.71)). "
   ]
  }
 ],
 "metadata": {
  "kernelspec": {
   "display_name": "Python 3 (ipykernel)",
   "language": "python",
   "name": "python3"
  },
  "language_info": {
   "codemirror_mode": {
    "name": "ipython",
    "version": 3
   },
   "file_extension": ".py",
   "mimetype": "text/x-python",
   "name": "python",
   "nbconvert_exporter": "python",
   "pygments_lexer": "ipython3",
   "version": "3.12.3"
  }
 },
 "nbformat": 4,
 "nbformat_minor": 5
}
